{
 "metadata": {
  "language_info": {
   "codemirror_mode": {
    "name": "ipython",
    "version": 3
   },
   "file_extension": ".py",
   "mimetype": "text/x-python",
   "name": "python",
   "nbconvert_exporter": "python",
   "pygments_lexer": "ipython3",
   "version": "3.9.1"
  },
  "orig_nbformat": 2,
  "kernelspec": {
   "name": "python3",
   "display_name": "Python 3.9.1 64-bit"
  },
  "interpreter": {
   "hash": "5a06ee7dfc3be38b346c7eeec74a298f806dd2de984ba6d6514b00d6ac1942b5"
  }
 },
 "nbformat": 4,
 "nbformat_minor": 2,
 "cells": [
  {
   "source": [
    "# Tracking College of Marine Science K-Index Trends\n",
    "## Faculty Active on Twitter\n",
    "\n",
    "This notebook builds a time series figure to track the evolution of CMS faculty Twitter users' K-index. A K-index above 5 indicates a scientist has \"gone Kardashian\" - having a social media impact that far outweighs the publication and citation impact of the scientist. Despite the negative connotation of \"going Kardashian,\" several prominent, accomplished, and respected scientists are stratospheric with respect to the K-index! Thus, I think it is a good indication of a scientist's overall impact. "
   ],
   "cell_type": "markdown",
   "metadata": {}
  },
  {
   "cell_type": "code",
   "execution_count": 10,
   "metadata": {},
   "outputs": [
    {
     "output_type": "stream",
     "name": "stdout",
     "text": [
      "           Year     F      C         K\nName                                  \nName1  2/7/2019   953   1189  2.283215\nName2  2/7/2019   362    915  0.943118\nName3  2/7/2019  1172   1247  2.765429\nName4  2/7/2019   124    777  0.340407\nName5  2/7/2019  4245  13791  4.642150\n"
     ]
    }
   ],
   "source": [
    "#Load data and packages\n",
    "import pandas as pd \n",
    "import matplotlib.pyplot as plt \n",
    "import numpy as np \n",
    "import plotly\n",
    "import os\n",
    "\n",
    "K_df = pd.read_csv('K-index_python_anonymized.csv', index_col='Name')\n",
    "print(K_df.head())"
   ]
  },
  {
   "source": [
    "## Data organization\n",
    "Because we specified the Name column as the index in reading the data from the csv file, we can loop through the names and work on a mini-dataframe for each person inthe data set. This allows us to compute a linear regression through F (followers) vs. C (citations) to map each person's trend in time. "
   ],
   "cell_type": "markdown",
   "metadata": {}
  },
  {
   "cell_type": "code",
   "execution_count": 12,
   "metadata": {},
   "outputs": [
    {
     "output_type": "stream",
     "name": "stdout",
     "text": [
      "Index(['Name1', 'Name2', 'Name3', 'Name4', 'Name5', 'Name6', 'Name7', 'Name8'], dtype='object', name='Name')\n{'Name1': poly1d([   1.10978307, -377.48765194]), 'Name2': poly1d([   0.70865073, -285.81848491]), 'Name3': poly1d([  0.78323685, 164.67270135]), 'Name4': poly1d([ 0.17058036, -4.36281569]), 'Name5': poly1d([ 5.15402751e-01, -2.81645984e+03]), 'Name6': ' ', 'Name7': poly1d([  2.50423729, 806.03813559]), 'Name8': poly1d([   0.32917706, -238.81795511])}\n"
     ]
    }
   ],
   "source": [
    "#Make a container of coefficients from linear models:\n",
    "keys_from_indices=K_df.index.unique(level='Name')\n",
    "print(keys_from_indices)\n",
    "mods={k:None for k in keys_from_indices} #Initialize dict keys from indices of K_df, all with values of None that will be replaced as we loop through\n",
    "\n",
    "#Loop through the names and calculate a linear regression between F and C (Follower and Citations)\n",
    "for individual in K_df.index: \n",
    "    if (K_df.loc[individual]['C']).size>=2:\n",
    "        #print(K_df.loc[individual][:]) #Use this to see what the data frames look              like while iterating\n",
    "        x=K_df.loc[individual]['C']\n",
    "        y=K_df.loc[individual]['F']\n",
    "        z=np.polyfit(x, y, 1)\n",
    "        mods[individual]=np.poly1d(z)  \n",
    "    else: \n",
    "        mods[individual]=' '\n",
    "print(mods)"
   ]
  },
  {
   "source": [
    "## Plotting the Faculty Data in Followers/Citations Space\n",
    "Here, we plot the data from the K_df DataFrame as well as the trend lines. The data will not make much graphical sense until the framework of the K-index is added, which occurs in the second part of the code cell!\n",
    "\n",
    "## Kardashian Index Lines\n",
    "The final flourish of this plot is the lines for K_indices 1-5. Above 5, and one is considered a scientific Kardashian."
   ],
   "cell_type": "markdown",
   "metadata": {}
  },
  {
   "cell_type": "code",
   "execution_count": 17,
   "metadata": {},
   "outputs": [
    {
     "output_type": "stream",
     "name": "stderr",
     "text": [
      "<ipython-input-17-042800b2069f>:34: RuntimeWarning: invalid value encountered in power\n  k[j]=np.multiply(np.multiply(np.power(xes,0.32), 43.3), j+1)\n<ipython-input-17-042800b2069f>:34: RuntimeWarning: invalid value encountered in power\n  k[j]=np.multiply(np.multiply(np.power(xes,0.32), 43.3), j+1)\n<ipython-input-17-042800b2069f>:34: RuntimeWarning: invalid value encountered in power\n  k[j]=np.multiply(np.multiply(np.power(xes,0.32), 43.3), j+1)\n<ipython-input-17-042800b2069f>:34: RuntimeWarning: invalid value encountered in power\n  k[j]=np.multiply(np.multiply(np.power(xes,0.32), 43.3), j+1)\n<ipython-input-17-042800b2069f>:34: RuntimeWarning: invalid value encountered in power\n  k[j]=np.multiply(np.multiply(np.power(xes,0.32), 43.3), j+1)\n"
     ]
    },
    {
     "output_type": "display_data",
     "data": {
      "text/plain": "<Figure size 432x288 with 1 Axes>",
      "image/svg+xml": "<?xml version=\"1.0\" encoding=\"utf-8\" standalone=\"no\"?>\r\n<!DOCTYPE svg PUBLIC \"-//W3C//DTD SVG 1.1//EN\"\r\n  \"http://www.w3.org/Graphics/SVG/1.1/DTD/svg11.dtd\">\r\n<!-- Created with matplotlib (https://matplotlib.org/) -->\r\n<svg height=\"262.19625pt\" version=\"1.1\" viewBox=\"0 0 395.328125 262.19625\" width=\"395.328125pt\" xmlns=\"http://www.w3.org/2000/svg\" xmlns:xlink=\"http://www.w3.org/1999/xlink\">\r\n <metadata>\r\n  <rdf:RDF xmlns:cc=\"http://creativecommons.org/ns#\" xmlns:dc=\"http://purl.org/dc/elements/1.1/\" xmlns:rdf=\"http://www.w3.org/1999/02/22-rdf-syntax-ns#\">\r\n   <cc:Work>\r\n    <dc:type rdf:resource=\"http://purl.org/dc/dcmitype/StillImage\"/>\r\n    <dc:date>2021-06-17T21:05:11.929188</dc:date>\r\n    <dc:format>image/svg+xml</dc:format>\r\n    <dc:creator>\r\n     <cc:Agent>\r\n      <dc:title>Matplotlib v3.3.3, https://matplotlib.org/</dc:title>\r\n     </cc:Agent>\r\n    </dc:creator>\r\n   </cc:Work>\r\n  </rdf:RDF>\r\n </metadata>\r\n <defs>\r\n  <style type=\"text/css\">*{stroke-linecap:butt;stroke-linejoin:round;}</style>\r\n </defs>\r\n <g id=\"figure_1\">\r\n  <g id=\"patch_1\">\r\n   <path d=\"M 0 262.19625 \r\nL 395.328125 262.19625 \r\nL 395.328125 0 \r\nL 0 0 \r\nz\r\n\" style=\"fill:none;\"/>\r\n  </g>\r\n  <g id=\"axes_1\">\r\n   <g id=\"patch_2\">\r\n    <path d=\"M 53.328125 224.64 \r\nL 388.128125 224.64 \r\nL 388.128125 7.2 \r\nL 53.328125 7.2 \r\nz\r\n\" style=\"fill:#ffffff;\"/>\r\n   </g>\r\n   <g id=\"PathCollection_1\">\r\n    <defs>\r\n     <path d=\"M 0 3.535534 \r\nC 0.937635 3.535534 1.836992 3.163008 2.5 2.5 \r\nC 3.163008 1.836992 3.535534 0.937635 3.535534 0 \r\nC 3.535534 -0.937635 3.163008 -1.836992 2.5 -2.5 \r\nC 1.836992 -3.163008 0.937635 -3.535534 0 -3.535534 \r\nC -0.937635 -3.535534 -1.836992 -3.163008 -2.5 -2.5 \r\nC -3.163008 -1.836992 -3.535534 -0.937635 -3.535534 0 \r\nC -3.535534 0.937635 -3.163008 1.836992 -2.5 2.5 \r\nC -1.836992 3.163008 -0.937635 3.535534 0 3.535534 \r\nz\r\n\" id=\"m538aec8120\" style=\"stroke:#000000;\"/>\r\n    </defs>\r\n    <g clip-path=\"url(#p8a045c3756)\">\r\n     <use style=\"fill:#ff0000;stroke:#000000;\" x=\"85.929099\" xlink:href=\"#m538aec8120\" y=\"188.60045\"/>\r\n     <use style=\"fill:#ff0000;stroke:#000000;\" x=\"90.473421\" xlink:href=\"#m538aec8120\" y=\"180.270943\"/>\r\n     <use style=\"fill:#ff0000;stroke:#000000;\" x=\"97.513678\" xlink:href=\"#m538aec8120\" y=\"165.157936\"/>\r\n    </g>\r\n   </g>\r\n   <g id=\"PathCollection_2\">\r\n    <defs>\r\n     <path d=\"M 0 -3.535534 \r\nL -3.535534 3.535534 \r\nL 3.535534 3.535534 \r\nz\r\n\" id=\"ma01e100209\" style=\"stroke:#000000;\"/>\r\n    </defs>\r\n    <g clip-path=\"url(#p8a045c3756)\">\r\n     <use style=\"fill:#ffff00;stroke:#000000;\" x=\"81.212643\" xlink:href=\"#ma01e100209\" y=\"207.247187\"/>\r\n     <use style=\"fill:#ffff00;stroke:#000000;\" x=\"86.686486\" xlink:href=\"#ma01e100209\" y=\"200.085073\"/>\r\n     <use style=\"fill:#ffff00;stroke:#000000;\" x=\"93.86445\" xlink:href=\"#ma01e100209\" y=\"190.809031\"/>\r\n    </g>\r\n   </g>\r\n   <g id=\"PathCollection_3\">\r\n    <defs>\r\n     <path d=\"M -3.535534 3.535534 \r\nL 3.535534 3.535534 \r\nL 3.535534 -3.535534 \r\nL -3.535534 -3.535534 \r\nz\r\n\" id=\"mbc4fdb412f\" style=\"stroke:#000000;\"/>\r\n    </defs>\r\n    <g clip-path=\"url(#p8a045c3756)\">\r\n     <use style=\"fill:#add8e6;stroke:#000000;\" x=\"86.927473\" xlink:href=\"#mbc4fdb412f\" y=\"181.690745\"/>\r\n     <use style=\"fill:#add8e6;stroke:#000000;\" x=\"98.339919\" xlink:href=\"#mbc4fdb412f\" y=\"169.35424\"/>\r\n     <use style=\"fill:#add8e6;stroke:#000000;\" x=\"103.555561\" xlink:href=\"#mbc4fdb412f\" y=\"156.670673\"/>\r\n    </g>\r\n   </g>\r\n   <g id=\"PathCollection_4\">\r\n    <defs>\r\n     <path d=\"M -1.767767 3.535534 \r\nL 0 1.767767 \r\nL 1.767767 3.535534 \r\nL 3.535534 1.767767 \r\nL 1.767767 0 \r\nL 3.535534 -1.767767 \r\nL 1.767767 -3.535534 \r\nL 0 -1.767767 \r\nL -1.767767 -3.535534 \r\nL -3.535534 -1.767767 \r\nL -1.767767 0 \r\nL -3.535534 1.767767 \r\nz\r\n\" id=\"m447fa1bf13\" style=\"stroke:#000000;\"/>\r\n    </defs>\r\n    <g clip-path=\"url(#p8a045c3756)\">\r\n     <use style=\"fill:#ffc0cb;stroke:#000000;\" x=\"78.837202\" xlink:href=\"#m447fa1bf13\" y=\"214.756364\"/>\r\n     <use style=\"fill:#ffc0cb;stroke:#000000;\" x=\"81.694617\" xlink:href=\"#m447fa1bf13\" y=\"213.525868\"/>\r\n     <use style=\"fill:#ffc0cb;stroke:#000000;\" x=\"86.824193\" xlink:href=\"#m447fa1bf13\" y=\"212.200719\"/>\r\n    </g>\r\n   </g>\r\n   <g id=\"PathCollection_5\">\r\n    <defs>\r\n     <path d=\"M 0 5 \r\nL 3 0 \r\nL 0 -5 \r\nL -3 0 \r\nz\r\n\" id=\"m9bf978d59c\" style=\"stroke:#000000;\"/>\r\n    </defs>\r\n    <g clip-path=\"url(#p8a045c3756)\">\r\n     <use style=\"fill:#90ee90;stroke:#000000;\" x=\"302.85164\" xlink:href=\"#m9bf978d59c\" y=\"84.734021\"/>\r\n     <use style=\"fill:#90ee90;stroke:#000000;\" x=\"333.508602\" xlink:href=\"#m9bf978d59c\" y=\"51.699954\"/>\r\n     <use style=\"fill:#90ee90;stroke:#000000;\" x=\"372.909943\" xlink:href=\"#m9bf978d59c\" y=\"18.22417\"/>\r\n    </g>\r\n   </g>\r\n   <g id=\"PathCollection_6\">\r\n    <g clip-path=\"url(#p8a045c3756)\">\r\n     <use style=\"fill:#ff0000;stroke:#000000;\" x=\"85.929099\" xlink:href=\"#m538aec8120\" y=\"188.60045\"/>\r\n     <use style=\"fill:#ff0000;stroke:#000000;\" x=\"90.473421\" xlink:href=\"#m538aec8120\" y=\"180.270943\"/>\r\n     <use style=\"fill:#ff0000;stroke:#000000;\" x=\"97.513678\" xlink:href=\"#m538aec8120\" y=\"165.157936\"/>\r\n    </g>\r\n   </g>\r\n   <g id=\"PathCollection_7\">\r\n    <g clip-path=\"url(#p8a045c3756)\">\r\n     <use style=\"fill:#ffff00;stroke:#000000;\" x=\"81.212643\" xlink:href=\"#ma01e100209\" y=\"207.247187\"/>\r\n     <use style=\"fill:#ffff00;stroke:#000000;\" x=\"86.686486\" xlink:href=\"#ma01e100209\" y=\"200.085073\"/>\r\n     <use style=\"fill:#ffff00;stroke:#000000;\" x=\"93.86445\" xlink:href=\"#ma01e100209\" y=\"190.809031\"/>\r\n    </g>\r\n   </g>\r\n   <g id=\"PathCollection_8\">\r\n    <g clip-path=\"url(#p8a045c3756)\">\r\n     <use style=\"fill:#add8e6;stroke:#000000;\" x=\"86.927473\" xlink:href=\"#mbc4fdb412f\" y=\"181.690745\"/>\r\n     <use style=\"fill:#add8e6;stroke:#000000;\" x=\"98.339919\" xlink:href=\"#mbc4fdb412f\" y=\"169.35424\"/>\r\n     <use style=\"fill:#add8e6;stroke:#000000;\" x=\"103.555561\" xlink:href=\"#mbc4fdb412f\" y=\"156.670673\"/>\r\n    </g>\r\n   </g>\r\n   <g id=\"PathCollection_9\">\r\n    <g clip-path=\"url(#p8a045c3756)\">\r\n     <use style=\"fill:#ffc0cb;stroke:#000000;\" x=\"78.837202\" xlink:href=\"#m447fa1bf13\" y=\"214.756364\"/>\r\n     <use style=\"fill:#ffc0cb;stroke:#000000;\" x=\"81.694617\" xlink:href=\"#m447fa1bf13\" y=\"213.525868\"/>\r\n     <use style=\"fill:#ffc0cb;stroke:#000000;\" x=\"86.824193\" xlink:href=\"#m447fa1bf13\" y=\"212.200719\"/>\r\n    </g>\r\n   </g>\r\n   <g id=\"PathCollection_10\">\r\n    <g clip-path=\"url(#p8a045c3756)\">\r\n     <use style=\"fill:#90ee90;stroke:#000000;\" x=\"302.85164\" xlink:href=\"#m9bf978d59c\" y=\"84.734021\"/>\r\n     <use style=\"fill:#90ee90;stroke:#000000;\" x=\"333.508602\" xlink:href=\"#m9bf978d59c\" y=\"51.699954\"/>\r\n     <use style=\"fill:#90ee90;stroke:#000000;\" x=\"372.909943\" xlink:href=\"#m9bf978d59c\" y=\"18.22417\"/>\r\n    </g>\r\n   </g>\r\n   <g id=\"PathCollection_11\">\r\n    <defs>\r\n     <path d=\"M 0 3.535534 \r\nC 0.937635 3.535534 1.836992 3.163008 2.5 2.5 \r\nC 3.163008 1.836992 3.535534 0.937635 3.535534 0 \r\nC 3.535534 -0.937635 3.163008 -1.836992 2.5 -2.5 \r\nC 1.836992 -3.163008 0.937635 -3.535534 0 -3.535534 \r\nC -0.937635 -3.535534 -1.836992 -3.163008 -2.5 -2.5 \r\nC -3.163008 -1.836992 -3.535534 -0.937635 -3.535534 0 \r\nC -3.535534 0.937635 -3.163008 1.836992 -2.5 2.5 \r\nC -1.836992 3.163008 -0.937635 3.535534 0 3.535534 \r\nz\r\n\" id=\"mf62197d5c7\" style=\"stroke:#000000;\"/>\r\n    </defs>\r\n    <g clip-path=\"url(#p8a045c3756)\">\r\n     <use style=\"fill:#ffa500;stroke:#000000;\" x=\"71.401038\" xlink:href=\"#mf62197d5c7\" y=\"165.978266\"/>\r\n     <use style=\"fill:#ffa500;stroke:#000000;\" x=\"75.463387\" xlink:href=\"#mf62197d5c7\" y=\"147.331528\"/>\r\n    </g>\r\n   </g>\r\n   <g id=\"PathCollection_12\">\r\n    <defs>\r\n     <path d=\"M 3.535534 0 \r\nL -3.535534 -3.535534 \r\nL -3.535534 3.535534 \r\nz\r\n\" id=\"m4f36e63e2d\" style=\"stroke:#000000;\"/>\r\n    </defs>\r\n    <g clip-path=\"url(#p8a045c3756)\">\r\n     <use style=\"fill:#800080;stroke:#000000;\" x=\"102.109641\" xlink:href=\"#m4f36e63e2d\" y=\"204.092071\"/>\r\n     <use style=\"fill:#800080;stroke:#000000;\" x=\"109.012191\" xlink:href=\"#m4f36e63e2d\" y=\"199.927317\"/>\r\n    </g>\r\n   </g>\r\n   <g id=\"PathCollection_13\">\r\n    <g clip-path=\"url(#p8a045c3756)\">\r\n     <use style=\"fill:#ff0000;stroke:#000000;\" x=\"85.929099\" xlink:href=\"#m538aec8120\" y=\"188.60045\"/>\r\n     <use style=\"fill:#ff0000;stroke:#000000;\" x=\"90.473421\" xlink:href=\"#m538aec8120\" y=\"180.270943\"/>\r\n     <use style=\"fill:#ff0000;stroke:#000000;\" x=\"97.513678\" xlink:href=\"#m538aec8120\" y=\"165.157936\"/>\r\n    </g>\r\n   </g>\r\n   <g id=\"PathCollection_14\">\r\n    <g clip-path=\"url(#p8a045c3756)\">\r\n     <use style=\"fill:#ffff00;stroke:#000000;\" x=\"81.212643\" xlink:href=\"#ma01e100209\" y=\"207.247187\"/>\r\n     <use style=\"fill:#ffff00;stroke:#000000;\" x=\"86.686486\" xlink:href=\"#ma01e100209\" y=\"200.085073\"/>\r\n     <use style=\"fill:#ffff00;stroke:#000000;\" x=\"93.86445\" xlink:href=\"#ma01e100209\" y=\"190.809031\"/>\r\n    </g>\r\n   </g>\r\n   <g id=\"PathCollection_15\">\r\n    <g clip-path=\"url(#p8a045c3756)\">\r\n     <use style=\"fill:#add8e6;stroke:#000000;\" x=\"86.927473\" xlink:href=\"#mbc4fdb412f\" y=\"181.690745\"/>\r\n     <use style=\"fill:#add8e6;stroke:#000000;\" x=\"98.339919\" xlink:href=\"#mbc4fdb412f\" y=\"169.35424\"/>\r\n     <use style=\"fill:#add8e6;stroke:#000000;\" x=\"103.555561\" xlink:href=\"#mbc4fdb412f\" y=\"156.670673\"/>\r\n    </g>\r\n   </g>\r\n   <g id=\"PathCollection_16\">\r\n    <g clip-path=\"url(#p8a045c3756)\">\r\n     <use style=\"fill:#ffc0cb;stroke:#000000;\" x=\"78.837202\" xlink:href=\"#m447fa1bf13\" y=\"214.756364\"/>\r\n     <use style=\"fill:#ffc0cb;stroke:#000000;\" x=\"81.694617\" xlink:href=\"#m447fa1bf13\" y=\"213.525868\"/>\r\n     <use style=\"fill:#ffc0cb;stroke:#000000;\" x=\"86.824193\" xlink:href=\"#m447fa1bf13\" y=\"212.200719\"/>\r\n    </g>\r\n   </g>\r\n   <g id=\"PathCollection_17\">\r\n    <g clip-path=\"url(#p8a045c3756)\">\r\n     <use style=\"fill:#90ee90;stroke:#000000;\" x=\"302.85164\" xlink:href=\"#m9bf978d59c\" y=\"84.734021\"/>\r\n     <use style=\"fill:#90ee90;stroke:#000000;\" x=\"333.508602\" xlink:href=\"#m9bf978d59c\" y=\"51.699954\"/>\r\n     <use style=\"fill:#90ee90;stroke:#000000;\" x=\"372.909943\" xlink:href=\"#m9bf978d59c\" y=\"18.22417\"/>\r\n    </g>\r\n   </g>\r\n   <g id=\"PathCollection_18\">\r\n    <g clip-path=\"url(#p8a045c3756)\">\r\n     <use style=\"fill:#ffa500;stroke:#000000;\" x=\"71.401038\" xlink:href=\"#mf62197d5c7\" y=\"165.978266\"/>\r\n     <use style=\"fill:#ffa500;stroke:#000000;\" x=\"75.463387\" xlink:href=\"#mf62197d5c7\" y=\"147.331528\"/>\r\n    </g>\r\n   </g>\r\n   <g id=\"PathCollection_19\">\r\n    <g clip-path=\"url(#p8a045c3756)\">\r\n     <use style=\"fill:#800080;stroke:#000000;\" x=\"102.109641\" xlink:href=\"#m4f36e63e2d\" y=\"204.092071\"/>\r\n     <use style=\"fill:#800080;stroke:#000000;\" x=\"109.012191\" xlink:href=\"#m4f36e63e2d\" y=\"199.927317\"/>\r\n    </g>\r\n   </g>\r\n   <g id=\"matplotlib.axis_1\">\r\n    <g id=\"xtick_1\">\r\n     <g id=\"line2d_1\">\r\n      <defs>\r\n       <path d=\"M 0 0 \r\nL 0 3.5 \r\n\" id=\"m9e5f48bc35\" style=\"stroke:#000000;stroke-width:0.8;\"/>\r\n      </defs>\r\n      <g>\r\n       <use style=\"stroke:#000000;stroke-width:0.8;\" x=\"65.462435\" xlink:href=\"#m9e5f48bc35\" y=\"224.64\"/>\r\n      </g>\r\n     </g>\r\n     <g id=\"text_1\">\r\n      <!-- 0 -->\r\n      <g transform=\"translate(62.281185 239.238437)scale(0.1 -0.1)\">\r\n       <defs>\r\n        <path d=\"M 31.78125 66.40625 \r\nQ 24.171875 66.40625 20.328125 58.90625 \r\nQ 16.5 51.421875 16.5 36.375 \r\nQ 16.5 21.390625 20.328125 13.890625 \r\nQ 24.171875 6.390625 31.78125 6.390625 \r\nQ 39.453125 6.390625 43.28125 13.890625 \r\nQ 47.125 21.390625 47.125 36.375 \r\nQ 47.125 51.421875 43.28125 58.90625 \r\nQ 39.453125 66.40625 31.78125 66.40625 \r\nz\r\nM 31.78125 74.21875 \r\nQ 44.046875 74.21875 50.515625 64.515625 \r\nQ 56.984375 54.828125 56.984375 36.375 \r\nQ 56.984375 17.96875 50.515625 8.265625 \r\nQ 44.046875 -1.421875 31.78125 -1.421875 \r\nQ 19.53125 -1.421875 13.0625 8.265625 \r\nQ 6.59375 17.96875 6.59375 36.375 \r\nQ 6.59375 54.828125 13.0625 64.515625 \r\nQ 19.53125 74.21875 31.78125 74.21875 \r\nz\r\n\" id=\"DejaVuSans-48\"/>\r\n       </defs>\r\n       <use xlink:href=\"#DejaVuSans-48\"/>\r\n      </g>\r\n     </g>\r\n    </g>\r\n    <g id=\"xtick_2\">\r\n     <g id=\"line2d_2\">\r\n      <g>\r\n       <use style=\"stroke:#000000;stroke-width:0.8;\" x=\"108.495791\" xlink:href=\"#m9e5f48bc35\" y=\"224.64\"/>\r\n      </g>\r\n     </g>\r\n     <g id=\"text_2\">\r\n      <!-- 2500 -->\r\n      <g transform=\"translate(95.770791 239.238437)scale(0.1 -0.1)\">\r\n       <defs>\r\n        <path d=\"M 19.1875 8.296875 \r\nL 53.609375 8.296875 \r\nL 53.609375 0 \r\nL 7.328125 0 \r\nL 7.328125 8.296875 \r\nQ 12.9375 14.109375 22.625 23.890625 \r\nQ 32.328125 33.6875 34.8125 36.53125 \r\nQ 39.546875 41.84375 41.421875 45.53125 \r\nQ 43.3125 49.21875 43.3125 52.78125 \r\nQ 43.3125 58.59375 39.234375 62.25 \r\nQ 35.15625 65.921875 28.609375 65.921875 \r\nQ 23.96875 65.921875 18.8125 64.3125 \r\nQ 13.671875 62.703125 7.8125 59.421875 \r\nL 7.8125 69.390625 \r\nQ 13.765625 71.78125 18.9375 73 \r\nQ 24.125 74.21875 28.421875 74.21875 \r\nQ 39.75 74.21875 46.484375 68.546875 \r\nQ 53.21875 62.890625 53.21875 53.421875 \r\nQ 53.21875 48.921875 51.53125 44.890625 \r\nQ 49.859375 40.875 45.40625 35.40625 \r\nQ 44.1875 33.984375 37.640625 27.21875 \r\nQ 31.109375 20.453125 19.1875 8.296875 \r\nz\r\n\" id=\"DejaVuSans-50\"/>\r\n        <path d=\"M 10.796875 72.90625 \r\nL 49.515625 72.90625 \r\nL 49.515625 64.59375 \r\nL 19.828125 64.59375 \r\nL 19.828125 46.734375 \r\nQ 21.96875 47.46875 24.109375 47.828125 \r\nQ 26.265625 48.1875 28.421875 48.1875 \r\nQ 40.625 48.1875 47.75 41.5 \r\nQ 54.890625 34.8125 54.890625 23.390625 \r\nQ 54.890625 11.625 47.5625 5.09375 \r\nQ 40.234375 -1.421875 26.90625 -1.421875 \r\nQ 22.3125 -1.421875 17.546875 -0.640625 \r\nQ 12.796875 0.140625 7.71875 1.703125 \r\nL 7.71875 11.625 \r\nQ 12.109375 9.234375 16.796875 8.0625 \r\nQ 21.484375 6.890625 26.703125 6.890625 \r\nQ 35.15625 6.890625 40.078125 11.328125 \r\nQ 45.015625 15.765625 45.015625 23.390625 \r\nQ 45.015625 31 40.078125 35.4375 \r\nQ 35.15625 39.890625 26.703125 39.890625 \r\nQ 22.75 39.890625 18.8125 39.015625 \r\nQ 14.890625 38.140625 10.796875 36.28125 \r\nz\r\n\" id=\"DejaVuSans-53\"/>\r\n       </defs>\r\n       <use xlink:href=\"#DejaVuSans-50\"/>\r\n       <use x=\"63.623047\" xlink:href=\"#DejaVuSans-53\"/>\r\n       <use x=\"127.246094\" xlink:href=\"#DejaVuSans-48\"/>\r\n       <use x=\"190.869141\" xlink:href=\"#DejaVuSans-48\"/>\r\n      </g>\r\n     </g>\r\n    </g>\r\n    <g id=\"xtick_3\">\r\n     <g id=\"line2d_3\">\r\n      <g>\r\n       <use style=\"stroke:#000000;stroke-width:0.8;\" x=\"151.529147\" xlink:href=\"#m9e5f48bc35\" y=\"224.64\"/>\r\n      </g>\r\n     </g>\r\n     <g id=\"text_3\">\r\n      <!-- 5000 -->\r\n      <g transform=\"translate(138.804147 239.238437)scale(0.1 -0.1)\">\r\n       <use xlink:href=\"#DejaVuSans-53\"/>\r\n       <use x=\"63.623047\" xlink:href=\"#DejaVuSans-48\"/>\r\n       <use x=\"127.246094\" xlink:href=\"#DejaVuSans-48\"/>\r\n       <use x=\"190.869141\" xlink:href=\"#DejaVuSans-48\"/>\r\n      </g>\r\n     </g>\r\n    </g>\r\n    <g id=\"xtick_4\">\r\n     <g id=\"line2d_4\">\r\n      <g>\r\n       <use style=\"stroke:#000000;stroke-width:0.8;\" x=\"194.562503\" xlink:href=\"#m9e5f48bc35\" y=\"224.64\"/>\r\n      </g>\r\n     </g>\r\n     <g id=\"text_4\">\r\n      <!-- 7500 -->\r\n      <g transform=\"translate(181.837503 239.238437)scale(0.1 -0.1)\">\r\n       <defs>\r\n        <path d=\"M 8.203125 72.90625 \r\nL 55.078125 72.90625 \r\nL 55.078125 68.703125 \r\nL 28.609375 0 \r\nL 18.3125 0 \r\nL 43.21875 64.59375 \r\nL 8.203125 64.59375 \r\nz\r\n\" id=\"DejaVuSans-55\"/>\r\n       </defs>\r\n       <use xlink:href=\"#DejaVuSans-55\"/>\r\n       <use x=\"63.623047\" xlink:href=\"#DejaVuSans-53\"/>\r\n       <use x=\"127.246094\" xlink:href=\"#DejaVuSans-48\"/>\r\n       <use x=\"190.869141\" xlink:href=\"#DejaVuSans-48\"/>\r\n      </g>\r\n     </g>\r\n    </g>\r\n    <g id=\"xtick_5\">\r\n     <g id=\"line2d_5\">\r\n      <g>\r\n       <use style=\"stroke:#000000;stroke-width:0.8;\" x=\"237.595859\" xlink:href=\"#m9e5f48bc35\" y=\"224.64\"/>\r\n      </g>\r\n     </g>\r\n     <g id=\"text_5\">\r\n      <!-- 10000 -->\r\n      <g transform=\"translate(221.689609 239.238437)scale(0.1 -0.1)\">\r\n       <defs>\r\n        <path d=\"M 12.40625 8.296875 \r\nL 28.515625 8.296875 \r\nL 28.515625 63.921875 \r\nL 10.984375 60.40625 \r\nL 10.984375 69.390625 \r\nL 28.421875 72.90625 \r\nL 38.28125 72.90625 \r\nL 38.28125 8.296875 \r\nL 54.390625 8.296875 \r\nL 54.390625 0 \r\nL 12.40625 0 \r\nz\r\n\" id=\"DejaVuSans-49\"/>\r\n       </defs>\r\n       <use xlink:href=\"#DejaVuSans-49\"/>\r\n       <use x=\"63.623047\" xlink:href=\"#DejaVuSans-48\"/>\r\n       <use x=\"127.246094\" xlink:href=\"#DejaVuSans-48\"/>\r\n       <use x=\"190.869141\" xlink:href=\"#DejaVuSans-48\"/>\r\n       <use x=\"254.492188\" xlink:href=\"#DejaVuSans-48\"/>\r\n      </g>\r\n     </g>\r\n    </g>\r\n    <g id=\"xtick_6\">\r\n     <g id=\"line2d_6\">\r\n      <g>\r\n       <use style=\"stroke:#000000;stroke-width:0.8;\" x=\"280.629215\" xlink:href=\"#m9e5f48bc35\" y=\"224.64\"/>\r\n      </g>\r\n     </g>\r\n     <g id=\"text_6\">\r\n      <!-- 12500 -->\r\n      <g transform=\"translate(264.722965 239.238437)scale(0.1 -0.1)\">\r\n       <use xlink:href=\"#DejaVuSans-49\"/>\r\n       <use x=\"63.623047\" xlink:href=\"#DejaVuSans-50\"/>\r\n       <use x=\"127.246094\" xlink:href=\"#DejaVuSans-53\"/>\r\n       <use x=\"190.869141\" xlink:href=\"#DejaVuSans-48\"/>\r\n       <use x=\"254.492188\" xlink:href=\"#DejaVuSans-48\"/>\r\n      </g>\r\n     </g>\r\n    </g>\r\n    <g id=\"xtick_7\">\r\n     <g id=\"line2d_7\">\r\n      <g>\r\n       <use style=\"stroke:#000000;stroke-width:0.8;\" x=\"323.662571\" xlink:href=\"#m9e5f48bc35\" y=\"224.64\"/>\r\n      </g>\r\n     </g>\r\n     <g id=\"text_7\">\r\n      <!-- 15000 -->\r\n      <g transform=\"translate(307.756321 239.238437)scale(0.1 -0.1)\">\r\n       <use xlink:href=\"#DejaVuSans-49\"/>\r\n       <use x=\"63.623047\" xlink:href=\"#DejaVuSans-53\"/>\r\n       <use x=\"127.246094\" xlink:href=\"#DejaVuSans-48\"/>\r\n       <use x=\"190.869141\" xlink:href=\"#DejaVuSans-48\"/>\r\n       <use x=\"254.492188\" xlink:href=\"#DejaVuSans-48\"/>\r\n      </g>\r\n     </g>\r\n    </g>\r\n    <g id=\"xtick_8\">\r\n     <g id=\"line2d_8\">\r\n      <g>\r\n       <use style=\"stroke:#000000;stroke-width:0.8;\" x=\"366.695927\" xlink:href=\"#m9e5f48bc35\" y=\"224.64\"/>\r\n      </g>\r\n     </g>\r\n     <g id=\"text_8\">\r\n      <!-- 17500 -->\r\n      <g transform=\"translate(350.789677 239.238437)scale(0.1 -0.1)\">\r\n       <use xlink:href=\"#DejaVuSans-49\"/>\r\n       <use x=\"63.623047\" xlink:href=\"#DejaVuSans-55\"/>\r\n       <use x=\"127.246094\" xlink:href=\"#DejaVuSans-53\"/>\r\n       <use x=\"190.869141\" xlink:href=\"#DejaVuSans-48\"/>\r\n       <use x=\"254.492188\" xlink:href=\"#DejaVuSans-48\"/>\r\n      </g>\r\n     </g>\r\n    </g>\r\n    <g id=\"text_9\">\r\n     <!-- Citations (Google Scholar) -->\r\n     <g transform=\"translate(155.26875 252.916562)scale(0.1 -0.1)\">\r\n      <defs>\r\n       <path d=\"M 64.40625 67.28125 \r\nL 64.40625 56.890625 \r\nQ 59.421875 61.53125 53.78125 63.8125 \r\nQ 48.140625 66.109375 41.796875 66.109375 \r\nQ 29.296875 66.109375 22.65625 58.46875 \r\nQ 16.015625 50.828125 16.015625 36.375 \r\nQ 16.015625 21.96875 22.65625 14.328125 \r\nQ 29.296875 6.6875 41.796875 6.6875 \r\nQ 48.140625 6.6875 53.78125 8.984375 \r\nQ 59.421875 11.28125 64.40625 15.921875 \r\nL 64.40625 5.609375 \r\nQ 59.234375 2.09375 53.4375 0.328125 \r\nQ 47.65625 -1.421875 41.21875 -1.421875 \r\nQ 24.65625 -1.421875 15.125 8.703125 \r\nQ 5.609375 18.84375 5.609375 36.375 \r\nQ 5.609375 53.953125 15.125 64.078125 \r\nQ 24.65625 74.21875 41.21875 74.21875 \r\nQ 47.75 74.21875 53.53125 72.484375 \r\nQ 59.328125 70.75 64.40625 67.28125 \r\nz\r\n\" id=\"DejaVuSans-67\"/>\r\n       <path d=\"M 9.421875 54.6875 \r\nL 18.40625 54.6875 \r\nL 18.40625 0 \r\nL 9.421875 0 \r\nz\r\nM 9.421875 75.984375 \r\nL 18.40625 75.984375 \r\nL 18.40625 64.59375 \r\nL 9.421875 64.59375 \r\nz\r\n\" id=\"DejaVuSans-105\"/>\r\n       <path d=\"M 18.3125 70.21875 \r\nL 18.3125 54.6875 \r\nL 36.8125 54.6875 \r\nL 36.8125 47.703125 \r\nL 18.3125 47.703125 \r\nL 18.3125 18.015625 \r\nQ 18.3125 11.328125 20.140625 9.421875 \r\nQ 21.96875 7.515625 27.59375 7.515625 \r\nL 36.8125 7.515625 \r\nL 36.8125 0 \r\nL 27.59375 0 \r\nQ 17.1875 0 13.234375 3.875 \r\nQ 9.28125 7.765625 9.28125 18.015625 \r\nL 9.28125 47.703125 \r\nL 2.6875 47.703125 \r\nL 2.6875 54.6875 \r\nL 9.28125 54.6875 \r\nL 9.28125 70.21875 \r\nz\r\n\" id=\"DejaVuSans-116\"/>\r\n       <path d=\"M 34.28125 27.484375 \r\nQ 23.390625 27.484375 19.1875 25 \r\nQ 14.984375 22.515625 14.984375 16.5 \r\nQ 14.984375 11.71875 18.140625 8.90625 \r\nQ 21.296875 6.109375 26.703125 6.109375 \r\nQ 34.1875 6.109375 38.703125 11.40625 \r\nQ 43.21875 16.703125 43.21875 25.484375 \r\nL 43.21875 27.484375 \r\nz\r\nM 52.203125 31.203125 \r\nL 52.203125 0 \r\nL 43.21875 0 \r\nL 43.21875 8.296875 \r\nQ 40.140625 3.328125 35.546875 0.953125 \r\nQ 30.953125 -1.421875 24.3125 -1.421875 \r\nQ 15.921875 -1.421875 10.953125 3.296875 \r\nQ 6 8.015625 6 15.921875 \r\nQ 6 25.140625 12.171875 29.828125 \r\nQ 18.359375 34.515625 30.609375 34.515625 \r\nL 43.21875 34.515625 \r\nL 43.21875 35.40625 \r\nQ 43.21875 41.609375 39.140625 45 \r\nQ 35.0625 48.390625 27.6875 48.390625 \r\nQ 23 48.390625 18.546875 47.265625 \r\nQ 14.109375 46.140625 10.015625 43.890625 \r\nL 10.015625 52.203125 \r\nQ 14.9375 54.109375 19.578125 55.046875 \r\nQ 24.21875 56 28.609375 56 \r\nQ 40.484375 56 46.34375 49.84375 \r\nQ 52.203125 43.703125 52.203125 31.203125 \r\nz\r\n\" id=\"DejaVuSans-97\"/>\r\n       <path d=\"M 30.609375 48.390625 \r\nQ 23.390625 48.390625 19.1875 42.75 \r\nQ 14.984375 37.109375 14.984375 27.296875 \r\nQ 14.984375 17.484375 19.15625 11.84375 \r\nQ 23.34375 6.203125 30.609375 6.203125 \r\nQ 37.796875 6.203125 41.984375 11.859375 \r\nQ 46.1875 17.53125 46.1875 27.296875 \r\nQ 46.1875 37.015625 41.984375 42.703125 \r\nQ 37.796875 48.390625 30.609375 48.390625 \r\nz\r\nM 30.609375 56 \r\nQ 42.328125 56 49.015625 48.375 \r\nQ 55.71875 40.765625 55.71875 27.296875 \r\nQ 55.71875 13.875 49.015625 6.21875 \r\nQ 42.328125 -1.421875 30.609375 -1.421875 \r\nQ 18.84375 -1.421875 12.171875 6.21875 \r\nQ 5.515625 13.875 5.515625 27.296875 \r\nQ 5.515625 40.765625 12.171875 48.375 \r\nQ 18.84375 56 30.609375 56 \r\nz\r\n\" id=\"DejaVuSans-111\"/>\r\n       <path d=\"M 54.890625 33.015625 \r\nL 54.890625 0 \r\nL 45.90625 0 \r\nL 45.90625 32.71875 \r\nQ 45.90625 40.484375 42.875 44.328125 \r\nQ 39.84375 48.1875 33.796875 48.1875 \r\nQ 26.515625 48.1875 22.3125 43.546875 \r\nQ 18.109375 38.921875 18.109375 30.90625 \r\nL 18.109375 0 \r\nL 9.078125 0 \r\nL 9.078125 54.6875 \r\nL 18.109375 54.6875 \r\nL 18.109375 46.1875 \r\nQ 21.34375 51.125 25.703125 53.5625 \r\nQ 30.078125 56 35.796875 56 \r\nQ 45.21875 56 50.046875 50.171875 \r\nQ 54.890625 44.34375 54.890625 33.015625 \r\nz\r\n\" id=\"DejaVuSans-110\"/>\r\n       <path d=\"M 44.28125 53.078125 \r\nL 44.28125 44.578125 \r\nQ 40.484375 46.53125 36.375 47.5 \r\nQ 32.28125 48.484375 27.875 48.484375 \r\nQ 21.1875 48.484375 17.84375 46.4375 \r\nQ 14.5 44.390625 14.5 40.28125 \r\nQ 14.5 37.15625 16.890625 35.375 \r\nQ 19.28125 33.59375 26.515625 31.984375 \r\nL 29.59375 31.296875 \r\nQ 39.15625 29.25 43.1875 25.515625 \r\nQ 47.21875 21.78125 47.21875 15.09375 \r\nQ 47.21875 7.46875 41.1875 3.015625 \r\nQ 35.15625 -1.421875 24.609375 -1.421875 \r\nQ 20.21875 -1.421875 15.453125 -0.5625 \r\nQ 10.6875 0.296875 5.421875 2 \r\nL 5.421875 11.28125 \r\nQ 10.40625 8.6875 15.234375 7.390625 \r\nQ 20.0625 6.109375 24.8125 6.109375 \r\nQ 31.15625 6.109375 34.5625 8.28125 \r\nQ 37.984375 10.453125 37.984375 14.40625 \r\nQ 37.984375 18.0625 35.515625 20.015625 \r\nQ 33.0625 21.96875 24.703125 23.78125 \r\nL 21.578125 24.515625 \r\nQ 13.234375 26.265625 9.515625 29.90625 \r\nQ 5.8125 33.546875 5.8125 39.890625 \r\nQ 5.8125 47.609375 11.28125 51.796875 \r\nQ 16.75 56 26.8125 56 \r\nQ 31.78125 56 36.171875 55.265625 \r\nQ 40.578125 54.546875 44.28125 53.078125 \r\nz\r\n\" id=\"DejaVuSans-115\"/>\r\n       <path id=\"DejaVuSans-32\"/>\r\n       <path d=\"M 31 75.875 \r\nQ 24.46875 64.65625 21.28125 53.65625 \r\nQ 18.109375 42.671875 18.109375 31.390625 \r\nQ 18.109375 20.125 21.3125 9.0625 \r\nQ 24.515625 -2 31 -13.1875 \r\nL 23.1875 -13.1875 \r\nQ 15.875 -1.703125 12.234375 9.375 \r\nQ 8.59375 20.453125 8.59375 31.390625 \r\nQ 8.59375 42.28125 12.203125 53.3125 \r\nQ 15.828125 64.359375 23.1875 75.875 \r\nz\r\n\" id=\"DejaVuSans-40\"/>\r\n       <path d=\"M 59.515625 10.40625 \r\nL 59.515625 29.984375 \r\nL 43.40625 29.984375 \r\nL 43.40625 38.09375 \r\nL 69.28125 38.09375 \r\nL 69.28125 6.78125 \r\nQ 63.578125 2.734375 56.6875 0.65625 \r\nQ 49.8125 -1.421875 42 -1.421875 \r\nQ 24.90625 -1.421875 15.25 8.5625 \r\nQ 5.609375 18.5625 5.609375 36.375 \r\nQ 5.609375 54.25 15.25 64.234375 \r\nQ 24.90625 74.21875 42 74.21875 \r\nQ 49.125 74.21875 55.546875 72.453125 \r\nQ 61.96875 70.703125 67.390625 67.28125 \r\nL 67.390625 56.78125 \r\nQ 61.921875 61.421875 55.765625 63.765625 \r\nQ 49.609375 66.109375 42.828125 66.109375 \r\nQ 29.4375 66.109375 22.71875 58.640625 \r\nQ 16.015625 51.171875 16.015625 36.375 \r\nQ 16.015625 21.625 22.71875 14.15625 \r\nQ 29.4375 6.6875 42.828125 6.6875 \r\nQ 48.046875 6.6875 52.140625 7.59375 \r\nQ 56.25 8.5 59.515625 10.40625 \r\nz\r\n\" id=\"DejaVuSans-71\"/>\r\n       <path d=\"M 45.40625 27.984375 \r\nQ 45.40625 37.75 41.375 43.109375 \r\nQ 37.359375 48.484375 30.078125 48.484375 \r\nQ 22.859375 48.484375 18.828125 43.109375 \r\nQ 14.796875 37.75 14.796875 27.984375 \r\nQ 14.796875 18.265625 18.828125 12.890625 \r\nQ 22.859375 7.515625 30.078125 7.515625 \r\nQ 37.359375 7.515625 41.375 12.890625 \r\nQ 45.40625 18.265625 45.40625 27.984375 \r\nz\r\nM 54.390625 6.78125 \r\nQ 54.390625 -7.171875 48.1875 -13.984375 \r\nQ 42 -20.796875 29.203125 -20.796875 \r\nQ 24.46875 -20.796875 20.265625 -20.09375 \r\nQ 16.0625 -19.390625 12.109375 -17.921875 \r\nL 12.109375 -9.1875 \r\nQ 16.0625 -11.328125 19.921875 -12.34375 \r\nQ 23.78125 -13.375 27.78125 -13.375 \r\nQ 36.625 -13.375 41.015625 -8.765625 \r\nQ 45.40625 -4.15625 45.40625 5.171875 \r\nL 45.40625 9.625 \r\nQ 42.625 4.78125 38.28125 2.390625 \r\nQ 33.9375 0 27.875 0 \r\nQ 17.828125 0 11.671875 7.65625 \r\nQ 5.515625 15.328125 5.515625 27.984375 \r\nQ 5.515625 40.671875 11.671875 48.328125 \r\nQ 17.828125 56 27.875 56 \r\nQ 33.9375 56 38.28125 53.609375 \r\nQ 42.625 51.21875 45.40625 46.390625 \r\nL 45.40625 54.6875 \r\nL 54.390625 54.6875 \r\nz\r\n\" id=\"DejaVuSans-103\"/>\r\n       <path d=\"M 9.421875 75.984375 \r\nL 18.40625 75.984375 \r\nL 18.40625 0 \r\nL 9.421875 0 \r\nz\r\n\" id=\"DejaVuSans-108\"/>\r\n       <path d=\"M 56.203125 29.59375 \r\nL 56.203125 25.203125 \r\nL 14.890625 25.203125 \r\nQ 15.484375 15.921875 20.484375 11.0625 \r\nQ 25.484375 6.203125 34.421875 6.203125 \r\nQ 39.59375 6.203125 44.453125 7.46875 \r\nQ 49.3125 8.734375 54.109375 11.28125 \r\nL 54.109375 2.78125 \r\nQ 49.265625 0.734375 44.1875 -0.34375 \r\nQ 39.109375 -1.421875 33.890625 -1.421875 \r\nQ 20.796875 -1.421875 13.15625 6.1875 \r\nQ 5.515625 13.8125 5.515625 26.8125 \r\nQ 5.515625 40.234375 12.765625 48.109375 \r\nQ 20.015625 56 32.328125 56 \r\nQ 43.359375 56 49.78125 48.890625 \r\nQ 56.203125 41.796875 56.203125 29.59375 \r\nz\r\nM 47.21875 32.234375 \r\nQ 47.125 39.59375 43.09375 43.984375 \r\nQ 39.0625 48.390625 32.421875 48.390625 \r\nQ 24.90625 48.390625 20.390625 44.140625 \r\nQ 15.875 39.890625 15.1875 32.171875 \r\nz\r\n\" id=\"DejaVuSans-101\"/>\r\n       <path d=\"M 53.515625 70.515625 \r\nL 53.515625 60.890625 \r\nQ 47.90625 63.578125 42.921875 64.890625 \r\nQ 37.9375 66.21875 33.296875 66.21875 \r\nQ 25.25 66.21875 20.875 63.09375 \r\nQ 16.5 59.96875 16.5 54.203125 \r\nQ 16.5 49.359375 19.40625 46.890625 \r\nQ 22.3125 44.4375 30.421875 42.921875 \r\nL 36.375 41.703125 \r\nQ 47.40625 39.59375 52.65625 34.296875 \r\nQ 57.90625 29 57.90625 20.125 \r\nQ 57.90625 9.515625 50.796875 4.046875 \r\nQ 43.703125 -1.421875 29.984375 -1.421875 \r\nQ 24.8125 -1.421875 18.96875 -0.25 \r\nQ 13.140625 0.921875 6.890625 3.21875 \r\nL 6.890625 13.375 \r\nQ 12.890625 10.015625 18.65625 8.296875 \r\nQ 24.421875 6.59375 29.984375 6.59375 \r\nQ 38.421875 6.59375 43.015625 9.90625 \r\nQ 47.609375 13.234375 47.609375 19.390625 \r\nQ 47.609375 24.75 44.3125 27.78125 \r\nQ 41.015625 30.8125 33.5 32.328125 \r\nL 27.484375 33.5 \r\nQ 16.453125 35.6875 11.515625 40.375 \r\nQ 6.59375 45.0625 6.59375 53.421875 \r\nQ 6.59375 63.09375 13.40625 68.65625 \r\nQ 20.21875 74.21875 32.171875 74.21875 \r\nQ 37.3125 74.21875 42.625 73.28125 \r\nQ 47.953125 72.359375 53.515625 70.515625 \r\nz\r\n\" id=\"DejaVuSans-83\"/>\r\n       <path d=\"M 48.78125 52.59375 \r\nL 48.78125 44.1875 \r\nQ 44.96875 46.296875 41.140625 47.34375 \r\nQ 37.3125 48.390625 33.40625 48.390625 \r\nQ 24.65625 48.390625 19.8125 42.84375 \r\nQ 14.984375 37.3125 14.984375 27.296875 \r\nQ 14.984375 17.28125 19.8125 11.734375 \r\nQ 24.65625 6.203125 33.40625 6.203125 \r\nQ 37.3125 6.203125 41.140625 7.25 \r\nQ 44.96875 8.296875 48.78125 10.40625 \r\nL 48.78125 2.09375 \r\nQ 45.015625 0.34375 40.984375 -0.53125 \r\nQ 36.96875 -1.421875 32.421875 -1.421875 \r\nQ 20.0625 -1.421875 12.78125 6.34375 \r\nQ 5.515625 14.109375 5.515625 27.296875 \r\nQ 5.515625 40.671875 12.859375 48.328125 \r\nQ 20.21875 56 33.015625 56 \r\nQ 37.15625 56 41.109375 55.140625 \r\nQ 45.0625 54.296875 48.78125 52.59375 \r\nz\r\n\" id=\"DejaVuSans-99\"/>\r\n       <path d=\"M 54.890625 33.015625 \r\nL 54.890625 0 \r\nL 45.90625 0 \r\nL 45.90625 32.71875 \r\nQ 45.90625 40.484375 42.875 44.328125 \r\nQ 39.84375 48.1875 33.796875 48.1875 \r\nQ 26.515625 48.1875 22.3125 43.546875 \r\nQ 18.109375 38.921875 18.109375 30.90625 \r\nL 18.109375 0 \r\nL 9.078125 0 \r\nL 9.078125 75.984375 \r\nL 18.109375 75.984375 \r\nL 18.109375 46.1875 \r\nQ 21.34375 51.125 25.703125 53.5625 \r\nQ 30.078125 56 35.796875 56 \r\nQ 45.21875 56 50.046875 50.171875 \r\nQ 54.890625 44.34375 54.890625 33.015625 \r\nz\r\n\" id=\"DejaVuSans-104\"/>\r\n       <path d=\"M 41.109375 46.296875 \r\nQ 39.59375 47.171875 37.8125 47.578125 \r\nQ 36.03125 48 33.890625 48 \r\nQ 26.265625 48 22.1875 43.046875 \r\nQ 18.109375 38.09375 18.109375 28.8125 \r\nL 18.109375 0 \r\nL 9.078125 0 \r\nL 9.078125 54.6875 \r\nL 18.109375 54.6875 \r\nL 18.109375 46.1875 \r\nQ 20.953125 51.171875 25.484375 53.578125 \r\nQ 30.03125 56 36.53125 56 \r\nQ 37.453125 56 38.578125 55.875 \r\nQ 39.703125 55.765625 41.0625 55.515625 \r\nz\r\n\" id=\"DejaVuSans-114\"/>\r\n       <path d=\"M 8.015625 75.875 \r\nL 15.828125 75.875 \r\nQ 23.140625 64.359375 26.78125 53.3125 \r\nQ 30.421875 42.28125 30.421875 31.390625 \r\nQ 30.421875 20.453125 26.78125 9.375 \r\nQ 23.140625 -1.703125 15.828125 -13.1875 \r\nL 8.015625 -13.1875 \r\nQ 14.5 -2 17.703125 9.0625 \r\nQ 20.90625 20.125 20.90625 31.390625 \r\nQ 20.90625 42.671875 17.703125 53.65625 \r\nQ 14.5 64.65625 8.015625 75.875 \r\nz\r\n\" id=\"DejaVuSans-41\"/>\r\n      </defs>\r\n      <use xlink:href=\"#DejaVuSans-67\"/>\r\n      <use x=\"69.824219\" xlink:href=\"#DejaVuSans-105\"/>\r\n      <use x=\"97.607422\" xlink:href=\"#DejaVuSans-116\"/>\r\n      <use x=\"136.816406\" xlink:href=\"#DejaVuSans-97\"/>\r\n      <use x=\"198.095703\" xlink:href=\"#DejaVuSans-116\"/>\r\n      <use x=\"237.304688\" xlink:href=\"#DejaVuSans-105\"/>\r\n      <use x=\"265.087891\" xlink:href=\"#DejaVuSans-111\"/>\r\n      <use x=\"326.269531\" xlink:href=\"#DejaVuSans-110\"/>\r\n      <use x=\"389.648438\" xlink:href=\"#DejaVuSans-115\"/>\r\n      <use x=\"441.748047\" xlink:href=\"#DejaVuSans-32\"/>\r\n      <use x=\"473.535156\" xlink:href=\"#DejaVuSans-40\"/>\r\n      <use x=\"512.548828\" xlink:href=\"#DejaVuSans-71\"/>\r\n      <use x=\"590.039062\" xlink:href=\"#DejaVuSans-111\"/>\r\n      <use x=\"651.220703\" xlink:href=\"#DejaVuSans-111\"/>\r\n      <use x=\"712.402344\" xlink:href=\"#DejaVuSans-103\"/>\r\n      <use x=\"775.878906\" xlink:href=\"#DejaVuSans-108\"/>\r\n      <use x=\"803.662109\" xlink:href=\"#DejaVuSans-101\"/>\r\n      <use x=\"865.185547\" xlink:href=\"#DejaVuSans-32\"/>\r\n      <use x=\"896.972656\" xlink:href=\"#DejaVuSans-83\"/>\r\n      <use x=\"960.449219\" xlink:href=\"#DejaVuSans-99\"/>\r\n      <use x=\"1015.429688\" xlink:href=\"#DejaVuSans-104\"/>\r\n      <use x=\"1078.808594\" xlink:href=\"#DejaVuSans-111\"/>\r\n      <use x=\"1139.990234\" xlink:href=\"#DejaVuSans-108\"/>\r\n      <use x=\"1167.773438\" xlink:href=\"#DejaVuSans-97\"/>\r\n      <use x=\"1229.052734\" xlink:href=\"#DejaVuSans-114\"/>\r\n      <use x=\"1270.166016\" xlink:href=\"#DejaVuSans-41\"/>\r\n     </g>\r\n    </g>\r\n   </g>\r\n   <g id=\"matplotlib.axis_2\">\r\n    <g id=\"ytick_1\">\r\n     <g id=\"line2d_9\">\r\n      <defs>\r\n       <path d=\"M 0 0 \r\nL -3.5 0 \r\n\" id=\"m0c06eadff1\" style=\"stroke:#000000;stroke-width:0.8;\"/>\r\n      </defs>\r\n      <g>\r\n       <use style=\"stroke:#000000;stroke-width:0.8;\" x=\"53.328125\" xlink:href=\"#m0c06eadff1\" y=\"218.668708\"/>\r\n      </g>\r\n     </g>\r\n     <g id=\"text_10\">\r\n      <!-- 0 -->\r\n      <g transform=\"translate(39.965625 222.467927)scale(0.1 -0.1)\">\r\n       <use xlink:href=\"#DejaVuSans-48\"/>\r\n      </g>\r\n     </g>\r\n    </g>\r\n    <g id=\"ytick_2\">\r\n     <g id=\"line2d_10\">\r\n      <g>\r\n       <use style=\"stroke:#000000;stroke-width:0.8;\" x=\"53.328125\" xlink:href=\"#m0c06eadff1\" y=\"187.117545\"/>\r\n      </g>\r\n     </g>\r\n     <g id=\"text_11\">\r\n      <!-- 1000 -->\r\n      <g transform=\"translate(20.878125 190.916764)scale(0.1 -0.1)\">\r\n       <use xlink:href=\"#DejaVuSans-49\"/>\r\n       <use x=\"63.623047\" xlink:href=\"#DejaVuSans-48\"/>\r\n       <use x=\"127.246094\" xlink:href=\"#DejaVuSans-48\"/>\r\n       <use x=\"190.869141\" xlink:href=\"#DejaVuSans-48\"/>\r\n      </g>\r\n     </g>\r\n    </g>\r\n    <g id=\"ytick_3\">\r\n     <g id=\"line2d_11\">\r\n      <g>\r\n       <use style=\"stroke:#000000;stroke-width:0.8;\" x=\"53.328125\" xlink:href=\"#m0c06eadff1\" y=\"155.566382\"/>\r\n      </g>\r\n     </g>\r\n     <g id=\"text_12\">\r\n      <!-- 2000 -->\r\n      <g transform=\"translate(20.878125 159.365601)scale(0.1 -0.1)\">\r\n       <use xlink:href=\"#DejaVuSans-50\"/>\r\n       <use x=\"63.623047\" xlink:href=\"#DejaVuSans-48\"/>\r\n       <use x=\"127.246094\" xlink:href=\"#DejaVuSans-48\"/>\r\n       <use x=\"190.869141\" xlink:href=\"#DejaVuSans-48\"/>\r\n      </g>\r\n     </g>\r\n    </g>\r\n    <g id=\"ytick_4\">\r\n     <g id=\"line2d_12\">\r\n      <g>\r\n       <use style=\"stroke:#000000;stroke-width:0.8;\" x=\"53.328125\" xlink:href=\"#m0c06eadff1\" y=\"124.015219\"/>\r\n      </g>\r\n     </g>\r\n     <g id=\"text_13\">\r\n      <!-- 3000 -->\r\n      <g transform=\"translate(20.878125 127.814438)scale(0.1 -0.1)\">\r\n       <defs>\r\n        <path d=\"M 40.578125 39.3125 \r\nQ 47.65625 37.796875 51.625 33 \r\nQ 55.609375 28.21875 55.609375 21.1875 \r\nQ 55.609375 10.40625 48.1875 4.484375 \r\nQ 40.765625 -1.421875 27.09375 -1.421875 \r\nQ 22.515625 -1.421875 17.65625 -0.515625 \r\nQ 12.796875 0.390625 7.625 2.203125 \r\nL 7.625 11.71875 \r\nQ 11.71875 9.328125 16.59375 8.109375 \r\nQ 21.484375 6.890625 26.8125 6.890625 \r\nQ 36.078125 6.890625 40.9375 10.546875 \r\nQ 45.796875 14.203125 45.796875 21.1875 \r\nQ 45.796875 27.640625 41.28125 31.265625 \r\nQ 36.765625 34.90625 28.71875 34.90625 \r\nL 20.21875 34.90625 \r\nL 20.21875 43.015625 \r\nL 29.109375 43.015625 \r\nQ 36.375 43.015625 40.234375 45.921875 \r\nQ 44.09375 48.828125 44.09375 54.296875 \r\nQ 44.09375 59.90625 40.109375 62.90625 \r\nQ 36.140625 65.921875 28.71875 65.921875 \r\nQ 24.65625 65.921875 20.015625 65.03125 \r\nQ 15.375 64.15625 9.8125 62.3125 \r\nL 9.8125 71.09375 \r\nQ 15.4375 72.65625 20.34375 73.4375 \r\nQ 25.25 74.21875 29.59375 74.21875 \r\nQ 40.828125 74.21875 47.359375 69.109375 \r\nQ 53.90625 64.015625 53.90625 55.328125 \r\nQ 53.90625 49.265625 50.4375 45.09375 \r\nQ 46.96875 40.921875 40.578125 39.3125 \r\nz\r\n\" id=\"DejaVuSans-51\"/>\r\n       </defs>\r\n       <use xlink:href=\"#DejaVuSans-51\"/>\r\n       <use x=\"63.623047\" xlink:href=\"#DejaVuSans-48\"/>\r\n       <use x=\"127.246094\" xlink:href=\"#DejaVuSans-48\"/>\r\n       <use x=\"190.869141\" xlink:href=\"#DejaVuSans-48\"/>\r\n      </g>\r\n     </g>\r\n    </g>\r\n    <g id=\"ytick_5\">\r\n     <g id=\"line2d_13\">\r\n      <g>\r\n       <use style=\"stroke:#000000;stroke-width:0.8;\" x=\"53.328125\" xlink:href=\"#m0c06eadff1\" y=\"92.464056\"/>\r\n      </g>\r\n     </g>\r\n     <g id=\"text_14\">\r\n      <!-- 4000 -->\r\n      <g transform=\"translate(20.878125 96.263275)scale(0.1 -0.1)\">\r\n       <defs>\r\n        <path d=\"M 37.796875 64.3125 \r\nL 12.890625 25.390625 \r\nL 37.796875 25.390625 \r\nz\r\nM 35.203125 72.90625 \r\nL 47.609375 72.90625 \r\nL 47.609375 25.390625 \r\nL 58.015625 25.390625 \r\nL 58.015625 17.1875 \r\nL 47.609375 17.1875 \r\nL 47.609375 0 \r\nL 37.796875 0 \r\nL 37.796875 17.1875 \r\nL 4.890625 17.1875 \r\nL 4.890625 26.703125 \r\nz\r\n\" id=\"DejaVuSans-52\"/>\r\n       </defs>\r\n       <use xlink:href=\"#DejaVuSans-52\"/>\r\n       <use x=\"63.623047\" xlink:href=\"#DejaVuSans-48\"/>\r\n       <use x=\"127.246094\" xlink:href=\"#DejaVuSans-48\"/>\r\n       <use x=\"190.869141\" xlink:href=\"#DejaVuSans-48\"/>\r\n      </g>\r\n     </g>\r\n    </g>\r\n    <g id=\"ytick_6\">\r\n     <g id=\"line2d_14\">\r\n      <g>\r\n       <use style=\"stroke:#000000;stroke-width:0.8;\" x=\"53.328125\" xlink:href=\"#m0c06eadff1\" y=\"60.912893\"/>\r\n      </g>\r\n     </g>\r\n     <g id=\"text_15\">\r\n      <!-- 5000 -->\r\n      <g transform=\"translate(20.878125 64.712112)scale(0.1 -0.1)\">\r\n       <use xlink:href=\"#DejaVuSans-53\"/>\r\n       <use x=\"63.623047\" xlink:href=\"#DejaVuSans-48\"/>\r\n       <use x=\"127.246094\" xlink:href=\"#DejaVuSans-48\"/>\r\n       <use x=\"190.869141\" xlink:href=\"#DejaVuSans-48\"/>\r\n      </g>\r\n     </g>\r\n    </g>\r\n    <g id=\"ytick_7\">\r\n     <g id=\"line2d_15\">\r\n      <g>\r\n       <use style=\"stroke:#000000;stroke-width:0.8;\" x=\"53.328125\" xlink:href=\"#m0c06eadff1\" y=\"29.36173\"/>\r\n      </g>\r\n     </g>\r\n     <g id=\"text_16\">\r\n      <!-- 6000 -->\r\n      <g transform=\"translate(20.878125 33.160949)scale(0.1 -0.1)\">\r\n       <defs>\r\n        <path d=\"M 33.015625 40.375 \r\nQ 26.375 40.375 22.484375 35.828125 \r\nQ 18.609375 31.296875 18.609375 23.390625 \r\nQ 18.609375 15.53125 22.484375 10.953125 \r\nQ 26.375 6.390625 33.015625 6.390625 \r\nQ 39.65625 6.390625 43.53125 10.953125 \r\nQ 47.40625 15.53125 47.40625 23.390625 \r\nQ 47.40625 31.296875 43.53125 35.828125 \r\nQ 39.65625 40.375 33.015625 40.375 \r\nz\r\nM 52.59375 71.296875 \r\nL 52.59375 62.3125 \r\nQ 48.875 64.0625 45.09375 64.984375 \r\nQ 41.3125 65.921875 37.59375 65.921875 \r\nQ 27.828125 65.921875 22.671875 59.328125 \r\nQ 17.53125 52.734375 16.796875 39.40625 \r\nQ 19.671875 43.65625 24.015625 45.921875 \r\nQ 28.375 48.1875 33.59375 48.1875 \r\nQ 44.578125 48.1875 50.953125 41.515625 \r\nQ 57.328125 34.859375 57.328125 23.390625 \r\nQ 57.328125 12.15625 50.6875 5.359375 \r\nQ 44.046875 -1.421875 33.015625 -1.421875 \r\nQ 20.359375 -1.421875 13.671875 8.265625 \r\nQ 6.984375 17.96875 6.984375 36.375 \r\nQ 6.984375 53.65625 15.1875 63.9375 \r\nQ 23.390625 74.21875 37.203125 74.21875 \r\nQ 40.921875 74.21875 44.703125 73.484375 \r\nQ 48.484375 72.75 52.59375 71.296875 \r\nz\r\n\" id=\"DejaVuSans-54\"/>\r\n       </defs>\r\n       <use xlink:href=\"#DejaVuSans-54\"/>\r\n       <use x=\"63.623047\" xlink:href=\"#DejaVuSans-48\"/>\r\n       <use x=\"127.246094\" xlink:href=\"#DejaVuSans-48\"/>\r\n       <use x=\"190.869141\" xlink:href=\"#DejaVuSans-48\"/>\r\n      </g>\r\n     </g>\r\n    </g>\r\n    <g id=\"text_17\">\r\n     <!-- Followers (Twitter) -->\r\n     <g transform=\"translate(14.798438 161.587187)rotate(-90)scale(0.1 -0.1)\">\r\n      <defs>\r\n       <path d=\"M 9.8125 72.90625 \r\nL 51.703125 72.90625 \r\nL 51.703125 64.59375 \r\nL 19.671875 64.59375 \r\nL 19.671875 43.109375 \r\nL 48.578125 43.109375 \r\nL 48.578125 34.8125 \r\nL 19.671875 34.8125 \r\nL 19.671875 0 \r\nL 9.8125 0 \r\nz\r\n\" id=\"DejaVuSans-70\"/>\r\n       <path d=\"M 4.203125 54.6875 \r\nL 13.1875 54.6875 \r\nL 24.421875 12.015625 \r\nL 35.59375 54.6875 \r\nL 46.1875 54.6875 \r\nL 57.421875 12.015625 \r\nL 68.609375 54.6875 \r\nL 77.59375 54.6875 \r\nL 63.28125 0 \r\nL 52.6875 0 \r\nL 40.921875 44.828125 \r\nL 29.109375 0 \r\nL 18.5 0 \r\nz\r\n\" id=\"DejaVuSans-119\"/>\r\n       <path d=\"M -0.296875 72.90625 \r\nL 61.375 72.90625 \r\nL 61.375 64.59375 \r\nL 35.5 64.59375 \r\nL 35.5 0 \r\nL 25.59375 0 \r\nL 25.59375 64.59375 \r\nL -0.296875 64.59375 \r\nz\r\n\" id=\"DejaVuSans-84\"/>\r\n      </defs>\r\n      <use xlink:href=\"#DejaVuSans-70\"/>\r\n      <use x=\"53.894531\" xlink:href=\"#DejaVuSans-111\"/>\r\n      <use x=\"115.076172\" xlink:href=\"#DejaVuSans-108\"/>\r\n      <use x=\"142.859375\" xlink:href=\"#DejaVuSans-108\"/>\r\n      <use x=\"170.642578\" xlink:href=\"#DejaVuSans-111\"/>\r\n      <use x=\"231.824219\" xlink:href=\"#DejaVuSans-119\"/>\r\n      <use x=\"313.611328\" xlink:href=\"#DejaVuSans-101\"/>\r\n      <use x=\"375.134766\" xlink:href=\"#DejaVuSans-114\"/>\r\n      <use x=\"416.248047\" xlink:href=\"#DejaVuSans-115\"/>\r\n      <use x=\"468.347656\" xlink:href=\"#DejaVuSans-32\"/>\r\n      <use x=\"500.134766\" xlink:href=\"#DejaVuSans-40\"/>\r\n      <use x=\"539.148438\" xlink:href=\"#DejaVuSans-84\"/>\r\n      <use x=\"583.732422\" xlink:href=\"#DejaVuSans-119\"/>\r\n      <use x=\"665.519531\" xlink:href=\"#DejaVuSans-105\"/>\r\n      <use x=\"693.302734\" xlink:href=\"#DejaVuSans-116\"/>\r\n      <use x=\"732.511719\" xlink:href=\"#DejaVuSans-116\"/>\r\n      <use x=\"771.720703\" xlink:href=\"#DejaVuSans-101\"/>\r\n      <use x=\"833.244141\" xlink:href=\"#DejaVuSans-114\"/>\r\n      <use x=\"874.357422\" xlink:href=\"#DejaVuSans-41\"/>\r\n     </g>\r\n    </g>\r\n   </g>\r\n   <g id=\"line2d_16\">\r\n    <path clip-path=\"url(#p8a045c3756)\" d=\"M 85.929099 188.946111 \r\nL 90.473421 179.702165 \r\nL 97.513678 165.381052 \r\n\" style=\"fill:none;stroke:#ff0000;stroke-dasharray:5.55,2.4;stroke-dashoffset:0;stroke-width:1.5;\"/>\r\n   </g>\r\n   <g id=\"line2d_17\">\r\n    <path clip-path=\"url(#p8a045c3756)\" d=\"M 81.212643 207.228353 \r\nL 86.686486 200.118269 \r\nL 93.86445 190.794669 \r\n\" style=\"fill:none;stroke:#ffff00;stroke-dasharray:5.55,2.4;stroke-dashoffset:0;stroke-width:1.5;\"/>\r\n   </g>\r\n   <g id=\"line2d_18\">\r\n    <path clip-path=\"url(#p8a045c3756)\" d=\"M 86.927473 182.657187 \r\nL 98.339919 166.273109 \r\nL 103.555561 158.785362 \r\n\" style=\"fill:none;stroke:#add8e6;stroke-dasharray:5.55,2.4;stroke-dashoffset:0;stroke-width:1.5;\"/>\r\n   </g>\r\n   <g id=\"line2d_19\">\r\n    <path clip-path=\"url(#p8a045c3756)\" d=\"M 78.837202 214.624539 \r\nL 81.694617 213.731126 \r\nL 86.824193 212.127287 \r\n\" style=\"fill:none;stroke:#ffc0cb;stroke-dasharray:5.55,2.4;stroke-dashoffset:0;stroke-width:1.5;\"/>\r\n   </g>\r\n   <g id=\"line2d_20\">\r\n    <path clip-path=\"url(#p8a045c3756)\" d=\"M 302.85164 83.26817 \r\nL 333.508602 54.306338 \r\nL 372.909943 17.083636 \r\n\" style=\"fill:none;stroke:#90ee90;stroke-dasharray:5.55,2.4;stroke-dashoffset:0;stroke-width:1.5;\"/>\r\n   </g>\r\n   <g id=\"line2d_21\">\r\n    <path clip-path=\"url(#p8a045c3756)\" d=\"M 85.929099 188.946111 \r\nL 90.473421 179.702165 \r\nL 97.513678 165.381052 \r\n\" style=\"fill:none;stroke:#ff0000;stroke-dasharray:5.55,2.4;stroke-dashoffset:0;stroke-width:1.5;\"/>\r\n   </g>\r\n   <g id=\"line2d_22\">\r\n    <path clip-path=\"url(#p8a045c3756)\" d=\"M 81.212643 207.228353 \r\nL 86.686486 200.118269 \r\nL 93.86445 190.794669 \r\n\" style=\"fill:none;stroke:#ffff00;stroke-dasharray:5.55,2.4;stroke-dashoffset:0;stroke-width:1.5;\"/>\r\n   </g>\r\n   <g id=\"line2d_23\">\r\n    <path clip-path=\"url(#p8a045c3756)\" d=\"M 86.927473 182.657187 \r\nL 98.339919 166.273109 \r\nL 103.555561 158.785362 \r\n\" style=\"fill:none;stroke:#add8e6;stroke-dasharray:5.55,2.4;stroke-dashoffset:0;stroke-width:1.5;\"/>\r\n   </g>\r\n   <g id=\"line2d_24\">\r\n    <path clip-path=\"url(#p8a045c3756)\" d=\"M 78.837202 214.624539 \r\nL 81.694617 213.731126 \r\nL 86.824193 212.127287 \r\n\" style=\"fill:none;stroke:#ffc0cb;stroke-dasharray:5.55,2.4;stroke-dashoffset:0;stroke-width:1.5;\"/>\r\n   </g>\r\n   <g id=\"line2d_25\">\r\n    <path clip-path=\"url(#p8a045c3756)\" d=\"M 302.85164 83.26817 \r\nL 333.508602 54.306338 \r\nL 372.909943 17.083636 \r\n\" style=\"fill:none;stroke:#90ee90;stroke-dasharray:5.55,2.4;stroke-dashoffset:0;stroke-width:1.5;\"/>\r\n   </g>\r\n   <g id=\"line2d_26\">\r\n    <path clip-path=\"url(#p8a045c3756)\" d=\"M 71.401038 165.978266 \r\nL 75.463387 147.331528 \r\n\" style=\"fill:none;stroke:#ffa500;stroke-dasharray:5.55,2.4;stroke-dashoffset:0;stroke-width:1.5;\"/>\r\n   </g>\r\n   <g id=\"line2d_27\">\r\n    <path clip-path=\"url(#p8a045c3756)\" d=\"M 102.109641 204.092071 \r\nL 109.012191 199.927317 \r\n\" style=\"fill:none;stroke:#800080;stroke-dasharray:5.55,2.4;stroke-dashoffset:0;stroke-width:1.5;\"/>\r\n   </g>\r\n   <g id=\"line2d_28\">\r\n    <path clip-path=\"url(#p8a045c3756)\" d=\"M 85.929099 188.946111 \r\nL 90.473421 179.702165 \r\nL 97.513678 165.381052 \r\n\" style=\"fill:none;stroke:#ff0000;stroke-dasharray:5.55,2.4;stroke-dashoffset:0;stroke-width:1.5;\"/>\r\n   </g>\r\n   <g id=\"line2d_29\">\r\n    <path clip-path=\"url(#p8a045c3756)\" d=\"M 81.212643 207.228353 \r\nL 86.686486 200.118269 \r\nL 93.86445 190.794669 \r\n\" style=\"fill:none;stroke:#ffff00;stroke-dasharray:5.55,2.4;stroke-dashoffset:0;stroke-width:1.5;\"/>\r\n   </g>\r\n   <g id=\"line2d_30\">\r\n    <path clip-path=\"url(#p8a045c3756)\" d=\"M 86.927473 182.657187 \r\nL 98.339919 166.273109 \r\nL 103.555561 158.785362 \r\n\" style=\"fill:none;stroke:#add8e6;stroke-dasharray:5.55,2.4;stroke-dashoffset:0;stroke-width:1.5;\"/>\r\n   </g>\r\n   <g id=\"line2d_31\">\r\n    <path clip-path=\"url(#p8a045c3756)\" d=\"M 78.837202 214.624539 \r\nL 81.694617 213.731126 \r\nL 86.824193 212.127287 \r\n\" style=\"fill:none;stroke:#ffc0cb;stroke-dasharray:5.55,2.4;stroke-dashoffset:0;stroke-width:1.5;\"/>\r\n   </g>\r\n   <g id=\"line2d_32\">\r\n    <path clip-path=\"url(#p8a045c3756)\" d=\"M 302.85164 83.26817 \r\nL 333.508602 54.306338 \r\nL 372.909943 17.083636 \r\n\" style=\"fill:none;stroke:#90ee90;stroke-dasharray:5.55,2.4;stroke-dashoffset:0;stroke-width:1.5;\"/>\r\n   </g>\r\n   <g id=\"line2d_33\">\r\n    <path clip-path=\"url(#p8a045c3756)\" d=\"M 71.401038 165.978266 \r\nL 75.463387 147.331528 \r\n\" style=\"fill:none;stroke:#ffa500;stroke-dasharray:5.55,2.4;stroke-dashoffset:0;stroke-width:1.5;\"/>\r\n   </g>\r\n   <g id=\"line2d_34\">\r\n    <path clip-path=\"url(#p8a045c3756)\" d=\"M 102.109641 204.092071 \r\nL 109.012191 199.927317 \r\n\" style=\"fill:none;stroke:#800080;stroke-dasharray:5.55,2.4;stroke-dashoffset:0;stroke-width:1.5;\"/>\r\n   </g>\r\n   <g id=\"line2d_35\">\r\n    <path clip-path=\"url(#p8a045c3756)\" d=\"M 68.546307 211.48188 \r\nL 74.656664 208.474551 \r\nL 80.767021 206.669038 \r\nL 86.877378 205.307189 \r\nL 92.987735 204.189638 \r\nL 99.098093 203.230305 \r\nL 105.20845 202.383236 \r\nL 111.318807 201.620674 \r\nL 117.429164 200.924422 \r\nL 123.539521 200.281832 \r\nL 129.649878 199.683715 \r\nL 135.760236 199.123164 \r\nL 141.870593 198.594837 \r\nL 147.98095 198.094513 \r\nL 154.091307 197.618787 \r\nL 160.201664 197.164871 \r\nL 166.312021 196.730451 \r\nL 172.422378 196.313579 \r\nL 178.532736 195.912602 \r\nL 184.643093 195.526102 \r\nL 190.75345 195.152853 \r\nL 196.863807 194.791784 \r\nL 202.974164 194.44196 \r\nL 209.084521 194.102552 \r\nL 215.194879 193.772827 \r\nL 221.305236 193.452129 \r\nL 227.415593 193.139872 \r\nL 233.52595 192.835526 \r\nL 239.636307 192.538614 \r\nL 245.746664 192.248704 \r\nL 251.857021 191.9654 \r\nL 257.967379 191.688344 \r\nL 264.077736 191.417204 \r\nL 270.188093 191.15168 \r\nL 276.29845 190.89149 \r\nL 282.408807 190.63638 \r\nL 288.519164 190.386109 \r\nL 294.629522 190.140459 \r\nL 300.739879 189.899222 \r\nL 306.850236 189.66221 \r\nL 312.960593 189.429242 \r\nL 319.07095 189.200154 \r\nL 325.181307 188.974789 \r\nL 331.291664 188.753001 \r\nL 337.402022 188.534653 \r\nL 343.512379 188.319616 \r\nL 349.622736 188.107769 \r\nL 355.733093 187.898998 \r\n\" style=\"fill:none;stroke:#808080;stroke-dasharray:5.55,2.4;stroke-dashoffset:0;stroke-width:1.5;\"/>\r\n   </g>\r\n   <g id=\"line2d_36\">\r\n    <path clip-path=\"url(#p8a045c3756)\" d=\"M 68.546307 204.295052 \r\nL 74.656664 198.280394 \r\nL 80.767021 194.669367 \r\nL 86.877378 191.945671 \r\nL 92.987735 189.710568 \r\nL 99.098093 187.791902 \r\nL 105.20845 186.097764 \r\nL 111.318807 184.57264 \r\nL 117.429164 183.180136 \r\nL 123.539521 181.894956 \r\nL 129.649878 180.698723 \r\nL 135.760236 179.57762 \r\nL 141.870593 178.520967 \r\nL 147.98095 177.520318 \r\nL 154.091307 176.568866 \r\nL 160.201664 175.661035 \r\nL 166.312021 174.792194 \r\nL 172.422378 173.95845 \r\nL 178.532736 173.156497 \r\nL 184.643093 172.383497 \r\nL 190.75345 171.636997 \r\nL 196.863807 170.914861 \r\nL 202.974164 170.215212 \r\nL 209.084521 169.536397 \r\nL 215.194879 168.876947 \r\nL 221.305236 168.235551 \r\nL 227.415593 167.611036 \r\nL 233.52595 167.002344 \r\nL 239.636307 166.408521 \r\nL 245.746664 165.8287 \r\nL 251.857021 165.262093 \r\nL 257.967379 164.70798 \r\nL 264.077736 164.165701 \r\nL 270.188093 163.634651 \r\nL 276.29845 163.114273 \r\nL 282.408807 162.604052 \r\nL 288.519164 162.103511 \r\nL 294.629522 161.612209 \r\nL 300.739879 161.129737 \r\nL 306.850236 160.655711 \r\nL 312.960593 160.189776 \r\nL 319.07095 159.7316 \r\nL 325.181307 159.280869 \r\nL 331.291664 158.837293 \r\nL 337.402022 158.400597 \r\nL 343.512379 157.970524 \r\nL 349.622736 157.54683 \r\nL 355.733093 157.129288 \r\n\" style=\"fill:none;stroke:#808080;stroke-dasharray:5.55,2.4;stroke-dashoffset:0;stroke-width:1.5;\"/>\r\n   </g>\r\n   <g id=\"line2d_37\">\r\n    <path clip-path=\"url(#p8a045c3756)\" d=\"M 68.546307 197.108224 \r\nL 74.656664 188.086238 \r\nL 80.767021 182.669697 \r\nL 86.877378 178.584152 \r\nL 92.987735 175.231498 \r\nL 99.098093 172.353498 \r\nL 105.20845 169.812292 \r\nL 111.318807 167.524606 \r\nL 117.429164 165.43585 \r\nL 123.539521 163.50808 \r\nL 129.649878 161.713731 \r\nL 135.760236 160.032076 \r\nL 141.870593 158.447097 \r\nL 147.98095 156.946123 \r\nL 154.091307 155.518944 \r\nL 160.201664 154.157198 \r\nL 166.312021 152.853937 \r\nL 172.422378 151.603322 \r\nL 178.532736 150.400392 \r\nL 184.643093 149.240892 \r\nL 190.75345 148.121142 \r\nL 196.863807 147.037937 \r\nL 202.974164 145.988464 \r\nL 209.084521 144.970242 \r\nL 215.194879 143.981066 \r\nL 221.305236 143.018972 \r\nL 227.415593 142.082199 \r\nL 233.52595 141.169162 \r\nL 239.636307 140.278427 \r\nL 245.746664 139.408696 \r\nL 251.857021 138.558786 \r\nL 257.967379 137.727616 \r\nL 264.077736 136.914198 \r\nL 270.188093 136.117623 \r\nL 276.29845 135.337056 \r\nL 282.408807 134.571724 \r\nL 288.519164 133.820913 \r\nL 294.629522 133.08396 \r\nL 300.739879 132.360251 \r\nL 306.850236 131.649213 \r\nL 312.960593 130.950311 \r\nL 319.07095 130.263046 \r\nL 325.181307 129.58695 \r\nL 331.291664 128.921586 \r\nL 337.402022 128.266542 \r\nL 343.512379 127.621432 \r\nL 349.622736 126.985892 \r\nL 355.733093 126.359577 \r\n\" style=\"fill:none;stroke:#808080;stroke-dasharray:5.55,2.4;stroke-dashoffset:0;stroke-width:1.5;\"/>\r\n   </g>\r\n   <g id=\"line2d_38\">\r\n    <path clip-path=\"url(#p8a045c3756)\" d=\"M 68.546307 189.921397 \r\nL 74.656664 177.892081 \r\nL 80.767021 170.670027 \r\nL 86.877378 165.222633 \r\nL 92.987735 160.752428 \r\nL 99.098093 156.915095 \r\nL 105.20845 153.52682 \r\nL 111.318807 150.476572 \r\nL 117.429164 147.691565 \r\nL 123.539521 145.121204 \r\nL 129.649878 142.728738 \r\nL 135.760236 140.486533 \r\nL 141.870593 138.373226 \r\nL 147.98095 136.371928 \r\nL 154.091307 134.469023 \r\nL 160.201664 132.653361 \r\nL 166.312021 130.91568 \r\nL 172.422378 129.248193 \r\nL 178.532736 127.644286 \r\nL 184.643093 126.098286 \r\nL 190.75345 124.605287 \r\nL 196.863807 123.161014 \r\nL 202.974164 121.761716 \r\nL 209.084521 120.404086 \r\nL 215.194879 119.085185 \r\nL 221.305236 117.802394 \r\nL 227.415593 116.553363 \r\nL 233.52595 115.33598 \r\nL 239.636307 114.148334 \r\nL 245.746664 112.988692 \r\nL 251.857021 111.855478 \r\nL 257.967379 110.747252 \r\nL 264.077736 109.662694 \r\nL 270.188093 108.600595 \r\nL 276.29845 107.559838 \r\nL 282.408807 106.539396 \r\nL 288.519164 105.538314 \r\nL 294.629522 104.555711 \r\nL 300.739879 103.590766 \r\nL 306.850236 102.642715 \r\nL 312.960593 101.710845 \r\nL 319.07095 100.794491 \r\nL 325.181307 99.893031 \r\nL 331.291664 99.005879 \r\nL 337.402022 98.132487 \r\nL 343.512379 97.27234 \r\nL 349.622736 96.424953 \r\nL 355.733093 95.589867 \r\n\" style=\"fill:none;stroke:#808080;stroke-dasharray:5.55,2.4;stroke-dashoffset:0;stroke-width:1.5;\"/>\r\n   </g>\r\n   <g id=\"line2d_39\">\r\n    <path clip-path=\"url(#p8a045c3756)\" d=\"M 68.546307 182.734569 \r\nL 74.656664 167.697924 \r\nL 80.767021 158.670356 \r\nL 86.877378 151.861115 \r\nL 92.987735 146.273358 \r\nL 99.098093 141.476692 \r\nL 105.20845 137.241348 \r\nL 111.318807 133.428538 \r\nL 117.429164 129.947279 \r\nL 123.539521 126.734329 \r\nL 129.649878 123.743746 \r\nL 135.760236 120.940989 \r\nL 141.870593 118.299356 \r\nL 147.98095 115.797733 \r\nL 154.091307 113.419102 \r\nL 160.201664 111.149525 \r\nL 166.312021 108.977423 \r\nL 172.422378 106.893064 \r\nL 178.532736 104.888181 \r\nL 184.643093 102.955681 \r\nL 190.75345 101.089432 \r\nL 196.863807 99.28409 \r\nL 202.974164 97.534969 \r\nL 209.084521 95.837931 \r\nL 215.194879 94.189305 \r\nL 221.305236 92.585815 \r\nL 227.415593 91.024527 \r\nL 233.52595 89.502798 \r\nL 239.636307 88.01824 \r\nL 245.746664 86.568688 \r\nL 251.857021 85.152171 \r\nL 257.967379 83.766888 \r\nL 264.077736 82.411191 \r\nL 270.188093 81.083567 \r\nL 276.29845 79.782621 \r\nL 282.408807 78.507068 \r\nL 288.519164 77.255716 \r\nL 294.629522 76.027462 \r\nL 300.739879 74.82128 \r\nL 306.850236 73.636216 \r\nL 312.960593 72.471379 \r\nL 319.07095 71.325937 \r\nL 325.181307 70.199111 \r\nL 331.291664 69.090171 \r\nL 337.402022 67.998432 \r\nL 343.512379 66.923248 \r\nL 349.622736 65.864014 \r\nL 355.733093 64.820157 \r\n\" style=\"fill:none;stroke:#000000;stroke-linecap:square;stroke-width:1.5;\"/>\r\n   </g>\r\n   <g id=\"patch_3\">\r\n    <path d=\"M 53.328125 224.64 \r\nL 53.328125 7.2 \r\n\" style=\"fill:none;stroke:#000000;stroke-linecap:square;stroke-linejoin:miter;stroke-width:0.8;\"/>\r\n   </g>\r\n   <g id=\"patch_4\">\r\n    <path d=\"M 388.128125 224.64 \r\nL 388.128125 7.2 \r\n\" style=\"fill:none;stroke:#000000;stroke-linecap:square;stroke-linejoin:miter;stroke-width:0.8;\"/>\r\n   </g>\r\n   <g id=\"patch_5\">\r\n    <path d=\"M 53.328125 224.64 \r\nL 388.128125 224.64 \r\n\" style=\"fill:none;stroke:#000000;stroke-linecap:square;stroke-linejoin:miter;stroke-width:0.8;\"/>\r\n   </g>\r\n   <g id=\"patch_6\">\r\n    <path d=\"M 53.328125 7.2 \r\nL 388.128125 7.2 \r\n\" style=\"fill:none;stroke:#000000;stroke-linecap:square;stroke-linejoin:miter;stroke-width:0.8;\"/>\r\n   </g>\r\n   <g id=\"text_18\">\r\n    <!-- k = 1 -->\r\n    <g transform=\"translate(355.733093 187.898998)scale(0.1 -0.1)\">\r\n     <defs>\r\n      <path d=\"M 9.078125 75.984375 \r\nL 18.109375 75.984375 \r\nL 18.109375 31.109375 \r\nL 44.921875 54.6875 \r\nL 56.390625 54.6875 \r\nL 27.390625 29.109375 \r\nL 57.625 0 \r\nL 45.90625 0 \r\nL 18.109375 26.703125 \r\nL 18.109375 0 \r\nL 9.078125 0 \r\nz\r\n\" id=\"DejaVuSans-107\"/>\r\n      <path d=\"M 10.59375 45.40625 \r\nL 73.1875 45.40625 \r\nL 73.1875 37.203125 \r\nL 10.59375 37.203125 \r\nz\r\nM 10.59375 25.484375 \r\nL 73.1875 25.484375 \r\nL 73.1875 17.1875 \r\nL 10.59375 17.1875 \r\nz\r\n\" id=\"DejaVuSans-61\"/>\r\n     </defs>\r\n     <use xlink:href=\"#DejaVuSans-107\"/>\r\n     <use x=\"57.910156\" xlink:href=\"#DejaVuSans-32\"/>\r\n     <use x=\"89.697266\" xlink:href=\"#DejaVuSans-61\"/>\r\n     <use x=\"173.486328\" xlink:href=\"#DejaVuSans-32\"/>\r\n     <use x=\"205.273438\" xlink:href=\"#DejaVuSans-49\"/>\r\n    </g>\r\n   </g>\r\n   <g id=\"text_19\">\r\n    <!-- k = 2 -->\r\n    <g transform=\"translate(355.733093 157.129288)scale(0.1 -0.1)\">\r\n     <use xlink:href=\"#DejaVuSans-107\"/>\r\n     <use x=\"57.910156\" xlink:href=\"#DejaVuSans-32\"/>\r\n     <use x=\"89.697266\" xlink:href=\"#DejaVuSans-61\"/>\r\n     <use x=\"173.486328\" xlink:href=\"#DejaVuSans-32\"/>\r\n     <use x=\"205.273438\" xlink:href=\"#DejaVuSans-50\"/>\r\n    </g>\r\n   </g>\r\n   <g id=\"text_20\">\r\n    <!-- k = 3 -->\r\n    <g transform=\"translate(355.733093 126.359577)scale(0.1 -0.1)\">\r\n     <use xlink:href=\"#DejaVuSans-107\"/>\r\n     <use x=\"57.910156\" xlink:href=\"#DejaVuSans-32\"/>\r\n     <use x=\"89.697266\" xlink:href=\"#DejaVuSans-61\"/>\r\n     <use x=\"173.486328\" xlink:href=\"#DejaVuSans-32\"/>\r\n     <use x=\"205.273438\" xlink:href=\"#DejaVuSans-51\"/>\r\n    </g>\r\n   </g>\r\n   <g id=\"text_21\">\r\n    <!-- k = 4 -->\r\n    <g transform=\"translate(355.733093 95.589867)scale(0.1 -0.1)\">\r\n     <use xlink:href=\"#DejaVuSans-107\"/>\r\n     <use x=\"57.910156\" xlink:href=\"#DejaVuSans-32\"/>\r\n     <use x=\"89.697266\" xlink:href=\"#DejaVuSans-61\"/>\r\n     <use x=\"173.486328\" xlink:href=\"#DejaVuSans-32\"/>\r\n     <use x=\"205.273438\" xlink:href=\"#DejaVuSans-52\"/>\r\n    </g>\r\n   </g>\r\n   <g id=\"text_22\">\r\n    <!-- k = 5 -->\r\n    <g transform=\"translate(355.733093 64.820157)scale(0.1 -0.1)\">\r\n     <use xlink:href=\"#DejaVuSans-107\"/>\r\n     <use x=\"57.910156\" xlink:href=\"#DejaVuSans-32\"/>\r\n     <use x=\"89.697266\" xlink:href=\"#DejaVuSans-61\"/>\r\n     <use x=\"173.486328\" xlink:href=\"#DejaVuSans-32\"/>\r\n     <use x=\"205.273438\" xlink:href=\"#DejaVuSans-53\"/>\r\n    </g>\r\n   </g>\r\n  </g>\r\n </g>\r\n <defs>\r\n  <clipPath id=\"p8a045c3756\">\r\n   <rect height=\"217.44\" width=\"334.8\" x=\"53.328125\" y=\"7.2\"/>\r\n  </clipPath>\r\n </defs>\r\n</svg>\r\n",
      "image/png": "[encoded data removed]"
     },
     "metadata": {
      "needs_background": "light"
     }
    }
   ],
   "source": [
    "colors_dict=dict(zip(keys_from_indices,['red','yellow','lightblue','pink','lightgreen','brown','orange','purple']))\n",
    "marker_shapes_dict=dict(zip(keys_from_indices,['o','^','s','X','d','s','o','>']))\n",
    "\n",
    "\n",
    "\n",
    "K_fig=plt.figure()\n",
    "plt.subplot(111)\n",
    "\n",
    "\n",
    "for individual in K_df.index:\n",
    "    if (K_df.loc[individual]['C']).size>=2:\n",
    "        x=K_df.loc[individual]['C']\n",
    "        y=K_df.loc[individual]['F']\n",
    "        plt.scatter(x,y,c=colors_dict[individual], marker=marker_shapes_dict                    [individual], s=50, edgecolor='k', figure=K_fig)\n",
    "        #print(mods[individual]) #Test polynomial function\n",
    "        plt.plot(x,mods[individual](x),'--',c=colors_dict[individual])\n",
    "\n",
    "plt.xlabel('Citations (Google Scholar)')\n",
    "plt.ylabel('Followers (Twitter)')\n",
    "\n",
    "#Add K-index lines 1-5\n",
    "x_limits=plt.xlim()\n",
    "y_limits=plt.ylim()\n",
    "if min(x_limits) <= 0:\n",
    "    min_xes = 0.01\n",
    "else:\n",
    "    min_xes = min(x_limits)\n",
    "\n",
    "xes=np.linspace(min(x_limits), max(x_limits)*0.9, 50)\n",
    "\n",
    "end_k=5     #Highest K factor line ot plot - K=5 is traditionally considered                    Kardashian.\n",
    "k=pd.DataFrame([])\n",
    "for j in range(end_k):\n",
    "    k[j]=np.multiply(np.multiply(np.power(xes, 0.32), 43.3), j+1)\n",
    "    if j==end_k-1:\n",
    "        clr='k'\n",
    "        solid_dash='-'\n",
    "    else:\n",
    "        clr='gray'\n",
    "        solid_dash='--'\n",
    "    plt.plot(xes,k[j],ls=solid_dash,c=clr)\n",
    "    plt.text(0.9*max(x_limits), max(k[j][~k[j].isna()]),('k = '+str(j+1)))\n",
    "    \n",
    "K_fig.savefig('CMS_K-index.png')"
   ]
  },
  {
   "source": [
    "## Plotly Options\n",
    "\n",
    "In the following cell, I will make a similar figure in plotly for web interactivity."
   ],
   "cell_type": "markdown",
   "metadata": {}
  },
  {
   "cell_type": "code",
   "execution_count": 18,
   "metadata": {},
   "outputs": [
    {
     "output_type": "display_data",
     "data": {
      "application/vnd.plotly.v1+json": {
       "config": {
        "plotlyServerURL": "https://plot.ly"
       },
       "data": [
        {
         "type": "scatter",
         "x": [],
         "y": []
        },
        {
         "hoverinfo": "x+y+text",
         "text": "Name1",
         "type": "scatter",
         "x": [
          1189,
          1453,
          1862
         ],
         "y": [
          953,
          1217,
          1696
         ]
        },
        {
         "hoverinfo": "x+y+text",
         "text": "Name2",
         "type": "scatter",
         "x": [
          915,
          1233,
          1650
         ],
         "y": [
          362,
          589,
          883
         ]
        },
        {
         "hoverinfo": "x+y+text",
         "text": "Name3",
         "type": "scatter",
         "x": [
          1247,
          1910,
          2213
         ],
         "y": [
          1172,
          1563,
          1965
         ]
        },
        {
         "hoverinfo": "x+y+text",
         "text": "Name4",
         "type": "scatter",
         "x": [
          777,
          943,
          1241
         ],
         "y": [
          124,
          163,
          205
         ]
        },
        {
         "hoverinfo": "x+y+text",
         "text": "Name5",
         "type": "scatter",
         "x": [
          13791,
          15572,
          17861
         ],
         "y": [
          4245,
          5292,
          6353
         ]
        },
        {
         "hoverinfo": "x+y+text",
         "text": "Name1",
         "type": "scatter",
         "x": [
          1189,
          1453,
          1862
         ],
         "y": [
          953,
          1217,
          1696
         ]
        },
        {
         "hoverinfo": "x+y+text",
         "text": "Name2",
         "type": "scatter",
         "x": [
          915,
          1233,
          1650
         ],
         "y": [
          362,
          589,
          883
         ]
        },
        {
         "hoverinfo": "x+y+text",
         "text": "Name3",
         "type": "scatter",
         "x": [
          1247,
          1910,
          2213
         ],
         "y": [
          1172,
          1563,
          1965
         ]
        },
        {
         "hoverinfo": "x+y+text",
         "text": "Name4",
         "type": "scatter",
         "x": [
          777,
          943,
          1241
         ],
         "y": [
          124,
          163,
          205
         ]
        },
        {
         "hoverinfo": "x+y+text",
         "text": "Name5",
         "type": "scatter",
         "x": [
          13791,
          15572,
          17861
         ],
         "y": [
          4245,
          5292,
          6353
         ]
        },
        {
         "hoverinfo": "x+y+text",
         "text": "Name7",
         "type": "scatter",
         "x": [
          345,
          581
         ],
         "y": [
          1670,
          2261
         ]
        },
        {
         "hoverinfo": "x+y+text",
         "text": "Name8",
         "type": "scatter",
         "x": [
          2129,
          2530
         ],
         "y": [
          462,
          594
         ]
        },
        {
         "hoverinfo": "x+y+text",
         "text": "Name1",
         "type": "scatter",
         "x": [
          1189,
          1453,
          1862
         ],
         "y": [
          953,
          1217,
          1696
         ]
        },
        {
         "hoverinfo": "x+y+text",
         "text": "Name2",
         "type": "scatter",
         "x": [
          915,
          1233,
          1650
         ],
         "y": [
          362,
          589,
          883
         ]
        },
        {
         "hoverinfo": "x+y+text",
         "text": "Name3",
         "type": "scatter",
         "x": [
          1247,
          1910,
          2213
         ],
         "y": [
          1172,
          1563,
          1965
         ]
        },
        {
         "hoverinfo": "x+y+text",
         "text": "Name4",
         "type": "scatter",
         "x": [
          777,
          943,
          1241
         ],
         "y": [
          124,
          163,
          205
         ]
        },
        {
         "hoverinfo": "x+y+text",
         "text": "Name5",
         "type": "scatter",
         "x": [
          13791,
          15572,
          17861
         ],
         "y": [
          4245,
          5292,
          6353
         ]
        },
        {
         "hoverinfo": "x+y+text",
         "text": "Name7",
         "type": "scatter",
         "x": [
          345,
          581
         ],
         "y": [
          1670,
          2261
         ]
        },
        {
         "hoverinfo": "x+y+text",
         "text": "Name8",
         "type": "scatter",
         "x": [
          2129,
          2530
         ],
         "y": [
          462,
          594
         ]
        }
       ],
       "layout": {
        "showlegend": false,
        "template": {
         "data": {
          "bar": [
           {
            "error_x": {
             "color": "#2a3f5f"
            },
            "error_y": {
             "color": "#2a3f5f"
            },
            "marker": {
             "line": {
              "color": "#E5ECF6",
              "width": 0.5
             }
            },
            "type": "bar"
           }
          ],
          "barpolar": [
           {
            "marker": {
             "line": {
              "color": "#E5ECF6",
              "width": 0.5
             }
            },
            "type": "barpolar"
           }
          ],
          "carpet": [
           {
            "aaxis": {
             "endlinecolor": "#2a3f5f",
             "gridcolor": "white",
             "linecolor": "white",
             "minorgridcolor": "white",
             "startlinecolor": "#2a3f5f"
            },
            "baxis": {
             "endlinecolor": "#2a3f5f",
             "gridcolor": "white",
             "linecolor": "white",
             "minorgridcolor": "white",
             "startlinecolor": "#2a3f5f"
            },
            "type": "carpet"
           }
          ],
          "choropleth": [
           {
            "colorbar": {
             "outlinewidth": 0,
             "ticks": ""
            },
            "type": "choropleth"
           }
          ],
          "contour": [
           {
            "colorbar": {
             "outlinewidth": 0,
             "ticks": ""
            },
            "colorscale": [
             [
              0,
              "#0d0887"
             ],
             [
              0.1111111111111111,
              "#46039f"
             ],
             [
              0.2222222222222222,
              "#7201a8"
             ],
             [
              0.3333333333333333,
              "#9c179e"
             ],
             [
              0.4444444444444444,
              "#bd3786"
             ],
             [
              0.5555555555555556,
              "#d8576b"
             ],
             [
              0.6666666666666666,
              "#ed7953"
             ],
             [
              0.7777777777777778,
              "#fb9f3a"
             ],
             [
              0.8888888888888888,
              "#fdca26"
             ],
             [
              1,
              "#f0f921"
             ]
            ],
            "type": "contour"
           }
          ],
          "contourcarpet": [
           {
            "colorbar": {
             "outlinewidth": 0,
             "ticks": ""
            },
            "type": "contourcarpet"
           }
          ],
          "heatmap": [
           {
            "colorbar": {
             "outlinewidth": 0,
             "ticks": ""
            },
            "colorscale": [
             [
              0,
              "#0d0887"
             ],
             [
              0.1111111111111111,
              "#46039f"
             ],
             [
              0.2222222222222222,
              "#7201a8"
             ],
             [
              0.3333333333333333,
              "#9c179e"
             ],
             [
              0.4444444444444444,
              "#bd3786"
             ],
             [
              0.5555555555555556,
              "#d8576b"
             ],
             [
              0.6666666666666666,
              "#ed7953"
             ],
             [
              0.7777777777777778,
              "#fb9f3a"
             ],
             [
              0.8888888888888888,
              "#fdca26"
             ],
             [
              1,
              "#f0f921"
             ]
            ],
            "type": "heatmap"
           }
          ],
          "heatmapgl": [
           {
            "colorbar": {
             "outlinewidth": 0,
             "ticks": ""
            },
            "colorscale": [
             [
              0,
              "#0d0887"
             ],
             [
              0.1111111111111111,
              "#46039f"
             ],
             [
              0.2222222222222222,
              "#7201a8"
             ],
             [
              0.3333333333333333,
              "#9c179e"
             ],
             [
              0.4444444444444444,
              "#bd3786"
             ],
             [
              0.5555555555555556,
              "#d8576b"
             ],
             [
              0.6666666666666666,
              "#ed7953"
             ],
             [
              0.7777777777777778,
              "#fb9f3a"
             ],
             [
              0.8888888888888888,
              "#fdca26"
             ],
             [
              1,
              "#f0f921"
             ]
            ],
            "type": "heatmapgl"
           }
          ],
          "histogram": [
           {
            "marker": {
             "colorbar": {
              "outlinewidth": 0,
              "ticks": ""
             }
            },
            "type": "histogram"
           }
          ],
          "histogram2d": [
           {
            "colorbar": {
             "outlinewidth": 0,
             "ticks": ""
            },
            "colorscale": [
             [
              0,
              "#0d0887"
             ],
             [
              0.1111111111111111,
              "#46039f"
             ],
             [
              0.2222222222222222,
              "#7201a8"
             ],
             [
              0.3333333333333333,
              "#9c179e"
             ],
             [
              0.4444444444444444,
              "#bd3786"
             ],
             [
              0.5555555555555556,
              "#d8576b"
             ],
             [
              0.6666666666666666,
              "#ed7953"
             ],
             [
              0.7777777777777778,
              "#fb9f3a"
             ],
             [
              0.8888888888888888,
              "#fdca26"
             ],
             [
              1,
              "#f0f921"
             ]
            ],
            "type": "histogram2d"
           }
          ],
          "histogram2dcontour": [
           {
            "colorbar": {
             "outlinewidth": 0,
             "ticks": ""
            },
            "colorscale": [
             [
              0,
              "#0d0887"
             ],
             [
              0.1111111111111111,
              "#46039f"
             ],
             [
              0.2222222222222222,
              "#7201a8"
             ],
             [
              0.3333333333333333,
              "#9c179e"
             ],
             [
              0.4444444444444444,
              "#bd3786"
             ],
             [
              0.5555555555555556,
              "#d8576b"
             ],
             [
              0.6666666666666666,
              "#ed7953"
             ],
             [
              0.7777777777777778,
              "#fb9f3a"
             ],
             [
              0.8888888888888888,
              "#fdca26"
             ],
             [
              1,
              "#f0f921"
             ]
            ],
            "type": "histogram2dcontour"
           }
          ],
          "mesh3d": [
           {
            "colorbar": {
             "outlinewidth": 0,
             "ticks": ""
            },
            "type": "mesh3d"
           }
          ],
          "parcoords": [
           {
            "line": {
             "colorbar": {
              "outlinewidth": 0,
              "ticks": ""
             }
            },
            "type": "parcoords"
           }
          ],
          "pie": [
           {
            "automargin": true,
            "type": "pie"
           }
          ],
          "scatter": [
           {
            "marker": {
             "colorbar": {
              "outlinewidth": 0,
              "ticks": ""
             }
            },
            "type": "scatter"
           }
          ],
          "scatter3d": [
           {
            "line": {
             "colorbar": {
              "outlinewidth": 0,
              "ticks": ""
             }
            },
            "marker": {
             "colorbar": {
              "outlinewidth": 0,
              "ticks": ""
             }
            },
            "type": "scatter3d"
           }
          ],
          "scattercarpet": [
           {
            "marker": {
             "colorbar": {
              "outlinewidth": 0,
              "ticks": ""
             }
            },
            "type": "scattercarpet"
           }
          ],
          "scattergeo": [
           {
            "marker": {
             "colorbar": {
              "outlinewidth": 0,
              "ticks": ""
             }
            },
            "type": "scattergeo"
           }
          ],
          "scattergl": [
           {
            "marker": {
             "colorbar": {
              "outlinewidth": 0,
              "ticks": ""
             }
            },
            "type": "scattergl"
           }
          ],
          "scattermapbox": [
           {
            "marker": {
             "colorbar": {
              "outlinewidth": 0,
              "ticks": ""
             }
            },
            "type": "scattermapbox"
           }
          ],
          "scatterpolar": [
           {
            "marker": {
             "colorbar": {
              "outlinewidth": 0,
              "ticks": ""
             }
            },
            "type": "scatterpolar"
           }
          ],
          "scatterpolargl": [
           {
            "marker": {
             "colorbar": {
              "outlinewidth": 0,
              "ticks": ""
             }
            },
            "type": "scatterpolargl"
           }
          ],
          "scatterternary": [
           {
            "marker": {
             "colorbar": {
              "outlinewidth": 0,
              "ticks": ""
             }
            },
            "type": "scatterternary"
           }
          ],
          "surface": [
           {
            "colorbar": {
             "outlinewidth": 0,
             "ticks": ""
            },
            "colorscale": [
             [
              0,
              "#0d0887"
             ],
             [
              0.1111111111111111,
              "#46039f"
             ],
             [
              0.2222222222222222,
              "#7201a8"
             ],
             [
              0.3333333333333333,
              "#9c179e"
             ],
             [
              0.4444444444444444,
              "#bd3786"
             ],
             [
              0.5555555555555556,
              "#d8576b"
             ],
             [
              0.6666666666666666,
              "#ed7953"
             ],
             [
              0.7777777777777778,
              "#fb9f3a"
             ],
             [
              0.8888888888888888,
              "#fdca26"
             ],
             [
              1,
              "#f0f921"
             ]
            ],
            "type": "surface"
           }
          ],
          "table": [
           {
            "cells": {
             "fill": {
              "color": "#EBF0F8"
             },
             "line": {
              "color": "white"
             }
            },
            "header": {
             "fill": {
              "color": "#C8D4E3"
             },
             "line": {
              "color": "white"
             }
            },
            "type": "table"
           }
          ]
         },
         "layout": {
          "annotationdefaults": {
           "arrowcolor": "#2a3f5f",
           "arrowhead": 0,
           "arrowwidth": 1
          },
          "autotypenumbers": "strict",
          "coloraxis": {
           "colorbar": {
            "outlinewidth": 0,
            "ticks": ""
           }
          },
          "colorscale": {
           "diverging": [
            [
             0,
             "#8e0152"
            ],
            [
             0.1,
             "#c51b7d"
            ],
            [
             0.2,
             "#de77ae"
            ],
            [
             0.3,
             "#f1b6da"
            ],
            [
             0.4,
             "#fde0ef"
            ],
            [
             0.5,
             "#f7f7f7"
            ],
            [
             0.6,
             "#e6f5d0"
            ],
            [
             0.7,
             "#b8e186"
            ],
            [
             0.8,
             "#7fbc41"
            ],
            [
             0.9,
             "#4d9221"
            ],
            [
             1,
             "#276419"
            ]
           ],
           "sequential": [
            [
             0,
             "#0d0887"
            ],
            [
             0.1111111111111111,
             "#46039f"
            ],
            [
             0.2222222222222222,
             "#7201a8"
            ],
            [
             0.3333333333333333,
             "#9c179e"
            ],
            [
             0.4444444444444444,
             "#bd3786"
            ],
            [
             0.5555555555555556,
             "#d8576b"
            ],
            [
             0.6666666666666666,
             "#ed7953"
            ],
            [
             0.7777777777777778,
             "#fb9f3a"
            ],
            [
             0.8888888888888888,
             "#fdca26"
            ],
            [
             1,
             "#f0f921"
            ]
           ],
           "sequentialminus": [
            [
             0,
             "#0d0887"
            ],
            [
             0.1111111111111111,
             "#46039f"
            ],
            [
             0.2222222222222222,
             "#7201a8"
            ],
            [
             0.3333333333333333,
             "#9c179e"
            ],
            [
             0.4444444444444444,
             "#bd3786"
            ],
            [
             0.5555555555555556,
             "#d8576b"
            ],
            [
             0.6666666666666666,
             "#ed7953"
            ],
            [
             0.7777777777777778,
             "#fb9f3a"
            ],
            [
             0.8888888888888888,
             "#fdca26"
            ],
            [
             1,
             "#f0f921"
            ]
           ]
          },
          "colorway": [
           "#636efa",
           "#EF553B",
           "#00cc96",
           "#ab63fa",
           "#FFA15A",
           "#19d3f3",
           "#FF6692",
           "#B6E880",
           "#FF97FF",
           "#FECB52"
          ],
          "font": {
           "color": "#2a3f5f"
          },
          "geo": {
           "bgcolor": "white",
           "lakecolor": "white",
           "landcolor": "#E5ECF6",
           "showlakes": true,
           "showland": true,
           "subunitcolor": "white"
          },
          "hoverlabel": {
           "align": "left"
          },
          "hovermode": "closest",
          "mapbox": {
           "style": "light"
          },
          "paper_bgcolor": "white",
          "plot_bgcolor": "#E5ECF6",
          "polar": {
           "angularaxis": {
            "gridcolor": "white",
            "linecolor": "white",
            "ticks": ""
           },
           "bgcolor": "#E5ECF6",
           "radialaxis": {
            "gridcolor": "white",
            "linecolor": "white",
            "ticks": ""
           }
          },
          "scene": {
           "xaxis": {
            "backgroundcolor": "#E5ECF6",
            "gridcolor": "white",
            "gridwidth": 2,
            "linecolor": "white",
            "showbackground": true,
            "ticks": "",
            "zerolinecolor": "white"
           },
           "yaxis": {
            "backgroundcolor": "#E5ECF6",
            "gridcolor": "white",
            "gridwidth": 2,
            "linecolor": "white",
            "showbackground": true,
            "ticks": "",
            "zerolinecolor": "white"
           },
           "zaxis": {
            "backgroundcolor": "#E5ECF6",
            "gridcolor": "white",
            "gridwidth": 2,
            "linecolor": "white",
            "showbackground": true,
            "ticks": "",
            "zerolinecolor": "white"
           }
          },
          "shapedefaults": {
           "line": {
            "color": "#2a3f5f"
           }
          },
          "ternary": {
           "aaxis": {
            "gridcolor": "white",
            "linecolor": "white",
            "ticks": ""
           },
           "baxis": {
            "gridcolor": "white",
            "linecolor": "white",
            "ticks": ""
           },
           "bgcolor": "#E5ECF6",
           "caxis": {
            "gridcolor": "white",
            "linecolor": "white",
            "ticks": ""
           }
          },
          "title": {
           "x": 0.05
          },
          "xaxis": {
           "automargin": true,
           "gridcolor": "white",
           "linecolor": "white",
           "ticks": "",
           "title": {
            "standoff": 15
           },
           "zerolinecolor": "white",
           "zerolinewidth": 2
          },
          "yaxis": {
           "automargin": true,
           "gridcolor": "white",
           "linecolor": "white",
           "ticks": "",
           "title": {
            "standoff": 15
           },
           "zerolinecolor": "white",
           "zerolinewidth": 2
          }
         }
        }
       }
      }
     },
     "metadata": {}
    }
   ],
   "source": [
    "import plotly.express as px \n",
    "import plotly.graph_objects as go\n",
    "\n",
    "\n",
    "k_fig=go.Figure(data=go.Scatter(x=[], y=[]))\n",
    "for individual in K_df.index: \n",
    "    if (K_df.loc[individual]['C']).size>=2:\n",
    "        k_fig.add_trace(go.Scatter(x=K_df.loc[individual]['C'], y=K_df.loc[individual]['F'],text = individual, hoverinfo = 'x+y+text',))\n",
    "\n",
    "#K_fig=(px.scatter(K_df, x='C', y='F', color=K_df.index, trendline='ols', ))\n",
    "k_fig.update_layout({'showlegend':False})\n",
    "k_fig.show()\n",
    "\n",
    "\n",
    "k_fig.write_html(\"USF_CMS_Kindices_go_2021.html\")\n",
    "\n",
    "#Note this is a work in progress! Still figuring out the best way to incorporate the K-value isopleths and a legend with Plotly. \n"
   ]
  },
  {
   "cell_type": "code",
   "execution_count": null,
   "metadata": {},
   "outputs": [],
   "source": []
  }
 ]
}