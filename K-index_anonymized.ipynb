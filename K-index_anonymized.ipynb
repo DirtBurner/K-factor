{
 "metadata": {
  "language_info": {
   "codemirror_mode": {
    "name": "ipython",
    "version": 3
   },
   "file_extension": ".py",
   "mimetype": "text/x-python",
   "name": "python",
   "nbconvert_exporter": "python",
   "pygments_lexer": "ipython3",
   "version": "3.9.1"
  },
  "orig_nbformat": 2,
  "kernelspec": {
   "name": "python3",
   "display_name": "Python 3.9.1 64-bit"
  },
  "interpreter": {
   "hash": "5a06ee7dfc3be38b346c7eeec74a298f806dd2de984ba6d6514b00d6ac1942b5"
  }
 },
 "nbformat": 4,
 "nbformat_minor": 2,
 "cells": [
  {
   "source": [
    "# Tracking College of Marine Science K-Index Trends\n",
    "## Faculty Active on Twitter\n",
    "\n",
    "This notebook builds a time series figure to track the evolution of CMS faculty Twitter users' K-index. A K-index above 5 indicates a scientist has \"gone Kardashian\" - having a social media impact that far outweighs the publication and citation impact of the scientist. Despite the negative connotation of \"going Kardashian,\" several prominent, accomplished, and respected scientists are stratospheric with respect to the K-index! Thus, I think it is a good indication of a scientist's overall impact. "
   ],
   "cell_type": "markdown",
   "metadata": {}
  },
  {
   "cell_type": "code",
   "execution_count": 10,
   "metadata": {},
   "outputs": [
    {
     "output_type": "stream",
     "name": "stdout",
     "text": [
      "           Year     F      C         K\nName                                  \nName1  2/7/2019   953   1189  2.283215\nName2  2/7/2019   362    915  0.943118\nName3  2/7/2019  1172   1247  2.765429\nName4  2/7/2019   124    777  0.340407\nName5  2/7/2019  4245  13791  4.642150\n"
     ]
    }
   ],
   "source": [
    "#Load data and packages\n",
    "import pandas as pd \n",
    "import matplotlib.pyplot as plt \n",
    "import numpy as np \n",
    "import plotly\n",
    "import os\n",
    "\n",
    "K_df = pd.read_csv('K-index_python_anonymized.csv', index_col='Name')\n",
    "print(K_df.head())"
   ]
  },
  {
   "source": [
    "## Data organization\n",
    "Because we specified the Name column as the index in reading the data from the csv file, we can loop through the names and work on a mini-dataframe for each person inthe data set. This allows us to compute a linear regression through F (followers) vs. C (citations) to map each person's trend in time. "
   ],
   "cell_type": "markdown",
   "metadata": {}
  },
  {
   "cell_type": "code",
   "execution_count": 12,
   "metadata": {},
   "outputs": [
    {
     "output_type": "stream",
     "name": "stdout",
     "text": [
      "Index(['Name1', 'Name2', 'Name3', 'Name4', 'Name5', 'Name6', 'Name7', 'Name8'], dtype='object', name='Name')\n{'Name1': poly1d([   1.10978307, -377.48765194]), 'Name2': poly1d([   0.70865073, -285.81848491]), 'Name3': poly1d([  0.78323685, 164.67270135]), 'Name4': poly1d([ 0.17058036, -4.36281569]), 'Name5': poly1d([ 5.15402751e-01, -2.81645984e+03]), 'Name6': ' ', 'Name7': poly1d([  2.50423729, 806.03813559]), 'Name8': poly1d([   0.32917706, -238.81795511])}\n"
     ]
    }
   ],
   "source": [
    "#Make a container of coefficients from linear models:\n",
    "keys_from_indices=K_df.index.unique(level='Name')\n",
    "print(keys_from_indices)\n",
    "mods={k:None for k in keys_from_indices} #Initialize dict keys from indices of K_df, all with values of None that will be replaced as we loop through\n",
    "\n",
    "#Loop through the names and calculate a linear regression between F and C (Follower and Citations)\n",
    "for individual in K_df.index: \n",
    "    if (K_df.loc[individual]['C']).size>=2:\n",
    "        #print(K_df.loc[individual][:]) #Use this to see what the data frames look              like while iterating\n",
    "        x=K_df.loc[individual]['C']\n",
    "        y=K_df.loc[individual]['F']\n",
    "        z=np.polyfit(x, y, 1)\n",
    "        mods[individual]=np.poly1d(z)  \n",
    "    else: \n",
    "        mods[individual]=' '\n",
    "print(mods)"
   ]
  },
  {
   "source": [
    "## Plotting the Faculty Data in Followers/Citations Space\n",
    "Here, we plot the data from the K_df DataFrame as well as the trend lines. The data will not make much graphical sense until the framework of the K-index is added, which occurs in the second part of the code cell!\n",
    "\n",
    "## Kardashian Index Lines\n",
    "The final flourish of this plot is the lines for K_indices 1-5. Above 5, and one is considered a scientific Kardashian."
   ],
   "cell_type": "markdown",
   "metadata": {}
  },
  {
   "cell_type": "code",
   "execution_count": 19,
   "metadata": {},
   "outputs": [
    {
     "output_type": "display_data",
     "data": {
      "text/plain": "<Figure size 432x288 with 1 Axes>",
      "image/svg+xml": "<?xml version=\"1.0\" encoding=\"utf-8\" standalone=\"no\"?>\r\n<!DOCTYPE svg PUBLIC \"-//W3C//DTD SVG 1.1//EN\"\r\n  \"http://www.w3.org/Graphics/SVG/1.1/DTD/svg11.dtd\">\r\n<!-- Created with matplotlib (https://matplotlib.org/) -->\r\n<svg height=\"262.19625pt\" version=\"1.1\" viewBox=\"0 0 395.328125 262.19625\" width=\"395.328125pt\" xmlns=\"http://www.w3.org/2000/svg\" xmlns:xlink=\"http://www.w3.org/1999/xlink\">\r\n <metadata>\r\n  <rdf:RDF xmlns:cc=\"http://creativecommons.org/ns#\" xmlns:dc=\"http://purl.org/dc/elements/1.1/\" xmlns:rdf=\"http://www.w3.org/1999/02/22-rdf-syntax-ns#\">\r\n   <cc:Work>\r\n    <dc:type rdf:resource=\"http://purl.org/dc/dcmitype/StillImage\"/>\r\n    <dc:date>2021-06-18T09:55:16.968107</dc:date>\r\n    <dc:format>image/svg+xml</dc:format>\r\n    <dc:creator>\r\n     <cc:Agent>\r\n      <dc:title>Matplotlib v3.3.3, https://matplotlib.org/</dc:title>\r\n     </cc:Agent>\r\n    </dc:creator>\r\n   </cc:Work>\r\n  </rdf:RDF>\r\n </metadata>\r\n <defs>\r\n  <style type=\"text/css\">*{stroke-linecap:butt;stroke-linejoin:round;}</style>\r\n </defs>\r\n <g id=\"figure_1\">\r\n  <g id=\"patch_1\">\r\n   <path d=\"M 0 262.19625 \r\nL 395.328125 262.19625 \r\nL 395.328125 0 \r\nL 0 0 \r\nz\r\n\" style=\"fill:none;\"/>\r\n  </g>\r\n  <g id=\"axes_1\">\r\n   <g id=\"patch_2\">\r\n    <path d=\"M 53.328125 224.64 \r\nL 388.128125 224.64 \r\nL 388.128125 7.2 \r\nL 53.328125 7.2 \r\nz\r\n\" style=\"fill:#ffffff;\"/>\r\n   </g>\r\n   <g id=\"PathCollection_1\">\r\n    <defs>\r\n     <path d=\"M 0 3.535534 \r\nC 0.937635 3.535534 1.836992 3.163008 2.5 2.5 \r\nC 3.163008 1.836992 3.535534 0.937635 3.535534 0 \r\nC 3.535534 -0.937635 3.163008 -1.836992 2.5 -2.5 \r\nC 1.836992 -3.163008 0.937635 -3.535534 0 -3.535534 \r\nC -0.937635 -3.535534 -1.836992 -3.163008 -2.5 -2.5 \r\nC -3.163008 -1.836992 -3.535534 -0.937635 -3.535534 0 \r\nC -3.535534 0.937635 -3.163008 1.836992 -2.5 2.5 \r\nC -1.836992 3.163008 -0.937635 3.535534 0 3.535534 \r\nz\r\n\" id=\"m97feacad00\" style=\"stroke:#000000;\"/>\r\n    </defs>\r\n    <g clip-path=\"url(#pafc8047bc2)\">\r\n     <use style=\"fill:#ff0000;stroke:#000000;\" x=\"88.80752\" xlink:href=\"#m97feacad00\" y=\"185.533193\"/>\r\n     <use style=\"fill:#ff0000;stroke:#000000;\" x=\"93.306262\" xlink:href=\"#m97feacad00\" y=\"177.352644\"/>\r\n     <use style=\"fill:#ff0000;stroke:#000000;\" x=\"100.275906\" xlink:href=\"#m97feacad00\" y=\"162.509905\"/>\r\n    </g>\r\n   </g>\r\n   <g id=\"PathCollection_2\">\r\n    <defs>\r\n     <path d=\"M 0 -3.535534 \r\nL -3.535534 3.535534 \r\nL 3.535534 3.535534 \r\nz\r\n\" id=\"md282e1397f\" style=\"stroke:#000000;\"/>\r\n    </defs>\r\n    <g clip-path=\"url(#pafc8047bc2)\">\r\n     <use style=\"fill:#ffff00;stroke:#000000;\" x=\"84.13837\" xlink:href=\"#md282e1397f\" y=\"203.846469\"/>\r\n     <use style=\"fill:#ffff00;stroke:#000000;\" x=\"89.55731\" xlink:href=\"#md282e1397f\" y=\"196.812436\"/>\r\n     <use style=\"fill:#ffff00;stroke:#000000;\" x=\"96.663279\" xlink:href=\"#md282e1397f\" y=\"187.702278\"/>\r\n    </g>\r\n   </g>\r\n   <g id=\"PathCollection_3\">\r\n    <defs>\r\n     <path d=\"M -3.535534 3.535534 \r\nL 3.535534 3.535534 \r\nL 3.535534 -3.535534 \r\nL -3.535534 -3.535534 \r\nz\r\n\" id=\"mfb3721abcc\" style=\"stroke:#000000;\"/>\r\n    </defs>\r\n    <g clip-path=\"url(#pafc8047bc2)\">\r\n     <use style=\"fill:#add8e6;stroke:#000000;\" x=\"89.79588\" xlink:href=\"#mfb3721abcc\" y=\"178.747056\"/>\r\n     <use style=\"fill:#add8e6;stroke:#000000;\" x=\"101.093859\" xlink:href=\"#mfb3721abcc\" y=\"166.631166\"/>\r\n     <use style=\"fill:#add8e6;stroke:#000000;\" x=\"106.257189\" xlink:href=\"#mfb3721abcc\" y=\"154.174421\"/>\r\n    </g>\r\n   </g>\r\n   <g id=\"PathCollection_4\">\r\n    <defs>\r\n     <path d=\"M -1.767767 3.535534 \r\nL 0 1.767767 \r\nL 1.767767 3.535534 \r\nL 3.535534 1.767767 \r\nL 1.767767 0 \r\nL 3.535534 -1.767767 \r\nL 1.767767 -3.535534 \r\nL 0 -1.767767 \r\nL -1.767767 -3.535534 \r\nL -3.535534 -1.767767 \r\nL -1.767767 0 \r\nL -3.535534 1.767767 \r\nz\r\n\" id=\"m9b191e0019\" style=\"stroke:#000000;\"/>\r\n    </defs>\r\n    <g clip-path=\"url(#pafc8047bc2)\">\r\n     <use style=\"fill:#ffc0cb;stroke:#000000;\" x=\"81.786754\" xlink:href=\"#m9b191e0019\" y=\"211.221358\"/>\r\n     <use style=\"fill:#ffc0cb;stroke:#000000;\" x=\"84.615509\" xlink:href=\"#m9b191e0019\" y=\"210.012868\"/>\r\n     <use style=\"fill:#ffc0cb;stroke:#000000;\" x=\"89.693636\" xlink:href=\"#m9b191e0019\" y=\"208.711417\"/>\r\n    </g>\r\n   </g>\r\n   <g id=\"PathCollection_5\">\r\n    <defs>\r\n     <path d=\"M 0 5 \r\nL 3 0 \r\nL 0 -5 \r\nL -3 0 \r\nz\r\n\" id=\"m2d119d9aa7\" style=\"stroke:#000000;\"/>\r\n    </defs>\r\n    <g clip-path=\"url(#pafc8047bc2)\">\r\n     <use style=\"fill:#90ee90;stroke:#000000;\" x=\"303.554325\" xlink:href=\"#m2d119d9aa7\" y=\"83.524221\"/>\r\n     <use style=\"fill:#90ee90;stroke:#000000;\" x=\"333.903798\" xlink:href=\"#m2d119d9aa7\" y=\"51.080906\"/>\r\n     <use style=\"fill:#90ee90;stroke:#000000;\" x=\"372.909943\" xlink:href=\"#m2d119d9aa7\" y=\"18.203774\"/>\r\n    </g>\r\n   </g>\r\n   <g id=\"PathCollection_6\">\r\n    <g clip-path=\"url(#pafc8047bc2)\">\r\n     <use style=\"fill:#ff0000;stroke:#000000;\" x=\"88.80752\" xlink:href=\"#m97feacad00\" y=\"185.533193\"/>\r\n     <use style=\"fill:#ff0000;stroke:#000000;\" x=\"93.306262\" xlink:href=\"#m97feacad00\" y=\"177.352644\"/>\r\n     <use style=\"fill:#ff0000;stroke:#000000;\" x=\"100.275906\" xlink:href=\"#m97feacad00\" y=\"162.509905\"/>\r\n    </g>\r\n   </g>\r\n   <g id=\"PathCollection_7\">\r\n    <g clip-path=\"url(#pafc8047bc2)\">\r\n     <use style=\"fill:#ffff00;stroke:#000000;\" x=\"84.13837\" xlink:href=\"#md282e1397f\" y=\"203.846469\"/>\r\n     <use style=\"fill:#ffff00;stroke:#000000;\" x=\"89.55731\" xlink:href=\"#md282e1397f\" y=\"196.812436\"/>\r\n     <use style=\"fill:#ffff00;stroke:#000000;\" x=\"96.663279\" xlink:href=\"#md282e1397f\" y=\"187.702278\"/>\r\n    </g>\r\n   </g>\r\n   <g id=\"PathCollection_8\">\r\n    <g clip-path=\"url(#pafc8047bc2)\">\r\n     <use style=\"fill:#add8e6;stroke:#000000;\" x=\"89.79588\" xlink:href=\"#mfb3721abcc\" y=\"178.747056\"/>\r\n     <use style=\"fill:#add8e6;stroke:#000000;\" x=\"101.093859\" xlink:href=\"#mfb3721abcc\" y=\"166.631166\"/>\r\n     <use style=\"fill:#add8e6;stroke:#000000;\" x=\"106.257189\" xlink:href=\"#mfb3721abcc\" y=\"154.174421\"/>\r\n    </g>\r\n   </g>\r\n   <g id=\"PathCollection_9\">\r\n    <g clip-path=\"url(#pafc8047bc2)\">\r\n     <use style=\"fill:#ffc0cb;stroke:#000000;\" x=\"81.786754\" xlink:href=\"#m9b191e0019\" y=\"211.221358\"/>\r\n     <use style=\"fill:#ffc0cb;stroke:#000000;\" x=\"84.615509\" xlink:href=\"#m9b191e0019\" y=\"210.012868\"/>\r\n     <use style=\"fill:#ffc0cb;stroke:#000000;\" x=\"89.693636\" xlink:href=\"#m9b191e0019\" y=\"208.711417\"/>\r\n    </g>\r\n   </g>\r\n   <g id=\"PathCollection_10\">\r\n    <g clip-path=\"url(#pafc8047bc2)\">\r\n     <use style=\"fill:#90ee90;stroke:#000000;\" x=\"303.554325\" xlink:href=\"#m2d119d9aa7\" y=\"83.524221\"/>\r\n     <use style=\"fill:#90ee90;stroke:#000000;\" x=\"333.903798\" xlink:href=\"#m2d119d9aa7\" y=\"51.080906\"/>\r\n     <use style=\"fill:#90ee90;stroke:#000000;\" x=\"372.909943\" xlink:href=\"#m2d119d9aa7\" y=\"18.203774\"/>\r\n    </g>\r\n   </g>\r\n   <g id=\"PathCollection_11\">\r\n    <defs>\r\n     <path d=\"M 0 3.535534 \r\nC 0.937635 3.535534 1.836992 3.163008 2.5 2.5 \r\nC 3.163008 1.836992 3.535534 0.937635 3.535534 0 \r\nC 3.535534 -0.937635 3.163008 -1.836992 2.5 -2.5 \r\nC 1.836992 -3.163008 0.937635 -3.535534 0 -3.535534 \r\nC -0.937635 -3.535534 -1.836992 -3.163008 -2.5 -2.5 \r\nC -3.163008 -1.836992 -3.535534 -0.937635 -3.535534 0 \r\nC -3.535534 0.937635 -3.163008 1.836992 -2.5 2.5 \r\nC -1.836992 3.163008 -0.937635 3.535534 0 3.535534 \r\nz\r\n\" id=\"med282c7787\" style=\"stroke:#000000;\"/>\r\n    </defs>\r\n    <g clip-path=\"url(#pafc8047bc2)\">\r\n     <use style=\"fill:#ffa500;stroke:#000000;\" x=\"74.425175\" xlink:href=\"#med282c7787\" y=\"163.315565\"/>\r\n     <use style=\"fill:#ffa500;stroke:#000000;\" x=\"78.446779\" xlink:href=\"#med282c7787\" y=\"145.002289\"/>\r\n    </g>\r\n   </g>\r\n   <g id=\"PathCollection_12\">\r\n    <defs>\r\n     <path d=\"M 3.535534 0 \r\nL -3.535534 -3.535534 \r\nL -3.535534 3.535534 \r\nz\r\n\" id=\"me811184d20\" style=\"stroke:#000000;\"/>\r\n    </defs>\r\n    <g clip-path=\"url(#pafc8047bc2)\">\r\n     <use style=\"fill:#800080;stroke:#000000;\" x=\"104.825771\" xlink:href=\"#me811184d20\" y=\"200.747776\"/>\r\n     <use style=\"fill:#800080;stroke:#000000;\" x=\"111.659088\" xlink:href=\"#me811184d20\" y=\"196.657501\"/>\r\n    </g>\r\n   </g>\r\n   <g id=\"PathCollection_13\">\r\n    <g clip-path=\"url(#pafc8047bc2)\">\r\n     <use style=\"fill:#ff0000;stroke:#000000;\" x=\"88.80752\" xlink:href=\"#m97feacad00\" y=\"185.533193\"/>\r\n     <use style=\"fill:#ff0000;stroke:#000000;\" x=\"93.306262\" xlink:href=\"#m97feacad00\" y=\"177.352644\"/>\r\n     <use style=\"fill:#ff0000;stroke:#000000;\" x=\"100.275906\" xlink:href=\"#m97feacad00\" y=\"162.509905\"/>\r\n    </g>\r\n   </g>\r\n   <g id=\"PathCollection_14\">\r\n    <g clip-path=\"url(#pafc8047bc2)\">\r\n     <use style=\"fill:#ffff00;stroke:#000000;\" x=\"84.13837\" xlink:href=\"#md282e1397f\" y=\"203.846469\"/>\r\n     <use style=\"fill:#ffff00;stroke:#000000;\" x=\"89.55731\" xlink:href=\"#md282e1397f\" y=\"196.812436\"/>\r\n     <use style=\"fill:#ffff00;stroke:#000000;\" x=\"96.663279\" xlink:href=\"#md282e1397f\" y=\"187.702278\"/>\r\n    </g>\r\n   </g>\r\n   <g id=\"PathCollection_15\">\r\n    <g clip-path=\"url(#pafc8047bc2)\">\r\n     <use style=\"fill:#add8e6;stroke:#000000;\" x=\"89.79588\" xlink:href=\"#mfb3721abcc\" y=\"178.747056\"/>\r\n     <use style=\"fill:#add8e6;stroke:#000000;\" x=\"101.093859\" xlink:href=\"#mfb3721abcc\" y=\"166.631166\"/>\r\n     <use style=\"fill:#add8e6;stroke:#000000;\" x=\"106.257189\" xlink:href=\"#mfb3721abcc\" y=\"154.174421\"/>\r\n    </g>\r\n   </g>\r\n   <g id=\"PathCollection_16\">\r\n    <g clip-path=\"url(#pafc8047bc2)\">\r\n     <use style=\"fill:#ffc0cb;stroke:#000000;\" x=\"81.786754\" xlink:href=\"#m9b191e0019\" y=\"211.221358\"/>\r\n     <use style=\"fill:#ffc0cb;stroke:#000000;\" x=\"84.615509\" xlink:href=\"#m9b191e0019\" y=\"210.012868\"/>\r\n     <use style=\"fill:#ffc0cb;stroke:#000000;\" x=\"89.693636\" xlink:href=\"#m9b191e0019\" y=\"208.711417\"/>\r\n    </g>\r\n   </g>\r\n   <g id=\"PathCollection_17\">\r\n    <g clip-path=\"url(#pafc8047bc2)\">\r\n     <use style=\"fill:#90ee90;stroke:#000000;\" x=\"303.554325\" xlink:href=\"#m2d119d9aa7\" y=\"83.524221\"/>\r\n     <use style=\"fill:#90ee90;stroke:#000000;\" x=\"333.903798\" xlink:href=\"#m2d119d9aa7\" y=\"51.080906\"/>\r\n     <use style=\"fill:#90ee90;stroke:#000000;\" x=\"372.909943\" xlink:href=\"#m2d119d9aa7\" y=\"18.203774\"/>\r\n    </g>\r\n   </g>\r\n   <g id=\"PathCollection_18\">\r\n    <g clip-path=\"url(#pafc8047bc2)\">\r\n     <use style=\"fill:#ffa500;stroke:#000000;\" x=\"74.425175\" xlink:href=\"#med282c7787\" y=\"163.315565\"/>\r\n     <use style=\"fill:#ffa500;stroke:#000000;\" x=\"78.446779\" xlink:href=\"#med282c7787\" y=\"145.002289\"/>\r\n    </g>\r\n   </g>\r\n   <g id=\"PathCollection_19\">\r\n    <g clip-path=\"url(#pafc8047bc2)\">\r\n     <use style=\"fill:#800080;stroke:#000000;\" x=\"104.825771\" xlink:href=\"#me811184d20\" y=\"200.747776\"/>\r\n     <use style=\"fill:#800080;stroke:#000000;\" x=\"111.659088\" xlink:href=\"#me811184d20\" y=\"196.657501\"/>\r\n    </g>\r\n   </g>\r\n   <g id=\"matplotlib.axis_1\">\r\n    <g id=\"xtick_1\">\r\n     <g id=\"line2d_1\">\r\n      <defs>\r\n       <path d=\"M 0 0 \r\nL 0 3.5 \r\n\" id=\"md04ca5a431\" style=\"stroke:#000000;stroke-width:0.8;\"/>\r\n      </defs>\r\n      <g>\r\n       <use style=\"stroke:#000000;stroke-width:0.8;\" x=\"68.546136\" xlink:href=\"#md04ca5a431\" y=\"224.64\"/>\r\n      </g>\r\n     </g>\r\n     <g id=\"text_1\">\r\n      <!-- 0 -->\r\n      <g transform=\"translate(65.364886 239.238437)scale(0.1 -0.1)\">\r\n       <defs>\r\n        <path d=\"M 31.78125 66.40625 \r\nQ 24.171875 66.40625 20.328125 58.90625 \r\nQ 16.5 51.421875 16.5 36.375 \r\nQ 16.5 21.390625 20.328125 13.890625 \r\nQ 24.171875 6.390625 31.78125 6.390625 \r\nQ 39.453125 6.390625 43.28125 13.890625 \r\nQ 47.125 21.390625 47.125 36.375 \r\nQ 47.125 51.421875 43.28125 58.90625 \r\nQ 39.453125 66.40625 31.78125 66.40625 \r\nz\r\nM 31.78125 74.21875 \r\nQ 44.046875 74.21875 50.515625 64.515625 \r\nQ 56.984375 54.828125 56.984375 36.375 \r\nQ 56.984375 17.96875 50.515625 8.265625 \r\nQ 44.046875 -1.421875 31.78125 -1.421875 \r\nQ 19.53125 -1.421875 13.0625 8.265625 \r\nQ 6.59375 17.96875 6.59375 36.375 \r\nQ 6.59375 54.828125 13.0625 64.515625 \r\nQ 19.53125 74.21875 31.78125 74.21875 \r\nz\r\n\" id=\"DejaVuSans-48\"/>\r\n       </defs>\r\n       <use xlink:href=\"#DejaVuSans-48\"/>\r\n      </g>\r\n     </g>\r\n    </g>\r\n    <g id=\"xtick_2\">\r\n     <g id=\"line2d_2\">\r\n      <g>\r\n       <use style=\"stroke:#000000;stroke-width:0.8;\" x=\"111.147867\" xlink:href=\"#md04ca5a431\" y=\"224.64\"/>\r\n      </g>\r\n     </g>\r\n     <g id=\"text_2\">\r\n      <!-- 2500 -->\r\n      <g transform=\"translate(98.422867 239.238437)scale(0.1 -0.1)\">\r\n       <defs>\r\n        <path d=\"M 19.1875 8.296875 \r\nL 53.609375 8.296875 \r\nL 53.609375 0 \r\nL 7.328125 0 \r\nL 7.328125 8.296875 \r\nQ 12.9375 14.109375 22.625 23.890625 \r\nQ 32.328125 33.6875 34.8125 36.53125 \r\nQ 39.546875 41.84375 41.421875 45.53125 \r\nQ 43.3125 49.21875 43.3125 52.78125 \r\nQ 43.3125 58.59375 39.234375 62.25 \r\nQ 35.15625 65.921875 28.609375 65.921875 \r\nQ 23.96875 65.921875 18.8125 64.3125 \r\nQ 13.671875 62.703125 7.8125 59.421875 \r\nL 7.8125 69.390625 \r\nQ 13.765625 71.78125 18.9375 73 \r\nQ 24.125 74.21875 28.421875 74.21875 \r\nQ 39.75 74.21875 46.484375 68.546875 \r\nQ 53.21875 62.890625 53.21875 53.421875 \r\nQ 53.21875 48.921875 51.53125 44.890625 \r\nQ 49.859375 40.875 45.40625 35.40625 \r\nQ 44.1875 33.984375 37.640625 27.21875 \r\nQ 31.109375 20.453125 19.1875 8.296875 \r\nz\r\n\" id=\"DejaVuSans-50\"/>\r\n        <path d=\"M 10.796875 72.90625 \r\nL 49.515625 72.90625 \r\nL 49.515625 64.59375 \r\nL 19.828125 64.59375 \r\nL 19.828125 46.734375 \r\nQ 21.96875 47.46875 24.109375 47.828125 \r\nQ 26.265625 48.1875 28.421875 48.1875 \r\nQ 40.625 48.1875 47.75 41.5 \r\nQ 54.890625 34.8125 54.890625 23.390625 \r\nQ 54.890625 11.625 47.5625 5.09375 \r\nQ 40.234375 -1.421875 26.90625 -1.421875 \r\nQ 22.3125 -1.421875 17.546875 -0.640625 \r\nQ 12.796875 0.140625 7.71875 1.703125 \r\nL 7.71875 11.625 \r\nQ 12.109375 9.234375 16.796875 8.0625 \r\nQ 21.484375 6.890625 26.703125 6.890625 \r\nQ 35.15625 6.890625 40.078125 11.328125 \r\nQ 45.015625 15.765625 45.015625 23.390625 \r\nQ 45.015625 31 40.078125 35.4375 \r\nQ 35.15625 39.890625 26.703125 39.890625 \r\nQ 22.75 39.890625 18.8125 39.015625 \r\nQ 14.890625 38.140625 10.796875 36.28125 \r\nz\r\n\" id=\"DejaVuSans-53\"/>\r\n       </defs>\r\n       <use xlink:href=\"#DejaVuSans-50\"/>\r\n       <use x=\"63.623047\" xlink:href=\"#DejaVuSans-53\"/>\r\n       <use x=\"127.246094\" xlink:href=\"#DejaVuSans-48\"/>\r\n       <use x=\"190.869141\" xlink:href=\"#DejaVuSans-48\"/>\r\n      </g>\r\n     </g>\r\n    </g>\r\n    <g id=\"xtick_3\">\r\n     <g id=\"line2d_3\">\r\n      <g>\r\n       <use style=\"stroke:#000000;stroke-width:0.8;\" x=\"153.749598\" xlink:href=\"#md04ca5a431\" y=\"224.64\"/>\r\n      </g>\r\n     </g>\r\n     <g id=\"text_3\">\r\n      <!-- 5000 -->\r\n      <g transform=\"translate(141.024598 239.238437)scale(0.1 -0.1)\">\r\n       <use xlink:href=\"#DejaVuSans-53\"/>\r\n       <use x=\"63.623047\" xlink:href=\"#DejaVuSans-48\"/>\r\n       <use x=\"127.246094\" xlink:href=\"#DejaVuSans-48\"/>\r\n       <use x=\"190.869141\" xlink:href=\"#DejaVuSans-48\"/>\r\n      </g>\r\n     </g>\r\n    </g>\r\n    <g id=\"xtick_4\">\r\n     <g id=\"line2d_4\">\r\n      <g>\r\n       <use style=\"stroke:#000000;stroke-width:0.8;\" x=\"196.351329\" xlink:href=\"#md04ca5a431\" y=\"224.64\"/>\r\n      </g>\r\n     </g>\r\n     <g id=\"text_4\">\r\n      <!-- 7500 -->\r\n      <g transform=\"translate(183.626329 239.238437)scale(0.1 -0.1)\">\r\n       <defs>\r\n        <path d=\"M 8.203125 72.90625 \r\nL 55.078125 72.90625 \r\nL 55.078125 68.703125 \r\nL 28.609375 0 \r\nL 18.3125 0 \r\nL 43.21875 64.59375 \r\nL 8.203125 64.59375 \r\nz\r\n\" id=\"DejaVuSans-55\"/>\r\n       </defs>\r\n       <use xlink:href=\"#DejaVuSans-55\"/>\r\n       <use x=\"63.623047\" xlink:href=\"#DejaVuSans-53\"/>\r\n       <use x=\"127.246094\" xlink:href=\"#DejaVuSans-48\"/>\r\n       <use x=\"190.869141\" xlink:href=\"#DejaVuSans-48\"/>\r\n      </g>\r\n     </g>\r\n    </g>\r\n    <g id=\"xtick_5\">\r\n     <g id=\"line2d_5\">\r\n      <g>\r\n       <use style=\"stroke:#000000;stroke-width:0.8;\" x=\"238.95306\" xlink:href=\"#md04ca5a431\" y=\"224.64\"/>\r\n      </g>\r\n     </g>\r\n     <g id=\"text_5\">\r\n      <!-- 10000 -->\r\n      <g transform=\"translate(223.04681 239.238437)scale(0.1 -0.1)\">\r\n       <defs>\r\n        <path d=\"M 12.40625 8.296875 \r\nL 28.515625 8.296875 \r\nL 28.515625 63.921875 \r\nL 10.984375 60.40625 \r\nL 10.984375 69.390625 \r\nL 28.421875 72.90625 \r\nL 38.28125 72.90625 \r\nL 38.28125 8.296875 \r\nL 54.390625 8.296875 \r\nL 54.390625 0 \r\nL 12.40625 0 \r\nz\r\n\" id=\"DejaVuSans-49\"/>\r\n       </defs>\r\n       <use xlink:href=\"#DejaVuSans-49\"/>\r\n       <use x=\"63.623047\" xlink:href=\"#DejaVuSans-48\"/>\r\n       <use x=\"127.246094\" xlink:href=\"#DejaVuSans-48\"/>\r\n       <use x=\"190.869141\" xlink:href=\"#DejaVuSans-48\"/>\r\n       <use x=\"254.492188\" xlink:href=\"#DejaVuSans-48\"/>\r\n      </g>\r\n     </g>\r\n    </g>\r\n    <g id=\"xtick_6\">\r\n     <g id=\"line2d_6\">\r\n      <g>\r\n       <use style=\"stroke:#000000;stroke-width:0.8;\" x=\"281.554791\" xlink:href=\"#md04ca5a431\" y=\"224.64\"/>\r\n      </g>\r\n     </g>\r\n     <g id=\"text_6\">\r\n      <!-- 12500 -->\r\n      <g transform=\"translate(265.648541 239.238437)scale(0.1 -0.1)\">\r\n       <use xlink:href=\"#DejaVuSans-49\"/>\r\n       <use x=\"63.623047\" xlink:href=\"#DejaVuSans-50\"/>\r\n       <use x=\"127.246094\" xlink:href=\"#DejaVuSans-53\"/>\r\n       <use x=\"190.869141\" xlink:href=\"#DejaVuSans-48\"/>\r\n       <use x=\"254.492188\" xlink:href=\"#DejaVuSans-48\"/>\r\n      </g>\r\n     </g>\r\n    </g>\r\n    <g id=\"xtick_7\">\r\n     <g id=\"line2d_7\">\r\n      <g>\r\n       <use style=\"stroke:#000000;stroke-width:0.8;\" x=\"324.156522\" xlink:href=\"#md04ca5a431\" y=\"224.64\"/>\r\n      </g>\r\n     </g>\r\n     <g id=\"text_7\">\r\n      <!-- 15000 -->\r\n      <g transform=\"translate(308.250272 239.238437)scale(0.1 -0.1)\">\r\n       <use xlink:href=\"#DejaVuSans-49\"/>\r\n       <use x=\"63.623047\" xlink:href=\"#DejaVuSans-53\"/>\r\n       <use x=\"127.246094\" xlink:href=\"#DejaVuSans-48\"/>\r\n       <use x=\"190.869141\" xlink:href=\"#DejaVuSans-48\"/>\r\n       <use x=\"254.492188\" xlink:href=\"#DejaVuSans-48\"/>\r\n      </g>\r\n     </g>\r\n    </g>\r\n    <g id=\"xtick_8\">\r\n     <g id=\"line2d_8\">\r\n      <g>\r\n       <use style=\"stroke:#000000;stroke-width:0.8;\" x=\"366.758253\" xlink:href=\"#md04ca5a431\" y=\"224.64\"/>\r\n      </g>\r\n     </g>\r\n     <g id=\"text_8\">\r\n      <!-- 17500 -->\r\n      <g transform=\"translate(350.852003 239.238437)scale(0.1 -0.1)\">\r\n       <use xlink:href=\"#DejaVuSans-49\"/>\r\n       <use x=\"63.623047\" xlink:href=\"#DejaVuSans-55\"/>\r\n       <use x=\"127.246094\" xlink:href=\"#DejaVuSans-53\"/>\r\n       <use x=\"190.869141\" xlink:href=\"#DejaVuSans-48\"/>\r\n       <use x=\"254.492188\" xlink:href=\"#DejaVuSans-48\"/>\r\n      </g>\r\n     </g>\r\n    </g>\r\n    <g id=\"text_9\">\r\n     <!-- Citations (Google Scholar) -->\r\n     <g transform=\"translate(155.26875 252.916562)scale(0.1 -0.1)\">\r\n      <defs>\r\n       <path d=\"M 64.40625 67.28125 \r\nL 64.40625 56.890625 \r\nQ 59.421875 61.53125 53.78125 63.8125 \r\nQ 48.140625 66.109375 41.796875 66.109375 \r\nQ 29.296875 66.109375 22.65625 58.46875 \r\nQ 16.015625 50.828125 16.015625 36.375 \r\nQ 16.015625 21.96875 22.65625 14.328125 \r\nQ 29.296875 6.6875 41.796875 6.6875 \r\nQ 48.140625 6.6875 53.78125 8.984375 \r\nQ 59.421875 11.28125 64.40625 15.921875 \r\nL 64.40625 5.609375 \r\nQ 59.234375 2.09375 53.4375 0.328125 \r\nQ 47.65625 -1.421875 41.21875 -1.421875 \r\nQ 24.65625 -1.421875 15.125 8.703125 \r\nQ 5.609375 18.84375 5.609375 36.375 \r\nQ 5.609375 53.953125 15.125 64.078125 \r\nQ 24.65625 74.21875 41.21875 74.21875 \r\nQ 47.75 74.21875 53.53125 72.484375 \r\nQ 59.328125 70.75 64.40625 67.28125 \r\nz\r\n\" id=\"DejaVuSans-67\"/>\r\n       <path d=\"M 9.421875 54.6875 \r\nL 18.40625 54.6875 \r\nL 18.40625 0 \r\nL 9.421875 0 \r\nz\r\nM 9.421875 75.984375 \r\nL 18.40625 75.984375 \r\nL 18.40625 64.59375 \r\nL 9.421875 64.59375 \r\nz\r\n\" id=\"DejaVuSans-105\"/>\r\n       <path d=\"M 18.3125 70.21875 \r\nL 18.3125 54.6875 \r\nL 36.8125 54.6875 \r\nL 36.8125 47.703125 \r\nL 18.3125 47.703125 \r\nL 18.3125 18.015625 \r\nQ 18.3125 11.328125 20.140625 9.421875 \r\nQ 21.96875 7.515625 27.59375 7.515625 \r\nL 36.8125 7.515625 \r\nL 36.8125 0 \r\nL 27.59375 0 \r\nQ 17.1875 0 13.234375 3.875 \r\nQ 9.28125 7.765625 9.28125 18.015625 \r\nL 9.28125 47.703125 \r\nL 2.6875 47.703125 \r\nL 2.6875 54.6875 \r\nL 9.28125 54.6875 \r\nL 9.28125 70.21875 \r\nz\r\n\" id=\"DejaVuSans-116\"/>\r\n       <path d=\"M 34.28125 27.484375 \r\nQ 23.390625 27.484375 19.1875 25 \r\nQ 14.984375 22.515625 14.984375 16.5 \r\nQ 14.984375 11.71875 18.140625 8.90625 \r\nQ 21.296875 6.109375 26.703125 6.109375 \r\nQ 34.1875 6.109375 38.703125 11.40625 \r\nQ 43.21875 16.703125 43.21875 25.484375 \r\nL 43.21875 27.484375 \r\nz\r\nM 52.203125 31.203125 \r\nL 52.203125 0 \r\nL 43.21875 0 \r\nL 43.21875 8.296875 \r\nQ 40.140625 3.328125 35.546875 0.953125 \r\nQ 30.953125 -1.421875 24.3125 -1.421875 \r\nQ 15.921875 -1.421875 10.953125 3.296875 \r\nQ 6 8.015625 6 15.921875 \r\nQ 6 25.140625 12.171875 29.828125 \r\nQ 18.359375 34.515625 30.609375 34.515625 \r\nL 43.21875 34.515625 \r\nL 43.21875 35.40625 \r\nQ 43.21875 41.609375 39.140625 45 \r\nQ 35.0625 48.390625 27.6875 48.390625 \r\nQ 23 48.390625 18.546875 47.265625 \r\nQ 14.109375 46.140625 10.015625 43.890625 \r\nL 10.015625 52.203125 \r\nQ 14.9375 54.109375 19.578125 55.046875 \r\nQ 24.21875 56 28.609375 56 \r\nQ 40.484375 56 46.34375 49.84375 \r\nQ 52.203125 43.703125 52.203125 31.203125 \r\nz\r\n\" id=\"DejaVuSans-97\"/>\r\n       <path d=\"M 30.609375 48.390625 \r\nQ 23.390625 48.390625 19.1875 42.75 \r\nQ 14.984375 37.109375 14.984375 27.296875 \r\nQ 14.984375 17.484375 19.15625 11.84375 \r\nQ 23.34375 6.203125 30.609375 6.203125 \r\nQ 37.796875 6.203125 41.984375 11.859375 \r\nQ 46.1875 17.53125 46.1875 27.296875 \r\nQ 46.1875 37.015625 41.984375 42.703125 \r\nQ 37.796875 48.390625 30.609375 48.390625 \r\nz\r\nM 30.609375 56 \r\nQ 42.328125 56 49.015625 48.375 \r\nQ 55.71875 40.765625 55.71875 27.296875 \r\nQ 55.71875 13.875 49.015625 6.21875 \r\nQ 42.328125 -1.421875 30.609375 -1.421875 \r\nQ 18.84375 -1.421875 12.171875 6.21875 \r\nQ 5.515625 13.875 5.515625 27.296875 \r\nQ 5.515625 40.765625 12.171875 48.375 \r\nQ 18.84375 56 30.609375 56 \r\nz\r\n\" id=\"DejaVuSans-111\"/>\r\n       <path d=\"M 54.890625 33.015625 \r\nL 54.890625 0 \r\nL 45.90625 0 \r\nL 45.90625 32.71875 \r\nQ 45.90625 40.484375 42.875 44.328125 \r\nQ 39.84375 48.1875 33.796875 48.1875 \r\nQ 26.515625 48.1875 22.3125 43.546875 \r\nQ 18.109375 38.921875 18.109375 30.90625 \r\nL 18.109375 0 \r\nL 9.078125 0 \r\nL 9.078125 54.6875 \r\nL 18.109375 54.6875 \r\nL 18.109375 46.1875 \r\nQ 21.34375 51.125 25.703125 53.5625 \r\nQ 30.078125 56 35.796875 56 \r\nQ 45.21875 56 50.046875 50.171875 \r\nQ 54.890625 44.34375 54.890625 33.015625 \r\nz\r\n\" id=\"DejaVuSans-110\"/>\r\n       <path d=\"M 44.28125 53.078125 \r\nL 44.28125 44.578125 \r\nQ 40.484375 46.53125 36.375 47.5 \r\nQ 32.28125 48.484375 27.875 48.484375 \r\nQ 21.1875 48.484375 17.84375 46.4375 \r\nQ 14.5 44.390625 14.5 40.28125 \r\nQ 14.5 37.15625 16.890625 35.375 \r\nQ 19.28125 33.59375 26.515625 31.984375 \r\nL 29.59375 31.296875 \r\nQ 39.15625 29.25 43.1875 25.515625 \r\nQ 47.21875 21.78125 47.21875 15.09375 \r\nQ 47.21875 7.46875 41.1875 3.015625 \r\nQ 35.15625 -1.421875 24.609375 -1.421875 \r\nQ 20.21875 -1.421875 15.453125 -0.5625 \r\nQ 10.6875 0.296875 5.421875 2 \r\nL 5.421875 11.28125 \r\nQ 10.40625 8.6875 15.234375 7.390625 \r\nQ 20.0625 6.109375 24.8125 6.109375 \r\nQ 31.15625 6.109375 34.5625 8.28125 \r\nQ 37.984375 10.453125 37.984375 14.40625 \r\nQ 37.984375 18.0625 35.515625 20.015625 \r\nQ 33.0625 21.96875 24.703125 23.78125 \r\nL 21.578125 24.515625 \r\nQ 13.234375 26.265625 9.515625 29.90625 \r\nQ 5.8125 33.546875 5.8125 39.890625 \r\nQ 5.8125 47.609375 11.28125 51.796875 \r\nQ 16.75 56 26.8125 56 \r\nQ 31.78125 56 36.171875 55.265625 \r\nQ 40.578125 54.546875 44.28125 53.078125 \r\nz\r\n\" id=\"DejaVuSans-115\"/>\r\n       <path id=\"DejaVuSans-32\"/>\r\n       <path d=\"M 31 75.875 \r\nQ 24.46875 64.65625 21.28125 53.65625 \r\nQ 18.109375 42.671875 18.109375 31.390625 \r\nQ 18.109375 20.125 21.3125 9.0625 \r\nQ 24.515625 -2 31 -13.1875 \r\nL 23.1875 -13.1875 \r\nQ 15.875 -1.703125 12.234375 9.375 \r\nQ 8.59375 20.453125 8.59375 31.390625 \r\nQ 8.59375 42.28125 12.203125 53.3125 \r\nQ 15.828125 64.359375 23.1875 75.875 \r\nz\r\n\" id=\"DejaVuSans-40\"/>\r\n       <path d=\"M 59.515625 10.40625 \r\nL 59.515625 29.984375 \r\nL 43.40625 29.984375 \r\nL 43.40625 38.09375 \r\nL 69.28125 38.09375 \r\nL 69.28125 6.78125 \r\nQ 63.578125 2.734375 56.6875 0.65625 \r\nQ 49.8125 -1.421875 42 -1.421875 \r\nQ 24.90625 -1.421875 15.25 8.5625 \r\nQ 5.609375 18.5625 5.609375 36.375 \r\nQ 5.609375 54.25 15.25 64.234375 \r\nQ 24.90625 74.21875 42 74.21875 \r\nQ 49.125 74.21875 55.546875 72.453125 \r\nQ 61.96875 70.703125 67.390625 67.28125 \r\nL 67.390625 56.78125 \r\nQ 61.921875 61.421875 55.765625 63.765625 \r\nQ 49.609375 66.109375 42.828125 66.109375 \r\nQ 29.4375 66.109375 22.71875 58.640625 \r\nQ 16.015625 51.171875 16.015625 36.375 \r\nQ 16.015625 21.625 22.71875 14.15625 \r\nQ 29.4375 6.6875 42.828125 6.6875 \r\nQ 48.046875 6.6875 52.140625 7.59375 \r\nQ 56.25 8.5 59.515625 10.40625 \r\nz\r\n\" id=\"DejaVuSans-71\"/>\r\n       <path d=\"M 45.40625 27.984375 \r\nQ 45.40625 37.75 41.375 43.109375 \r\nQ 37.359375 48.484375 30.078125 48.484375 \r\nQ 22.859375 48.484375 18.828125 43.109375 \r\nQ 14.796875 37.75 14.796875 27.984375 \r\nQ 14.796875 18.265625 18.828125 12.890625 \r\nQ 22.859375 7.515625 30.078125 7.515625 \r\nQ 37.359375 7.515625 41.375 12.890625 \r\nQ 45.40625 18.265625 45.40625 27.984375 \r\nz\r\nM 54.390625 6.78125 \r\nQ 54.390625 -7.171875 48.1875 -13.984375 \r\nQ 42 -20.796875 29.203125 -20.796875 \r\nQ 24.46875 -20.796875 20.265625 -20.09375 \r\nQ 16.0625 -19.390625 12.109375 -17.921875 \r\nL 12.109375 -9.1875 \r\nQ 16.0625 -11.328125 19.921875 -12.34375 \r\nQ 23.78125 -13.375 27.78125 -13.375 \r\nQ 36.625 -13.375 41.015625 -8.765625 \r\nQ 45.40625 -4.15625 45.40625 5.171875 \r\nL 45.40625 9.625 \r\nQ 42.625 4.78125 38.28125 2.390625 \r\nQ 33.9375 0 27.875 0 \r\nQ 17.828125 0 11.671875 7.65625 \r\nQ 5.515625 15.328125 5.515625 27.984375 \r\nQ 5.515625 40.671875 11.671875 48.328125 \r\nQ 17.828125 56 27.875 56 \r\nQ 33.9375 56 38.28125 53.609375 \r\nQ 42.625 51.21875 45.40625 46.390625 \r\nL 45.40625 54.6875 \r\nL 54.390625 54.6875 \r\nz\r\n\" id=\"DejaVuSans-103\"/>\r\n       <path d=\"M 9.421875 75.984375 \r\nL 18.40625 75.984375 \r\nL 18.40625 0 \r\nL 9.421875 0 \r\nz\r\n\" id=\"DejaVuSans-108\"/>\r\n       <path d=\"M 56.203125 29.59375 \r\nL 56.203125 25.203125 \r\nL 14.890625 25.203125 \r\nQ 15.484375 15.921875 20.484375 11.0625 \r\nQ 25.484375 6.203125 34.421875 6.203125 \r\nQ 39.59375 6.203125 44.453125 7.46875 \r\nQ 49.3125 8.734375 54.109375 11.28125 \r\nL 54.109375 2.78125 \r\nQ 49.265625 0.734375 44.1875 -0.34375 \r\nQ 39.109375 -1.421875 33.890625 -1.421875 \r\nQ 20.796875 -1.421875 13.15625 6.1875 \r\nQ 5.515625 13.8125 5.515625 26.8125 \r\nQ 5.515625 40.234375 12.765625 48.109375 \r\nQ 20.015625 56 32.328125 56 \r\nQ 43.359375 56 49.78125 48.890625 \r\nQ 56.203125 41.796875 56.203125 29.59375 \r\nz\r\nM 47.21875 32.234375 \r\nQ 47.125 39.59375 43.09375 43.984375 \r\nQ 39.0625 48.390625 32.421875 48.390625 \r\nQ 24.90625 48.390625 20.390625 44.140625 \r\nQ 15.875 39.890625 15.1875 32.171875 \r\nz\r\n\" id=\"DejaVuSans-101\"/>\r\n       <path d=\"M 53.515625 70.515625 \r\nL 53.515625 60.890625 \r\nQ 47.90625 63.578125 42.921875 64.890625 \r\nQ 37.9375 66.21875 33.296875 66.21875 \r\nQ 25.25 66.21875 20.875 63.09375 \r\nQ 16.5 59.96875 16.5 54.203125 \r\nQ 16.5 49.359375 19.40625 46.890625 \r\nQ 22.3125 44.4375 30.421875 42.921875 \r\nL 36.375 41.703125 \r\nQ 47.40625 39.59375 52.65625 34.296875 \r\nQ 57.90625 29 57.90625 20.125 \r\nQ 57.90625 9.515625 50.796875 4.046875 \r\nQ 43.703125 -1.421875 29.984375 -1.421875 \r\nQ 24.8125 -1.421875 18.96875 -0.25 \r\nQ 13.140625 0.921875 6.890625 3.21875 \r\nL 6.890625 13.375 \r\nQ 12.890625 10.015625 18.65625 8.296875 \r\nQ 24.421875 6.59375 29.984375 6.59375 \r\nQ 38.421875 6.59375 43.015625 9.90625 \r\nQ 47.609375 13.234375 47.609375 19.390625 \r\nQ 47.609375 24.75 44.3125 27.78125 \r\nQ 41.015625 30.8125 33.5 32.328125 \r\nL 27.484375 33.5 \r\nQ 16.453125 35.6875 11.515625 40.375 \r\nQ 6.59375 45.0625 6.59375 53.421875 \r\nQ 6.59375 63.09375 13.40625 68.65625 \r\nQ 20.21875 74.21875 32.171875 74.21875 \r\nQ 37.3125 74.21875 42.625 73.28125 \r\nQ 47.953125 72.359375 53.515625 70.515625 \r\nz\r\n\" id=\"DejaVuSans-83\"/>\r\n       <path d=\"M 48.78125 52.59375 \r\nL 48.78125 44.1875 \r\nQ 44.96875 46.296875 41.140625 47.34375 \r\nQ 37.3125 48.390625 33.40625 48.390625 \r\nQ 24.65625 48.390625 19.8125 42.84375 \r\nQ 14.984375 37.3125 14.984375 27.296875 \r\nQ 14.984375 17.28125 19.8125 11.734375 \r\nQ 24.65625 6.203125 33.40625 6.203125 \r\nQ 37.3125 6.203125 41.140625 7.25 \r\nQ 44.96875 8.296875 48.78125 10.40625 \r\nL 48.78125 2.09375 \r\nQ 45.015625 0.34375 40.984375 -0.53125 \r\nQ 36.96875 -1.421875 32.421875 -1.421875 \r\nQ 20.0625 -1.421875 12.78125 6.34375 \r\nQ 5.515625 14.109375 5.515625 27.296875 \r\nQ 5.515625 40.671875 12.859375 48.328125 \r\nQ 20.21875 56 33.015625 56 \r\nQ 37.15625 56 41.109375 55.140625 \r\nQ 45.0625 54.296875 48.78125 52.59375 \r\nz\r\n\" id=\"DejaVuSans-99\"/>\r\n       <path d=\"M 54.890625 33.015625 \r\nL 54.890625 0 \r\nL 45.90625 0 \r\nL 45.90625 32.71875 \r\nQ 45.90625 40.484375 42.875 44.328125 \r\nQ 39.84375 48.1875 33.796875 48.1875 \r\nQ 26.515625 48.1875 22.3125 43.546875 \r\nQ 18.109375 38.921875 18.109375 30.90625 \r\nL 18.109375 0 \r\nL 9.078125 0 \r\nL 9.078125 75.984375 \r\nL 18.109375 75.984375 \r\nL 18.109375 46.1875 \r\nQ 21.34375 51.125 25.703125 53.5625 \r\nQ 30.078125 56 35.796875 56 \r\nQ 45.21875 56 50.046875 50.171875 \r\nQ 54.890625 44.34375 54.890625 33.015625 \r\nz\r\n\" id=\"DejaVuSans-104\"/>\r\n       <path d=\"M 41.109375 46.296875 \r\nQ 39.59375 47.171875 37.8125 47.578125 \r\nQ 36.03125 48 33.890625 48 \r\nQ 26.265625 48 22.1875 43.046875 \r\nQ 18.109375 38.09375 18.109375 28.8125 \r\nL 18.109375 0 \r\nL 9.078125 0 \r\nL 9.078125 54.6875 \r\nL 18.109375 54.6875 \r\nL 18.109375 46.1875 \r\nQ 20.953125 51.171875 25.484375 53.578125 \r\nQ 30.03125 56 36.53125 56 \r\nQ 37.453125 56 38.578125 55.875 \r\nQ 39.703125 55.765625 41.0625 55.515625 \r\nz\r\n\" id=\"DejaVuSans-114\"/>\r\n       <path d=\"M 8.015625 75.875 \r\nL 15.828125 75.875 \r\nQ 23.140625 64.359375 26.78125 53.3125 \r\nQ 30.421875 42.28125 30.421875 31.390625 \r\nQ 30.421875 20.453125 26.78125 9.375 \r\nQ 23.140625 -1.703125 15.828125 -13.1875 \r\nL 8.015625 -13.1875 \r\nQ 14.5 -2 17.703125 9.0625 \r\nQ 20.90625 20.125 20.90625 31.390625 \r\nQ 20.90625 42.671875 17.703125 53.65625 \r\nQ 14.5 64.65625 8.015625 75.875 \r\nz\r\n\" id=\"DejaVuSans-41\"/>\r\n      </defs>\r\n      <use xlink:href=\"#DejaVuSans-67\"/>\r\n      <use x=\"69.824219\" xlink:href=\"#DejaVuSans-105\"/>\r\n      <use x=\"97.607422\" xlink:href=\"#DejaVuSans-116\"/>\r\n      <use x=\"136.816406\" xlink:href=\"#DejaVuSans-97\"/>\r\n      <use x=\"198.095703\" xlink:href=\"#DejaVuSans-116\"/>\r\n      <use x=\"237.304688\" xlink:href=\"#DejaVuSans-105\"/>\r\n      <use x=\"265.087891\" xlink:href=\"#DejaVuSans-111\"/>\r\n      <use x=\"326.269531\" xlink:href=\"#DejaVuSans-110\"/>\r\n      <use x=\"389.648438\" xlink:href=\"#DejaVuSans-115\"/>\r\n      <use x=\"441.748047\" xlink:href=\"#DejaVuSans-32\"/>\r\n      <use x=\"473.535156\" xlink:href=\"#DejaVuSans-40\"/>\r\n      <use x=\"512.548828\" xlink:href=\"#DejaVuSans-71\"/>\r\n      <use x=\"590.039062\" xlink:href=\"#DejaVuSans-111\"/>\r\n      <use x=\"651.220703\" xlink:href=\"#DejaVuSans-111\"/>\r\n      <use x=\"712.402344\" xlink:href=\"#DejaVuSans-103\"/>\r\n      <use x=\"775.878906\" xlink:href=\"#DejaVuSans-108\"/>\r\n      <use x=\"803.662109\" xlink:href=\"#DejaVuSans-101\"/>\r\n      <use x=\"865.185547\" xlink:href=\"#DejaVuSans-32\"/>\r\n      <use x=\"896.972656\" xlink:href=\"#DejaVuSans-83\"/>\r\n      <use x=\"960.449219\" xlink:href=\"#DejaVuSans-99\"/>\r\n      <use x=\"1015.429688\" xlink:href=\"#DejaVuSans-104\"/>\r\n      <use x=\"1078.808594\" xlink:href=\"#DejaVuSans-111\"/>\r\n      <use x=\"1139.990234\" xlink:href=\"#DejaVuSans-108\"/>\r\n      <use x=\"1167.773438\" xlink:href=\"#DejaVuSans-97\"/>\r\n      <use x=\"1229.052734\" xlink:href=\"#DejaVuSans-114\"/>\r\n      <use x=\"1270.166016\" xlink:href=\"#DejaVuSans-41\"/>\r\n     </g>\r\n    </g>\r\n   </g>\r\n   <g id=\"matplotlib.axis_2\">\r\n    <g id=\"ytick_1\">\r\n     <g id=\"line2d_9\">\r\n      <defs>\r\n       <path d=\"M 0 0 \r\nL -3.5 0 \r\n\" id=\"m428c91318e\" style=\"stroke:#000000;stroke-width:0.8;\"/>\r\n      </defs>\r\n      <g>\r\n       <use style=\"stroke:#000000;stroke-width:0.8;\" x=\"53.328125\" xlink:href=\"#m428c91318e\" y=\"215.063737\"/>\r\n      </g>\r\n     </g>\r\n     <g id=\"text_10\">\r\n      <!-- 0 -->\r\n      <g transform=\"translate(39.965625 218.862956)scale(0.1 -0.1)\">\r\n       <use xlink:href=\"#DejaVuSans-48\"/>\r\n      </g>\r\n     </g>\r\n    </g>\r\n    <g id=\"ytick_2\">\r\n     <g id=\"line2d_10\">\r\n      <g>\r\n       <use style=\"stroke:#000000;stroke-width:0.8;\" x=\"53.328125\" xlink:href=\"#m428c91318e\" y=\"184.076808\"/>\r\n      </g>\r\n     </g>\r\n     <g id=\"text_11\">\r\n      <!-- 1000 -->\r\n      <g transform=\"translate(20.878125 187.876026)scale(0.1 -0.1)\">\r\n       <use xlink:href=\"#DejaVuSans-49\"/>\r\n       <use x=\"63.623047\" xlink:href=\"#DejaVuSans-48\"/>\r\n       <use x=\"127.246094\" xlink:href=\"#DejaVuSans-48\"/>\r\n       <use x=\"190.869141\" xlink:href=\"#DejaVuSans-48\"/>\r\n      </g>\r\n     </g>\r\n    </g>\r\n    <g id=\"ytick_3\">\r\n     <g id=\"line2d_11\">\r\n      <g>\r\n       <use style=\"stroke:#000000;stroke-width:0.8;\" x=\"53.328125\" xlink:href=\"#m428c91318e\" y=\"153.089878\"/>\r\n      </g>\r\n     </g>\r\n     <g id=\"text_12\">\r\n      <!-- 2000 -->\r\n      <g transform=\"translate(20.878125 156.889097)scale(0.1 -0.1)\">\r\n       <use xlink:href=\"#DejaVuSans-50\"/>\r\n       <use x=\"63.623047\" xlink:href=\"#DejaVuSans-48\"/>\r\n       <use x=\"127.246094\" xlink:href=\"#DejaVuSans-48\"/>\r\n       <use x=\"190.869141\" xlink:href=\"#DejaVuSans-48\"/>\r\n      </g>\r\n     </g>\r\n    </g>\r\n    <g id=\"ytick_4\">\r\n     <g id=\"line2d_12\">\r\n      <g>\r\n       <use style=\"stroke:#000000;stroke-width:0.8;\" x=\"53.328125\" xlink:href=\"#m428c91318e\" y=\"122.102948\"/>\r\n      </g>\r\n     </g>\r\n     <g id=\"text_13\">\r\n      <!-- 3000 -->\r\n      <g transform=\"translate(20.878125 125.902167)scale(0.1 -0.1)\">\r\n       <defs>\r\n        <path d=\"M 40.578125 39.3125 \r\nQ 47.65625 37.796875 51.625 33 \r\nQ 55.609375 28.21875 55.609375 21.1875 \r\nQ 55.609375 10.40625 48.1875 4.484375 \r\nQ 40.765625 -1.421875 27.09375 -1.421875 \r\nQ 22.515625 -1.421875 17.65625 -0.515625 \r\nQ 12.796875 0.390625 7.625 2.203125 \r\nL 7.625 11.71875 \r\nQ 11.71875 9.328125 16.59375 8.109375 \r\nQ 21.484375 6.890625 26.8125 6.890625 \r\nQ 36.078125 6.890625 40.9375 10.546875 \r\nQ 45.796875 14.203125 45.796875 21.1875 \r\nQ 45.796875 27.640625 41.28125 31.265625 \r\nQ 36.765625 34.90625 28.71875 34.90625 \r\nL 20.21875 34.90625 \r\nL 20.21875 43.015625 \r\nL 29.109375 43.015625 \r\nQ 36.375 43.015625 40.234375 45.921875 \r\nQ 44.09375 48.828125 44.09375 54.296875 \r\nQ 44.09375 59.90625 40.109375 62.90625 \r\nQ 36.140625 65.921875 28.71875 65.921875 \r\nQ 24.65625 65.921875 20.015625 65.03125 \r\nQ 15.375 64.15625 9.8125 62.3125 \r\nL 9.8125 71.09375 \r\nQ 15.4375 72.65625 20.34375 73.4375 \r\nQ 25.25 74.21875 29.59375 74.21875 \r\nQ 40.828125 74.21875 47.359375 69.109375 \r\nQ 53.90625 64.015625 53.90625 55.328125 \r\nQ 53.90625 49.265625 50.4375 45.09375 \r\nQ 46.96875 40.921875 40.578125 39.3125 \r\nz\r\n\" id=\"DejaVuSans-51\"/>\r\n       </defs>\r\n       <use xlink:href=\"#DejaVuSans-51\"/>\r\n       <use x=\"63.623047\" xlink:href=\"#DejaVuSans-48\"/>\r\n       <use x=\"127.246094\" xlink:href=\"#DejaVuSans-48\"/>\r\n       <use x=\"190.869141\" xlink:href=\"#DejaVuSans-48\"/>\r\n      </g>\r\n     </g>\r\n    </g>\r\n    <g id=\"ytick_5\">\r\n     <g id=\"line2d_13\">\r\n      <g>\r\n       <use style=\"stroke:#000000;stroke-width:0.8;\" x=\"53.328125\" xlink:href=\"#m428c91318e\" y=\"91.116019\"/>\r\n      </g>\r\n     </g>\r\n     <g id=\"text_14\">\r\n      <!-- 4000 -->\r\n      <g transform=\"translate(20.878125 94.915238)scale(0.1 -0.1)\">\r\n       <defs>\r\n        <path d=\"M 37.796875 64.3125 \r\nL 12.890625 25.390625 \r\nL 37.796875 25.390625 \r\nz\r\nM 35.203125 72.90625 \r\nL 47.609375 72.90625 \r\nL 47.609375 25.390625 \r\nL 58.015625 25.390625 \r\nL 58.015625 17.1875 \r\nL 47.609375 17.1875 \r\nL 47.609375 0 \r\nL 37.796875 0 \r\nL 37.796875 17.1875 \r\nL 4.890625 17.1875 \r\nL 4.890625 26.703125 \r\nz\r\n\" id=\"DejaVuSans-52\"/>\r\n       </defs>\r\n       <use xlink:href=\"#DejaVuSans-52\"/>\r\n       <use x=\"63.623047\" xlink:href=\"#DejaVuSans-48\"/>\r\n       <use x=\"127.246094\" xlink:href=\"#DejaVuSans-48\"/>\r\n       <use x=\"190.869141\" xlink:href=\"#DejaVuSans-48\"/>\r\n      </g>\r\n     </g>\r\n    </g>\r\n    <g id=\"ytick_6\">\r\n     <g id=\"line2d_14\">\r\n      <g>\r\n       <use style=\"stroke:#000000;stroke-width:0.8;\" x=\"53.328125\" xlink:href=\"#m428c91318e\" y=\"60.129089\"/>\r\n      </g>\r\n     </g>\r\n     <g id=\"text_15\">\r\n      <!-- 5000 -->\r\n      <g transform=\"translate(20.878125 63.928308)scale(0.1 -0.1)\">\r\n       <use xlink:href=\"#DejaVuSans-53\"/>\r\n       <use x=\"63.623047\" xlink:href=\"#DejaVuSans-48\"/>\r\n       <use x=\"127.246094\" xlink:href=\"#DejaVuSans-48\"/>\r\n       <use x=\"190.869141\" xlink:href=\"#DejaVuSans-48\"/>\r\n      </g>\r\n     </g>\r\n    </g>\r\n    <g id=\"ytick_7\">\r\n     <g id=\"line2d_15\">\r\n      <g>\r\n       <use style=\"stroke:#000000;stroke-width:0.8;\" x=\"53.328125\" xlink:href=\"#m428c91318e\" y=\"29.14216\"/>\r\n      </g>\r\n     </g>\r\n     <g id=\"text_16\">\r\n      <!-- 6000 -->\r\n      <g transform=\"translate(20.878125 32.941378)scale(0.1 -0.1)\">\r\n       <defs>\r\n        <path d=\"M 33.015625 40.375 \r\nQ 26.375 40.375 22.484375 35.828125 \r\nQ 18.609375 31.296875 18.609375 23.390625 \r\nQ 18.609375 15.53125 22.484375 10.953125 \r\nQ 26.375 6.390625 33.015625 6.390625 \r\nQ 39.65625 6.390625 43.53125 10.953125 \r\nQ 47.40625 15.53125 47.40625 23.390625 \r\nQ 47.40625 31.296875 43.53125 35.828125 \r\nQ 39.65625 40.375 33.015625 40.375 \r\nz\r\nM 52.59375 71.296875 \r\nL 52.59375 62.3125 \r\nQ 48.875 64.0625 45.09375 64.984375 \r\nQ 41.3125 65.921875 37.59375 65.921875 \r\nQ 27.828125 65.921875 22.671875 59.328125 \r\nQ 17.53125 52.734375 16.796875 39.40625 \r\nQ 19.671875 43.65625 24.015625 45.921875 \r\nQ 28.375 48.1875 33.59375 48.1875 \r\nQ 44.578125 48.1875 50.953125 41.515625 \r\nQ 57.328125 34.859375 57.328125 23.390625 \r\nQ 57.328125 12.15625 50.6875 5.359375 \r\nQ 44.046875 -1.421875 33.015625 -1.421875 \r\nQ 20.359375 -1.421875 13.671875 8.265625 \r\nQ 6.984375 17.96875 6.984375 36.375 \r\nQ 6.984375 53.65625 15.1875 63.9375 \r\nQ 23.390625 74.21875 37.203125 74.21875 \r\nQ 40.921875 74.21875 44.703125 73.484375 \r\nQ 48.484375 72.75 52.59375 71.296875 \r\nz\r\n\" id=\"DejaVuSans-54\"/>\r\n       </defs>\r\n       <use xlink:href=\"#DejaVuSans-54\"/>\r\n       <use x=\"63.623047\" xlink:href=\"#DejaVuSans-48\"/>\r\n       <use x=\"127.246094\" xlink:href=\"#DejaVuSans-48\"/>\r\n       <use x=\"190.869141\" xlink:href=\"#DejaVuSans-48\"/>\r\n      </g>\r\n     </g>\r\n    </g>\r\n    <g id=\"text_17\">\r\n     <!-- Followers (Twitter) -->\r\n     <g transform=\"translate(14.798438 161.587187)rotate(-90)scale(0.1 -0.1)\">\r\n      <defs>\r\n       <path d=\"M 9.8125 72.90625 \r\nL 51.703125 72.90625 \r\nL 51.703125 64.59375 \r\nL 19.671875 64.59375 \r\nL 19.671875 43.109375 \r\nL 48.578125 43.109375 \r\nL 48.578125 34.8125 \r\nL 19.671875 34.8125 \r\nL 19.671875 0 \r\nL 9.8125 0 \r\nz\r\n\" id=\"DejaVuSans-70\"/>\r\n       <path d=\"M 4.203125 54.6875 \r\nL 13.1875 54.6875 \r\nL 24.421875 12.015625 \r\nL 35.59375 54.6875 \r\nL 46.1875 54.6875 \r\nL 57.421875 12.015625 \r\nL 68.609375 54.6875 \r\nL 77.59375 54.6875 \r\nL 63.28125 0 \r\nL 52.6875 0 \r\nL 40.921875 44.828125 \r\nL 29.109375 0 \r\nL 18.5 0 \r\nz\r\n\" id=\"DejaVuSans-119\"/>\r\n       <path d=\"M -0.296875 72.90625 \r\nL 61.375 72.90625 \r\nL 61.375 64.59375 \r\nL 35.5 64.59375 \r\nL 35.5 0 \r\nL 25.59375 0 \r\nL 25.59375 64.59375 \r\nL -0.296875 64.59375 \r\nz\r\n\" id=\"DejaVuSans-84\"/>\r\n      </defs>\r\n      <use xlink:href=\"#DejaVuSans-70\"/>\r\n      <use x=\"53.894531\" xlink:href=\"#DejaVuSans-111\"/>\r\n      <use x=\"115.076172\" xlink:href=\"#DejaVuSans-108\"/>\r\n      <use x=\"142.859375\" xlink:href=\"#DejaVuSans-108\"/>\r\n      <use x=\"170.642578\" xlink:href=\"#DejaVuSans-111\"/>\r\n      <use x=\"231.824219\" xlink:href=\"#DejaVuSans-119\"/>\r\n      <use x=\"313.611328\" xlink:href=\"#DejaVuSans-101\"/>\r\n      <use x=\"375.134766\" xlink:href=\"#DejaVuSans-114\"/>\r\n      <use x=\"416.248047\" xlink:href=\"#DejaVuSans-115\"/>\r\n      <use x=\"468.347656\" xlink:href=\"#DejaVuSans-32\"/>\r\n      <use x=\"500.134766\" xlink:href=\"#DejaVuSans-40\"/>\r\n      <use x=\"539.148438\" xlink:href=\"#DejaVuSans-84\"/>\r\n      <use x=\"583.732422\" xlink:href=\"#DejaVuSans-119\"/>\r\n      <use x=\"665.519531\" xlink:href=\"#DejaVuSans-105\"/>\r\n      <use x=\"693.302734\" xlink:href=\"#DejaVuSans-116\"/>\r\n      <use x=\"732.511719\" xlink:href=\"#DejaVuSans-116\"/>\r\n      <use x=\"771.720703\" xlink:href=\"#DejaVuSans-101\"/>\r\n      <use x=\"833.244141\" xlink:href=\"#DejaVuSans-114\"/>\r\n      <use x=\"874.357422\" xlink:href=\"#DejaVuSans-41\"/>\r\n     </g>\r\n    </g>\r\n   </g>\r\n   <g id=\"line2d_16\">\r\n    <path clip-path=\"url(#pafc8047bc2)\" d=\"M 88.80752 185.872673 \r\nL 93.306262 176.794038 \r\nL 100.275906 162.729031 \r\n\" style=\"fill:none;stroke:#ff0000;stroke-dasharray:5.55,2.4;stroke-dashoffset:0;stroke-width:1.5;\"/>\r\n   </g>\r\n   <g id=\"line2d_17\">\r\n    <path clip-path=\"url(#pafc8047bc2)\" d=\"M 84.13837 203.827972 \r\nL 89.55731 196.845038 \r\nL 96.663279 187.688173 \r\n\" style=\"fill:none;stroke:#ffff00;stroke-dasharray:5.55,2.4;stroke-dashoffset:0;stroke-width:1.5;\"/>\r\n   </g>\r\n   <g id=\"line2d_18\">\r\n    <path clip-path=\"url(#pafc8047bc2)\" d=\"M 89.79588 179.696215 \r\nL 101.093859 163.605135 \r\nL 106.257189 156.251293 \r\n\" style=\"fill:none;stroke:#add8e6;stroke-dasharray:5.55,2.4;stroke-dashoffset:0;stroke-width:1.5;\"/>\r\n   </g>\r\n   <g id=\"line2d_19\">\r\n    <path clip-path=\"url(#pafc8047bc2)\" d=\"M 81.786754 211.091891 \r\nL 84.615509 210.214454 \r\nL 89.693636 208.639297 \r\n\" style=\"fill:none;stroke:#ffc0cb;stroke-dasharray:5.55,2.4;stroke-dashoffset:0;stroke-width:1.5;\"/>\r\n   </g>\r\n   <g id=\"line2d_20\">\r\n    <path clip-path=\"url(#pafc8047bc2)\" d=\"M 303.554325 82.084584 \r\nL 333.903798 53.64068 \r\nL 372.909943 17.083636 \r\n\" style=\"fill:none;stroke:#90ee90;stroke-dasharray:5.55,2.4;stroke-dashoffset:0;stroke-width:1.5;\"/>\r\n   </g>\r\n   <g id=\"line2d_21\">\r\n    <path clip-path=\"url(#pafc8047bc2)\" d=\"M 88.80752 185.872673 \r\nL 93.306262 176.794038 \r\nL 100.275906 162.729031 \r\n\" style=\"fill:none;stroke:#ff0000;stroke-dasharray:5.55,2.4;stroke-dashoffset:0;stroke-width:1.5;\"/>\r\n   </g>\r\n   <g id=\"line2d_22\">\r\n    <path clip-path=\"url(#pafc8047bc2)\" d=\"M 84.13837 203.827972 \r\nL 89.55731 196.845038 \r\nL 96.663279 187.688173 \r\n\" style=\"fill:none;stroke:#ffff00;stroke-dasharray:5.55,2.4;stroke-dashoffset:0;stroke-width:1.5;\"/>\r\n   </g>\r\n   <g id=\"line2d_23\">\r\n    <path clip-path=\"url(#pafc8047bc2)\" d=\"M 89.79588 179.696215 \r\nL 101.093859 163.605135 \r\nL 106.257189 156.251293 \r\n\" style=\"fill:none;stroke:#add8e6;stroke-dasharray:5.55,2.4;stroke-dashoffset:0;stroke-width:1.5;\"/>\r\n   </g>\r\n   <g id=\"line2d_24\">\r\n    <path clip-path=\"url(#pafc8047bc2)\" d=\"M 81.786754 211.091891 \r\nL 84.615509 210.214454 \r\nL 89.693636 208.639297 \r\n\" style=\"fill:none;stroke:#ffc0cb;stroke-dasharray:5.55,2.4;stroke-dashoffset:0;stroke-width:1.5;\"/>\r\n   </g>\r\n   <g id=\"line2d_25\">\r\n    <path clip-path=\"url(#pafc8047bc2)\" d=\"M 303.554325 82.084584 \r\nL 333.903798 53.64068 \r\nL 372.909943 17.083636 \r\n\" style=\"fill:none;stroke:#90ee90;stroke-dasharray:5.55,2.4;stroke-dashoffset:0;stroke-width:1.5;\"/>\r\n   </g>\r\n   <g id=\"line2d_26\">\r\n    <path clip-path=\"url(#pafc8047bc2)\" d=\"M 74.425175 163.315565 \r\nL 78.446779 145.002289 \r\n\" style=\"fill:none;stroke:#ffa500;stroke-dasharray:5.55,2.4;stroke-dashoffset:0;stroke-width:1.5;\"/>\r\n   </g>\r\n   <g id=\"line2d_27\">\r\n    <path clip-path=\"url(#pafc8047bc2)\" d=\"M 104.825771 200.747776 \r\nL 111.659088 196.657501 \r\n\" style=\"fill:none;stroke:#800080;stroke-dasharray:5.55,2.4;stroke-dashoffset:0;stroke-width:1.5;\"/>\r\n   </g>\r\n   <g id=\"line2d_28\">\r\n    <path clip-path=\"url(#pafc8047bc2)\" d=\"M 88.80752 185.872673 \r\nL 93.306262 176.794038 \r\nL 100.275906 162.729031 \r\n\" style=\"fill:none;stroke:#ff0000;stroke-dasharray:5.55,2.4;stroke-dashoffset:0;stroke-width:1.5;\"/>\r\n   </g>\r\n   <g id=\"line2d_29\">\r\n    <path clip-path=\"url(#pafc8047bc2)\" d=\"M 84.13837 203.827972 \r\nL 89.55731 196.845038 \r\nL 96.663279 187.688173 \r\n\" style=\"fill:none;stroke:#ffff00;stroke-dasharray:5.55,2.4;stroke-dashoffset:0;stroke-width:1.5;\"/>\r\n   </g>\r\n   <g id=\"line2d_30\">\r\n    <path clip-path=\"url(#pafc8047bc2)\" d=\"M 89.79588 179.696215 \r\nL 101.093859 163.605135 \r\nL 106.257189 156.251293 \r\n\" style=\"fill:none;stroke:#add8e6;stroke-dasharray:5.55,2.4;stroke-dashoffset:0;stroke-width:1.5;\"/>\r\n   </g>\r\n   <g id=\"line2d_31\">\r\n    <path clip-path=\"url(#pafc8047bc2)\" d=\"M 81.786754 211.091891 \r\nL 84.615509 210.214454 \r\nL 89.693636 208.639297 \r\n\" style=\"fill:none;stroke:#ffc0cb;stroke-dasharray:5.55,2.4;stroke-dashoffset:0;stroke-width:1.5;\"/>\r\n   </g>\r\n   <g id=\"line2d_32\">\r\n    <path clip-path=\"url(#pafc8047bc2)\" d=\"M 303.554325 82.084584 \r\nL 333.903798 53.64068 \r\nL 372.909943 17.083636 \r\n\" style=\"fill:none;stroke:#90ee90;stroke-dasharray:5.55,2.4;stroke-dashoffset:0;stroke-width:1.5;\"/>\r\n   </g>\r\n   <g id=\"line2d_33\">\r\n    <path clip-path=\"url(#pafc8047bc2)\" d=\"M 74.425175 163.315565 \r\nL 78.446779 145.002289 \r\n\" style=\"fill:none;stroke:#ffa500;stroke-dasharray:5.55,2.4;stroke-dashoffset:0;stroke-width:1.5;\"/>\r\n   </g>\r\n   <g id=\"line2d_34\">\r\n    <path clip-path=\"url(#pafc8047bc2)\" d=\"M 104.825771 200.747776 \r\nL 111.659088 196.657501 \r\n\" style=\"fill:none;stroke:#800080;stroke-dasharray:5.55,2.4;stroke-dashoffset:0;stroke-width:1.5;\"/>\r\n   </g>\r\n   <g id=\"line2d_35\">\r\n    <path clip-path=\"url(#pafc8047bc2)\" d=\"M 68.546307 214.756364 \r\nL 74.410778 206.365569 \r\nL 80.275248 204.205599 \r\nL 86.139719 202.701306 \r\nL 92.00419 201.509223 \r\nL 97.868661 200.505964 \r\nL 103.733132 199.63136 \r\nL 109.597603 198.851024 \r\nL 115.462073 198.143243 \r\nL 121.326544 197.493331 \r\nL 127.191015 196.890841 \r\nL 133.055486 196.328043 \r\nL 138.919957 195.799044 \r\nL 144.784427 195.299232 \r\nL 150.648898 194.824925 \r\nL 156.513369 194.373131 \r\nL 162.37784 193.941379 \r\nL 168.242311 193.527608 \r\nL 174.106782 193.130074 \r\nL 179.971252 192.747287 \r\nL 185.835723 192.377966 \r\nL 191.700194 192.020997 \r\nL 197.564665 191.675408 \r\nL 203.429136 191.340342 \r\nL 209.293607 191.015042 \r\nL 215.158077 190.698833 \r\nL 221.022548 190.391111 \r\nL 226.887019 190.091336 \r\nL 232.75149 189.799019 \r\nL 238.615961 189.513717 \r\nL 244.480431 189.235029 \r\nL 250.344902 188.962588 \r\nL 256.209373 188.69606 \r\nL 262.073844 188.435137 \r\nL 267.938315 188.179537 \r\nL 273.802786 187.928999 \r\nL 279.667256 187.683282 \r\nL 285.531727 187.442164 \r\nL 291.396198 187.205437 \r\nL 297.260669 186.97291 \r\nL 303.12514 186.744402 \r\nL 308.98961 186.519747 \r\nL 314.854081 186.298787 \r\nL 320.718552 186.081377 \r\nL 326.583023 185.867378 \r\nL 332.447494 185.656661 \r\nL 338.311965 185.449105 \r\nL 344.176435 185.244595 \r\nL 350.040906 185.043022 \r\nL 355.905377 184.844286 \r\n\" style=\"fill:none;stroke:#808080;stroke-dasharray:5.55,2.4;stroke-dashoffset:0;stroke-width:1.5;\"/>\r\n   </g>\r\n   <g id=\"line2d_36\">\r\n    <path clip-path=\"url(#pafc8047bc2)\" d=\"M 68.546307 214.44899 \r\nL 74.410778 197.667401 \r\nL 80.275248 193.347461 \r\nL 86.139719 190.338874 \r\nL 92.00419 187.954709 \r\nL 97.868661 185.94819 \r\nL 103.733132 184.198983 \r\nL 109.597603 182.638311 \r\nL 115.462073 181.222748 \r\nL 121.326544 179.922925 \r\nL 127.191015 178.717944 \r\nL 133.055486 177.59235 \r\nL 138.919957 176.534352 \r\nL 144.784427 175.534728 \r\nL 150.648898 174.586114 \r\nL 156.513369 173.682524 \r\nL 162.37784 172.819021 \r\nL 168.242311 171.991479 \r\nL 174.106782 171.19641 \r\nL 179.971252 170.430837 \r\nL 185.835723 169.692194 \r\nL 191.700194 168.978257 \r\nL 197.564665 168.287079 \r\nL 203.429136 167.616948 \r\nL 209.293607 166.966347 \r\nL 215.158077 166.333928 \r\nL 221.022548 165.718485 \r\nL 226.887019 165.118935 \r\nL 232.75149 164.5343 \r\nL 238.615961 163.963697 \r\nL 244.480431 163.406321 \r\nL 250.344902 162.861439 \r\nL 256.209373 162.328383 \r\nL 262.073844 161.806537 \r\nL 267.938315 161.295336 \r\nL 273.802786 160.79426 \r\nL 279.667256 160.302827 \r\nL 285.531727 159.820591 \r\nL 291.396198 159.347137 \r\nL 297.260669 158.882083 \r\nL 303.12514 158.425067 \r\nL 308.98961 157.975757 \r\nL 314.854081 157.533838 \r\nL 320.718552 157.099017 \r\nL 326.583023 156.671019 \r\nL 332.447494 156.249585 \r\nL 338.311965 155.834472 \r\nL 344.176435 155.425452 \r\nL 350.040906 155.022307 \r\nL 355.905377 154.624834 \r\n\" style=\"fill:none;stroke:#808080;stroke-dasharray:5.55,2.4;stroke-dashoffset:0;stroke-width:1.5;\"/>\r\n   </g>\r\n   <g id=\"line2d_37\">\r\n    <path clip-path=\"url(#pafc8047bc2)\" d=\"M 68.546307 214.141617 \r\nL 74.410778 188.969233 \r\nL 80.275248 182.489322 \r\nL 86.139719 177.976443 \r\nL 92.00419 174.400194 \r\nL 97.868661 171.390416 \r\nL 103.733132 168.766606 \r\nL 109.597603 166.425597 \r\nL 115.462073 164.302254 \r\nL 121.326544 162.352518 \r\nL 127.191015 160.545047 \r\nL 133.055486 158.856656 \r\nL 138.919957 157.269659 \r\nL 144.784427 155.770223 \r\nL 150.648898 154.347302 \r\nL 156.513369 152.991917 \r\nL 162.37784 151.696663 \r\nL 168.242311 150.45535 \r\nL 174.106782 149.262747 \r\nL 179.971252 148.114386 \r\nL 185.835723 147.006423 \r\nL 191.700194 145.935517 \r\nL 197.564665 144.89875 \r\nL 203.429136 143.893553 \r\nL 209.293607 142.917652 \r\nL 215.158077 141.969023 \r\nL 221.022548 141.045859 \r\nL 226.887019 140.146533 \r\nL 232.75149 139.269581 \r\nL 238.615961 138.413676 \r\nL 244.480431 137.577612 \r\nL 250.344902 136.760291 \r\nL 256.209373 135.960706 \r\nL 262.073844 135.177937 \r\nL 267.938315 134.411136 \r\nL 273.802786 133.659522 \r\nL 279.667256 132.922372 \r\nL 285.531727 132.199017 \r\nL 291.396198 131.488838 \r\nL 297.260669 130.791255 \r\nL 303.12514 130.105732 \r\nL 308.98961 129.431766 \r\nL 314.854081 128.768888 \r\nL 320.718552 128.116656 \r\nL 326.583023 127.474659 \r\nL 332.447494 126.842509 \r\nL 338.311965 126.21984 \r\nL 344.176435 125.606309 \r\nL 350.040906 125.001592 \r\nL 355.905377 124.405382 \r\n\" style=\"fill:none;stroke:#808080;stroke-dasharray:5.55,2.4;stroke-dashoffset:0;stroke-width:1.5;\"/>\r\n   </g>\r\n   <g id=\"line2d_38\">\r\n    <path clip-path=\"url(#pafc8047bc2)\" d=\"M 68.546307 213.834243 \r\nL 74.410778 180.271065 \r\nL 80.275248 171.631184 \r\nL 86.139719 165.614011 \r\nL 92.00419 160.84568 \r\nL 97.868661 156.832643 \r\nL 103.733132 153.334229 \r\nL 109.597603 150.212884 \r\nL 115.462073 147.381759 \r\nL 121.326544 144.782112 \r\nL 127.191015 142.372151 \r\nL 133.055486 140.120962 \r\nL 138.919957 138.004966 \r\nL 144.784427 136.005718 \r\nL 150.648898 134.10849 \r\nL 156.513369 132.301311 \r\nL 162.37784 130.574305 \r\nL 168.242311 128.919221 \r\nL 174.106782 127.329083 \r\nL 179.971252 125.797936 \r\nL 185.835723 124.320651 \r\nL 191.700194 122.892778 \r\nL 197.564665 121.510422 \r\nL 203.429136 120.170158 \r\nL 209.293607 118.868957 \r\nL 215.158077 117.604119 \r\nL 221.022548 116.373233 \r\nL 226.887019 115.174132 \r\nL 232.75149 114.004863 \r\nL 238.615961 112.863656 \r\nL 244.480431 111.748904 \r\nL 250.344902 110.659142 \r\nL 256.209373 109.593029 \r\nL 262.073844 108.549337 \r\nL 267.938315 107.526936 \r\nL 273.802786 106.524783 \r\nL 279.667256 105.541916 \r\nL 285.531727 104.577444 \r\nL 291.396198 103.630538 \r\nL 297.260669 102.700428 \r\nL 303.12514 101.786398 \r\nL 308.98961 100.887776 \r\nL 314.854081 100.003938 \r\nL 320.718552 99.134296 \r\nL 326.583023 98.2783 \r\nL 332.447494 97.435433 \r\nL 338.311965 96.605208 \r\nL 344.176435 95.787167 \r\nL 350.040906 94.980877 \r\nL 355.905377 94.185931 \r\n\" style=\"fill:none;stroke:#808080;stroke-dasharray:5.55,2.4;stroke-dashoffset:0;stroke-width:1.5;\"/>\r\n   </g>\r\n   <g id=\"line2d_39\">\r\n    <path clip-path=\"url(#pafc8047bc2)\" d=\"M 68.546307 213.52687 \r\nL 74.410778 171.572897 \r\nL 80.275248 160.773046 \r\nL 86.139719 153.25158 \r\nL 92.00419 147.291166 \r\nL 97.868661 142.274869 \r\nL 103.733132 137.901852 \r\nL 109.597603 134.000171 \r\nL 115.462073 130.461265 \r\nL 121.326544 127.211706 \r\nL 127.191015 124.199254 \r\nL 133.055486 121.385269 \r\nL 138.919957 118.740273 \r\nL 144.784427 116.241214 \r\nL 150.648898 113.869678 \r\nL 156.513369 111.610704 \r\nL 162.37784 109.451947 \r\nL 168.242311 107.383092 \r\nL 174.106782 105.395419 \r\nL 179.971252 103.481486 \r\nL 185.835723 101.63488 \r\nL 191.700194 99.850038 \r\nL 197.564665 98.122093 \r\nL 203.429136 96.446764 \r\nL 209.293607 94.820261 \r\nL 215.158077 93.239214 \r\nL 221.022548 91.700606 \r\nL 226.887019 90.201731 \r\nL 232.75149 88.740144 \r\nL 238.615961 87.313636 \r\nL 244.480431 85.920196 \r\nL 250.344902 84.557993 \r\nL 256.209373 83.225352 \r\nL 262.073844 81.920737 \r\nL 267.938315 80.642735 \r\nL 273.802786 79.390045 \r\nL 279.667256 78.161461 \r\nL 285.531727 76.955871 \r\nL 291.396198 75.772238 \r\nL 297.260669 74.609601 \r\nL 303.12514 73.467063 \r\nL 308.98961 72.343786 \r\nL 314.854081 71.238988 \r\nL 320.718552 70.151936 \r\nL 326.583023 69.081941 \r\nL 332.447494 68.028357 \r\nL 338.311965 66.990575 \r\nL 344.176435 65.968024 \r\nL 350.040906 64.960162 \r\nL 355.905377 63.966479 \r\n\" style=\"fill:none;stroke:#000000;stroke-linecap:square;stroke-width:1.5;\"/>\r\n   </g>\r\n   <g id=\"patch_3\">\r\n    <path d=\"M 53.328125 224.64 \r\nL 53.328125 7.2 \r\n\" style=\"fill:none;stroke:#000000;stroke-linecap:square;stroke-linejoin:miter;stroke-width:0.8;\"/>\r\n   </g>\r\n   <g id=\"patch_4\">\r\n    <path d=\"M 388.128125 224.64 \r\nL 388.128125 7.2 \r\n\" style=\"fill:none;stroke:#000000;stroke-linecap:square;stroke-linejoin:miter;stroke-width:0.8;\"/>\r\n   </g>\r\n   <g id=\"patch_5\">\r\n    <path d=\"M 53.328125 224.64 \r\nL 388.128125 224.64 \r\n\" style=\"fill:none;stroke:#000000;stroke-linecap:square;stroke-linejoin:miter;stroke-width:0.8;\"/>\r\n   </g>\r\n   <g id=\"patch_6\">\r\n    <path d=\"M 53.328125 7.2 \r\nL 388.128125 7.2 \r\n\" style=\"fill:none;stroke:#000000;stroke-linecap:square;stroke-linejoin:miter;stroke-width:0.8;\"/>\r\n   </g>\r\n   <g id=\"text_18\">\r\n    <!-- k = 1 -->\r\n    <g transform=\"translate(355.905377 184.844286)scale(0.1 -0.1)\">\r\n     <defs>\r\n      <path d=\"M 9.078125 75.984375 \r\nL 18.109375 75.984375 \r\nL 18.109375 31.109375 \r\nL 44.921875 54.6875 \r\nL 56.390625 54.6875 \r\nL 27.390625 29.109375 \r\nL 57.625 0 \r\nL 45.90625 0 \r\nL 18.109375 26.703125 \r\nL 18.109375 0 \r\nL 9.078125 0 \r\nz\r\n\" id=\"DejaVuSans-107\"/>\r\n      <path d=\"M 10.59375 45.40625 \r\nL 73.1875 45.40625 \r\nL 73.1875 37.203125 \r\nL 10.59375 37.203125 \r\nz\r\nM 10.59375 25.484375 \r\nL 73.1875 25.484375 \r\nL 73.1875 17.1875 \r\nL 10.59375 17.1875 \r\nz\r\n\" id=\"DejaVuSans-61\"/>\r\n     </defs>\r\n     <use xlink:href=\"#DejaVuSans-107\"/>\r\n     <use x=\"57.910156\" xlink:href=\"#DejaVuSans-32\"/>\r\n     <use x=\"89.697266\" xlink:href=\"#DejaVuSans-61\"/>\r\n     <use x=\"173.486328\" xlink:href=\"#DejaVuSans-32\"/>\r\n     <use x=\"205.273438\" xlink:href=\"#DejaVuSans-49\"/>\r\n    </g>\r\n   </g>\r\n   <g id=\"text_19\">\r\n    <!-- k = 2 -->\r\n    <g transform=\"translate(355.905377 154.624834)scale(0.1 -0.1)\">\r\n     <use xlink:href=\"#DejaVuSans-107\"/>\r\n     <use x=\"57.910156\" xlink:href=\"#DejaVuSans-32\"/>\r\n     <use x=\"89.697266\" xlink:href=\"#DejaVuSans-61\"/>\r\n     <use x=\"173.486328\" xlink:href=\"#DejaVuSans-32\"/>\r\n     <use x=\"205.273438\" xlink:href=\"#DejaVuSans-50\"/>\r\n    </g>\r\n   </g>\r\n   <g id=\"text_20\">\r\n    <!-- k = 3 -->\r\n    <g transform=\"translate(355.905377 124.405382)scale(0.1 -0.1)\">\r\n     <use xlink:href=\"#DejaVuSans-107\"/>\r\n     <use x=\"57.910156\" xlink:href=\"#DejaVuSans-32\"/>\r\n     <use x=\"89.697266\" xlink:href=\"#DejaVuSans-61\"/>\r\n     <use x=\"173.486328\" xlink:href=\"#DejaVuSans-32\"/>\r\n     <use x=\"205.273438\" xlink:href=\"#DejaVuSans-51\"/>\r\n    </g>\r\n   </g>\r\n   <g id=\"text_21\">\r\n    <!-- k = 4 -->\r\n    <g transform=\"translate(355.905377 94.185931)scale(0.1 -0.1)\">\r\n     <use xlink:href=\"#DejaVuSans-107\"/>\r\n     <use x=\"57.910156\" xlink:href=\"#DejaVuSans-32\"/>\r\n     <use x=\"89.697266\" xlink:href=\"#DejaVuSans-61\"/>\r\n     <use x=\"173.486328\" xlink:href=\"#DejaVuSans-32\"/>\r\n     <use x=\"205.273438\" xlink:href=\"#DejaVuSans-52\"/>\r\n    </g>\r\n   </g>\r\n   <g id=\"text_22\">\r\n    <!-- k = 5 -->\r\n    <g transform=\"translate(355.905377 63.966479)scale(0.1 -0.1)\">\r\n     <use xlink:href=\"#DejaVuSans-107\"/>\r\n     <use x=\"57.910156\" xlink:href=\"#DejaVuSans-32\"/>\r\n     <use x=\"89.697266\" xlink:href=\"#DejaVuSans-61\"/>\r\n     <use x=\"173.486328\" xlink:href=\"#DejaVuSans-32\"/>\r\n     <use x=\"205.273438\" xlink:href=\"#DejaVuSans-53\"/>\r\n    </g>\r\n   </g>\r\n  </g>\r\n </g>\r\n <defs>\r\n  <clipPath id=\"pafc8047bc2\">\r\n   <rect height=\"217.44\" width=\"334.8\" x=\"53.328125\" y=\"7.2\"/>\r\n  </clipPath>\r\n </defs>\r\n</svg>\r\n",
      "image/png": "[encoded data removed]"
     },
     "metadata": {
      "needs_background": "light"
     }
    }
   ],
   "source": [
    "colors_dict=dict(zip(keys_from_indices,['red','yellow','lightblue','pink','lightgreen','brown','orange','purple']))\n",
    "marker_shapes_dict=dict(zip(keys_from_indices,['o','^','s','X','d','s','o','>']))\n",
    "\n",
    "\n",
    "\n",
    "K_fig=plt.figure()\n",
    "plt.subplot(111)\n",
    "\n",
    "\n",
    "for individual in K_df.index:\n",
    "    if (K_df.loc[individual]['C']).size>=2:\n",
    "        x=K_df.loc[individual]['C']\n",
    "        y=K_df.loc[individual]['F']\n",
    "        plt.scatter(x,y,c=colors_dict[individual], marker=marker_shapes_dict                    [individual], s=50, edgecolor='k', figure=K_fig)\n",
    "        #print(mods[individual]) #Test polynomial function\n",
    "        plt.plot(x,mods[individual](x),'--',c=colors_dict[individual])\n",
    "\n",
    "plt.xlabel('Citations (Google Scholar)')\n",
    "plt.ylabel('Followers (Twitter)')\n",
    "\n",
    "#Add K-index lines 1-5\n",
    "x_limits=plt.xlim()\n",
    "y_limits=plt.ylim()\n",
    "if min(x_limits) <= 0:\n",
    "    min_xes = 0.01\n",
    "else:\n",
    "    min_xes = min(x_limits)\n",
    "\n",
    "xes=np.linspace(min_xes, max(x_limits)*0.9, 50)\n",
    "\n",
    "end_k=5     #Highest K factor line ot plot - K=5 is traditionally considered                    Kardashian.\n",
    "k=pd.DataFrame([])\n",
    "for j in range(end_k):\n",
    "    k[j]=np.multiply(np.multiply(np.power(xes, 0.32), 43.3), j+1)\n",
    "    if j==end_k-1:\n",
    "        clr='k'\n",
    "        solid_dash='-'\n",
    "    else:\n",
    "        clr='gray'\n",
    "        solid_dash='--'\n",
    "    plt.plot(xes,k[j],ls=solid_dash,c=clr)\n",
    "    plt.text(0.9*max(x_limits), max(k[j][~k[j].isna()]),('k = '+str(j+1)))\n",
    "    \n",
    "#K_fig.savefig('CMS_K-index.png')"
   ]
  },
  {
   "source": [
    "## Plotly Options\n",
    "\n",
    "In the following cell, I will make a similar figure in plotly for web interactivity."
   ],
   "cell_type": "markdown",
   "metadata": {}
  },
  {
   "cell_type": "code",
   "execution_count": 18,
   "metadata": {},
   "outputs": [
    {
     "output_type": "display_data",
     "data": {
      "application/vnd.plotly.v1+json": {
       "config": {
        "plotlyServerURL": "https://plot.ly"
       },
       "data": [
        {
         "type": "scatter",
         "x": [],
         "y": []
        },
        {
         "hoverinfo": "x+y+text",
         "text": "Name1",
         "type": "scatter",
         "x": [
          1189,
          1453,
          1862
         ],
         "y": [
          953,
          1217,
          1696
         ]
        },
        {
         "hoverinfo": "x+y+text",
         "text": "Name2",
         "type": "scatter",
         "x": [
          915,
          1233,
          1650
         ],
         "y": [
          362,
          589,
          883
         ]
        },
        {
         "hoverinfo": "x+y+text",
         "text": "Name3",
         "type": "scatter",
         "x": [
          1247,
          1910,
          2213
         ],
         "y": [
          1172,
          1563,
          1965
         ]
        },
        {
         "hoverinfo": "x+y+text",
         "text": "Name4",
         "type": "scatter",
         "x": [
          777,
          943,
          1241
         ],
         "y": [
          124,
          163,
          205
         ]
        },
        {
         "hoverinfo": "x+y+text",
         "text": "Name5",
         "type": "scatter",
         "x": [
          13791,
          15572,
          17861
         ],
         "y": [
          4245,
          5292,
          6353
         ]
        },
        {
         "hoverinfo": "x+y+text",
         "text": "Name1",
         "type": "scatter",
         "x": [
          1189,
          1453,
          1862
         ],
         "y": [
          953,
          1217,
          1696
         ]
        },
        {
         "hoverinfo": "x+y+text",
         "text": "Name2",
         "type": "scatter",
         "x": [
          915,
          1233,
          1650
         ],
         "y": [
          362,
          589,
          883
         ]
        },
        {
         "hoverinfo": "x+y+text",
         "text": "Name3",
         "type": "scatter",
         "x": [
          1247,
          1910,
          2213
         ],
         "y": [
          1172,
          1563,
          1965
         ]
        },
        {
         "hoverinfo": "x+y+text",
         "text": "Name4",
         "type": "scatter",
         "x": [
          777,
          943,
          1241
         ],
         "y": [
          124,
          163,
          205
         ]
        },
        {
         "hoverinfo": "x+y+text",
         "text": "Name5",
         "type": "scatter",
         "x": [
          13791,
          15572,
          17861
         ],
         "y": [
          4245,
          5292,
          6353
         ]
        },
        {
         "hoverinfo": "x+y+text",
         "text": "Name7",
         "type": "scatter",
         "x": [
          345,
          581
         ],
         "y": [
          1670,
          2261
         ]
        },
        {
         "hoverinfo": "x+y+text",
         "text": "Name8",
         "type": "scatter",
         "x": [
          2129,
          2530
         ],
         "y": [
          462,
          594
         ]
        },
        {
         "hoverinfo": "x+y+text",
         "text": "Name1",
         "type": "scatter",
         "x": [
          1189,
          1453,
          1862
         ],
         "y": [
          953,
          1217,
          1696
         ]
        },
        {
         "hoverinfo": "x+y+text",
         "text": "Name2",
         "type": "scatter",
         "x": [
          915,
          1233,
          1650
         ],
         "y": [
          362,
          589,
          883
         ]
        },
        {
         "hoverinfo": "x+y+text",
         "text": "Name3",
         "type": "scatter",
         "x": [
          1247,
          1910,
          2213
         ],
         "y": [
          1172,
          1563,
          1965
         ]
        },
        {
         "hoverinfo": "x+y+text",
         "text": "Name4",
         "type": "scatter",
         "x": [
          777,
          943,
          1241
         ],
         "y": [
          124,
          163,
          205
         ]
        },
        {
         "hoverinfo": "x+y+text",
         "text": "Name5",
         "type": "scatter",
         "x": [
          13791,
          15572,
          17861
         ],
         "y": [
          4245,
          5292,
          6353
         ]
        },
        {
         "hoverinfo": "x+y+text",
         "text": "Name7",
         "type": "scatter",
         "x": [
          345,
          581
         ],
         "y": [
          1670,
          2261
         ]
        },
        {
         "hoverinfo": "x+y+text",
         "text": "Name8",
         "type": "scatter",
         "x": [
          2129,
          2530
         ],
         "y": [
          462,
          594
         ]
        }
       ],
       "layout": {
        "showlegend": false,
        "template": {
         "data": {
          "bar": [
           {
            "error_x": {
             "color": "#2a3f5f"
            },
            "error_y": {
             "color": "#2a3f5f"
            },
            "marker": {
             "line": {
              "color": "#E5ECF6",
              "width": 0.5
             }
            },
            "type": "bar"
           }
          ],
          "barpolar": [
           {
            "marker": {
             "line": {
              "color": "#E5ECF6",
              "width": 0.5
             }
            },
            "type": "barpolar"
           }
          ],
          "carpet": [
           {
            "aaxis": {
             "endlinecolor": "#2a3f5f",
             "gridcolor": "white",
             "linecolor": "white",
             "minorgridcolor": "white",
             "startlinecolor": "#2a3f5f"
            },
            "baxis": {
             "endlinecolor": "#2a3f5f",
             "gridcolor": "white",
             "linecolor": "white",
             "minorgridcolor": "white",
             "startlinecolor": "#2a3f5f"
            },
            "type": "carpet"
           }
          ],
          "choropleth": [
           {
            "colorbar": {
             "outlinewidth": 0,
             "ticks": ""
            },
            "type": "choropleth"
           }
          ],
          "contour": [
           {
            "colorbar": {
             "outlinewidth": 0,
             "ticks": ""
            },
            "colorscale": [
             [
              0,
              "#0d0887"
             ],
             [
              0.1111111111111111,
              "#46039f"
             ],
             [
              0.2222222222222222,
              "#7201a8"
             ],
             [
              0.3333333333333333,
              "#9c179e"
             ],
             [
              0.4444444444444444,
              "#bd3786"
             ],
             [
              0.5555555555555556,
              "#d8576b"
             ],
             [
              0.6666666666666666,
              "#ed7953"
             ],
             [
              0.7777777777777778,
              "#fb9f3a"
             ],
             [
              0.8888888888888888,
              "#fdca26"
             ],
             [
              1,
              "#f0f921"
             ]
            ],
            "type": "contour"
           }
          ],
          "contourcarpet": [
           {
            "colorbar": {
             "outlinewidth": 0,
             "ticks": ""
            },
            "type": "contourcarpet"
           }
          ],
          "heatmap": [
           {
            "colorbar": {
             "outlinewidth": 0,
             "ticks": ""
            },
            "colorscale": [
             [
              0,
              "#0d0887"
             ],
             [
              0.1111111111111111,
              "#46039f"
             ],
             [
              0.2222222222222222,
              "#7201a8"
             ],
             [
              0.3333333333333333,
              "#9c179e"
             ],
             [
              0.4444444444444444,
              "#bd3786"
             ],
             [
              0.5555555555555556,
              "#d8576b"
             ],
             [
              0.6666666666666666,
              "#ed7953"
             ],
             [
              0.7777777777777778,
              "#fb9f3a"
             ],
             [
              0.8888888888888888,
              "#fdca26"
             ],
             [
              1,
              "#f0f921"
             ]
            ],
            "type": "heatmap"
           }
          ],
          "heatmapgl": [
           {
            "colorbar": {
             "outlinewidth": 0,
             "ticks": ""
            },
            "colorscale": [
             [
              0,
              "#0d0887"
             ],
             [
              0.1111111111111111,
              "#46039f"
             ],
             [
              0.2222222222222222,
              "#7201a8"
             ],
             [
              0.3333333333333333,
              "#9c179e"
             ],
             [
              0.4444444444444444,
              "#bd3786"
             ],
             [
              0.5555555555555556,
              "#d8576b"
             ],
             [
              0.6666666666666666,
              "#ed7953"
             ],
             [
              0.7777777777777778,
              "#fb9f3a"
             ],
             [
              0.8888888888888888,
              "#fdca26"
             ],
             [
              1,
              "#f0f921"
             ]
            ],
            "type": "heatmapgl"
           }
          ],
          "histogram": [
           {
            "marker": {
             "colorbar": {
              "outlinewidth": 0,
              "ticks": ""
             }
            },
            "type": "histogram"
           }
          ],
          "histogram2d": [
           {
            "colorbar": {
             "outlinewidth": 0,
             "ticks": ""
            },
            "colorscale": [
             [
              0,
              "#0d0887"
             ],
             [
              0.1111111111111111,
              "#46039f"
             ],
             [
              0.2222222222222222,
              "#7201a8"
             ],
             [
              0.3333333333333333,
              "#9c179e"
             ],
             [
              0.4444444444444444,
              "#bd3786"
             ],
             [
              0.5555555555555556,
              "#d8576b"
             ],
             [
              0.6666666666666666,
              "#ed7953"
             ],
             [
              0.7777777777777778,
              "#fb9f3a"
             ],
             [
              0.8888888888888888,
              "#fdca26"
             ],
             [
              1,
              "#f0f921"
             ]
            ],
            "type": "histogram2d"
           }
          ],
          "histogram2dcontour": [
           {
            "colorbar": {
             "outlinewidth": 0,
             "ticks": ""
            },
            "colorscale": [
             [
              0,
              "#0d0887"
             ],
             [
              0.1111111111111111,
              "#46039f"
             ],
             [
              0.2222222222222222,
              "#7201a8"
             ],
             [
              0.3333333333333333,
              "#9c179e"
             ],
             [
              0.4444444444444444,
              "#bd3786"
             ],
             [
              0.5555555555555556,
              "#d8576b"
             ],
             [
              0.6666666666666666,
              "#ed7953"
             ],
             [
              0.7777777777777778,
              "#fb9f3a"
             ],
             [
              0.8888888888888888,
              "#fdca26"
             ],
             [
              1,
              "#f0f921"
             ]
            ],
            "type": "histogram2dcontour"
           }
          ],
          "mesh3d": [
           {
            "colorbar": {
             "outlinewidth": 0,
             "ticks": ""
            },
            "type": "mesh3d"
           }
          ],
          "parcoords": [
           {
            "line": {
             "colorbar": {
              "outlinewidth": 0,
              "ticks": ""
             }
            },
            "type": "parcoords"
           }
          ],
          "pie": [
           {
            "automargin": true,
            "type": "pie"
           }
          ],
          "scatter": [
           {
            "marker": {
             "colorbar": {
              "outlinewidth": 0,
              "ticks": ""
             }
            },
            "type": "scatter"
           }
          ],
          "scatter3d": [
           {
            "line": {
             "colorbar": {
              "outlinewidth": 0,
              "ticks": ""
             }
            },
            "marker": {
             "colorbar": {
              "outlinewidth": 0,
              "ticks": ""
             }
            },
            "type": "scatter3d"
           }
          ],
          "scattercarpet": [
           {
            "marker": {
             "colorbar": {
              "outlinewidth": 0,
              "ticks": ""
             }
            },
            "type": "scattercarpet"
           }
          ],
          "scattergeo": [
           {
            "marker": {
             "colorbar": {
              "outlinewidth": 0,
              "ticks": ""
             }
            },
            "type": "scattergeo"
           }
          ],
          "scattergl": [
           {
            "marker": {
             "colorbar": {
              "outlinewidth": 0,
              "ticks": ""
             }
            },
            "type": "scattergl"
           }
          ],
          "scattermapbox": [
           {
            "marker": {
             "colorbar": {
              "outlinewidth": 0,
              "ticks": ""
             }
            },
            "type": "scattermapbox"
           }
          ],
          "scatterpolar": [
           {
            "marker": {
             "colorbar": {
              "outlinewidth": 0,
              "ticks": ""
             }
            },
            "type": "scatterpolar"
           }
          ],
          "scatterpolargl": [
           {
            "marker": {
             "colorbar": {
              "outlinewidth": 0,
              "ticks": ""
             }
            },
            "type": "scatterpolargl"
           }
          ],
          "scatterternary": [
           {
            "marker": {
             "colorbar": {
              "outlinewidth": 0,
              "ticks": ""
             }
            },
            "type": "scatterternary"
           }
          ],
          "surface": [
           {
            "colorbar": {
             "outlinewidth": 0,
             "ticks": ""
            },
            "colorscale": [
             [
              0,
              "#0d0887"
             ],
             [
              0.1111111111111111,
              "#46039f"
             ],
             [
              0.2222222222222222,
              "#7201a8"
             ],
             [
              0.3333333333333333,
              "#9c179e"
             ],
             [
              0.4444444444444444,
              "#bd3786"
             ],
             [
              0.5555555555555556,
              "#d8576b"
             ],
             [
              0.6666666666666666,
              "#ed7953"
             ],
             [
              0.7777777777777778,
              "#fb9f3a"
             ],
             [
              0.8888888888888888,
              "#fdca26"
             ],
             [
              1,
              "#f0f921"
             ]
            ],
            "type": "surface"
           }
          ],
          "table": [
           {
            "cells": {
             "fill": {
              "color": "#EBF0F8"
             },
             "line": {
              "color": "white"
             }
            },
            "header": {
             "fill": {
              "color": "#C8D4E3"
             },
             "line": {
              "color": "white"
             }
            },
            "type": "table"
           }
          ]
         },
         "layout": {
          "annotationdefaults": {
           "arrowcolor": "#2a3f5f",
           "arrowhead": 0,
           "arrowwidth": 1
          },
          "autotypenumbers": "strict",
          "coloraxis": {
           "colorbar": {
            "outlinewidth": 0,
            "ticks": ""
           }
          },
          "colorscale": {
           "diverging": [
            [
             0,
             "#8e0152"
            ],
            [
             0.1,
             "#c51b7d"
            ],
            [
             0.2,
             "#de77ae"
            ],
            [
             0.3,
             "#f1b6da"
            ],
            [
             0.4,
             "#fde0ef"
            ],
            [
             0.5,
             "#f7f7f7"
            ],
            [
             0.6,
             "#e6f5d0"
            ],
            [
             0.7,
             "#b8e186"
            ],
            [
             0.8,
             "#7fbc41"
            ],
            [
             0.9,
             "#4d9221"
            ],
            [
             1,
             "#276419"
            ]
           ],
           "sequential": [
            [
             0,
             "#0d0887"
            ],
            [
             0.1111111111111111,
             "#46039f"
            ],
            [
             0.2222222222222222,
             "#7201a8"
            ],
            [
             0.3333333333333333,
             "#9c179e"
            ],
            [
             0.4444444444444444,
             "#bd3786"
            ],
            [
             0.5555555555555556,
             "#d8576b"
            ],
            [
             0.6666666666666666,
             "#ed7953"
            ],
            [
             0.7777777777777778,
             "#fb9f3a"
            ],
            [
             0.8888888888888888,
             "#fdca26"
            ],
            [
             1,
             "#f0f921"
            ]
           ],
           "sequentialminus": [
            [
             0,
             "#0d0887"
            ],
            [
             0.1111111111111111,
             "#46039f"
            ],
            [
             0.2222222222222222,
             "#7201a8"
            ],
            [
             0.3333333333333333,
             "#9c179e"
            ],
            [
             0.4444444444444444,
             "#bd3786"
            ],
            [
             0.5555555555555556,
             "#d8576b"
            ],
            [
             0.6666666666666666,
             "#ed7953"
            ],
            [
             0.7777777777777778,
             "#fb9f3a"
            ],
            [
             0.8888888888888888,
             "#fdca26"
            ],
            [
             1,
             "#f0f921"
            ]
           ]
          },
          "colorway": [
           "#636efa",
           "#EF553B",
           "#00cc96",
           "#ab63fa",
           "#FFA15A",
           "#19d3f3",
           "#FF6692",
           "#B6E880",
           "#FF97FF",
           "#FECB52"
          ],
          "font": {
           "color": "#2a3f5f"
          },
          "geo": {
           "bgcolor": "white",
           "lakecolor": "white",
           "landcolor": "#E5ECF6",
           "showlakes": true,
           "showland": true,
           "subunitcolor": "white"
          },
          "hoverlabel": {
           "align": "left"
          },
          "hovermode": "closest",
          "mapbox": {
           "style": "light"
          },
          "paper_bgcolor": "white",
          "plot_bgcolor": "#E5ECF6",
          "polar": {
           "angularaxis": {
            "gridcolor": "white",
            "linecolor": "white",
            "ticks": ""
           },
           "bgcolor": "#E5ECF6",
           "radialaxis": {
            "gridcolor": "white",
            "linecolor": "white",
            "ticks": ""
           }
          },
          "scene": {
           "xaxis": {
            "backgroundcolor": "#E5ECF6",
            "gridcolor": "white",
            "gridwidth": 2,
            "linecolor": "white",
            "showbackground": true,
            "ticks": "",
            "zerolinecolor": "white"
           },
           "yaxis": {
            "backgroundcolor": "#E5ECF6",
            "gridcolor": "white",
            "gridwidth": 2,
            "linecolor": "white",
            "showbackground": true,
            "ticks": "",
            "zerolinecolor": "white"
           },
           "zaxis": {
            "backgroundcolor": "#E5ECF6",
            "gridcolor": "white",
            "gridwidth": 2,
            "linecolor": "white",
            "showbackground": true,
            "ticks": "",
            "zerolinecolor": "white"
           }
          },
          "shapedefaults": {
           "line": {
            "color": "#2a3f5f"
           }
          },
          "ternary": {
           "aaxis": {
            "gridcolor": "white",
            "linecolor": "white",
            "ticks": ""
           },
           "baxis": {
            "gridcolor": "white",
            "linecolor": "white",
            "ticks": ""
           },
           "bgcolor": "#E5ECF6",
           "caxis": {
            "gridcolor": "white",
            "linecolor": "white",
            "ticks": ""
           }
          },
          "title": {
           "x": 0.05
          },
          "xaxis": {
           "automargin": true,
           "gridcolor": "white",
           "linecolor": "white",
           "ticks": "",
           "title": {
            "standoff": 15
           },
           "zerolinecolor": "white",
           "zerolinewidth": 2
          },
          "yaxis": {
           "automargin": true,
           "gridcolor": "white",
           "linecolor": "white",
           "ticks": "",
           "title": {
            "standoff": 15
           },
           "zerolinecolor": "white",
           "zerolinewidth": 2
          }
         }
        }
       }
      }
     },
     "metadata": {}
    }
   ],
   "source": [
    "import plotly.express as px \n",
    "import plotly.graph_objects as go\n",
    "\n",
    "\n",
    "k_fig=go.Figure(data=go.Scatter(x=[], y=[]))\n",
    "for individual in K_df.index: \n",
    "    if (K_df.loc[individual]['C']).size>=2:\n",
    "        k_fig.add_trace(go.Scatter(x=K_df.loc[individual]['C'], y=K_df.loc[individual]['F'],text = individual, hoverinfo = 'x+y+text',))\n",
    "\n",
    "#K_fig=(px.scatter(K_df, x='C', y='F', color=K_df.index, trendline='ols', ))\n",
    "k_fig.update_layout({'showlegend':False})\n",
    "k_fig.show()\n",
    "\n",
    "\n",
    "k_fig.write_html(\"USF_CMS_Kindices_go_2021.html\")\n",
    "\n",
    "#Note this is a work in progress! Still figuring out the best way to incorporate the K-value isopleths and a legend with Plotly. \n"
   ]
  },
  {
   "cell_type": "code",
   "execution_count": null,
   "metadata": {},
   "outputs": [],
   "source": []
  }
 ]
}